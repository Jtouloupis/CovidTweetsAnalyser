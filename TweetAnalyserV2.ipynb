{
  "nbformat": 4,
  "nbformat_minor": 0,
  "metadata": {
    "colab": {
      "provenance": [],
      "authorship_tag": "ABX9TyPRzwZgI6aTjTBfr/tJEZLg",
      "include_colab_link": true
    },
    "kernelspec": {
      "name": "python3",
      "display_name": "Python 3"
    },
    "language_info": {
      "name": "python"
    },
    "accelerator": "GPU"
  },
  "cells": [
    {
      "cell_type": "markdown",
      "metadata": {
        "id": "view-in-github",
        "colab_type": "text"
      },
      "source": [
        "<a href=\"https://colab.research.google.com/github/Jtouloupis/CovidTweetsAnalyser/blob/main/TweetAnalyserV2.ipynb\" target=\"_parent\"><img src=\"https://colab.research.google.com/assets/colab-badge.svg\" alt=\"Open In Colab\"/></a>"
      ]
    },
    {
      "cell_type": "code",
      "source": [
        "import nltk\n",
        "import re\n",
        "import string\n",
        "import re\n",
        "import matplotlib.pyplot as plt\n",
        "import string\n",
        "from nltk.corpus import stopwords\n",
        "import nltk\n",
        "from nltk.corpus import wordnet\n",
        "from nltk.stem import WordNetLemmatizer\n",
        "from nltk.tokenize.treebank import TreebankWordDetokenizer\n",
        "from collections import Counter\n",
        "from wordcloud import WordCloud\n",
        "from nltk.corpus import stopwords\n",
        "import nltk\n",
        "from gensim.utils import simple_preprocess\n",
        "from nltk.corpus import stopwords\n",
        "import gensim\n",
        "from sklearn.model_selection import train_test_split\n",
        "import spacy\n",
        "import pickle\n",
        "import warnings\n",
        "warnings.filterwarnings('ignore')\n",
        "import seaborn as sns\n",
        "from sklearn.metrics import confusion_matrix\n",
        "import matplotlib.pyplot as plt \n",
        "import tensorflow as tf\n",
        "import keras\n",
        "import numpy as np\n",
        "import pandas as pd\n",
        "import random\n",
        "print('Done')\n"
      ],
      "metadata": {
        "colab": {
          "base_uri": "https://localhost:8080/"
        },
        "id": "IrLOD7Uou7Qh",
        "outputId": "6471875f-efbd-4563-acdd-a598f61a96ce"
      },
      "execution_count": null,
      "outputs": [
        {
          "output_type": "stream",
          "name": "stdout",
          "text": [
            "Done\n"
          ]
        }
      ]
    },
    {
      "cell_type": "code",
      "source": [
        "data = pd.read_csv('/content/tweets.csv',header=0)\n"
      ],
      "metadata": {
        "id": "c5-oH7-h0l0a"
      },
      "execution_count": null,
      "outputs": []
    },
    {
      "cell_type": "code",
      "source": [
        "# Shuffle the rows using the sample function\n",
        "df_shuffled = data.sample(frac=1)\n",
        "\n",
        "# Reset the index of the shuffled DataFrame\n",
        "data = df_shuffled.reset_index(drop=True)"
      ],
      "metadata": {
        "id": "RqO9HlSCs3-Q"
      },
      "execution_count": null,
      "outputs": []
    },
    {
      "cell_type": "code",
      "source": [
        "data.describe()"
      ],
      "metadata": {
        "colab": {
          "base_uri": "https://localhost:8080/",
          "height": 300
        },
        "id": "BKlSrjltvex-",
        "outputId": "7a717891-dda6-4117-8fcb-dcc1fd329cdf"
      },
      "execution_count": null,
      "outputs": [
        {
          "output_type": "execute_result",
          "data": {
            "text/plain": [
              "              Type\n",
              "count  2507.000000\n",
              "mean      0.991623\n",
              "std       0.848176\n",
              "min       0.000000\n",
              "25%       0.000000\n",
              "50%       1.000000\n",
              "75%       2.000000\n",
              "max       2.000000"
            ],
            "text/html": [
              "\n",
              "  <div id=\"df-c2f85255-198d-475f-a0bc-bb3876d7eba1\">\n",
              "    <div class=\"colab-df-container\">\n",
              "      <div>\n",
              "<style scoped>\n",
              "    .dataframe tbody tr th:only-of-type {\n",
              "        vertical-align: middle;\n",
              "    }\n",
              "\n",
              "    .dataframe tbody tr th {\n",
              "        vertical-align: top;\n",
              "    }\n",
              "\n",
              "    .dataframe thead th {\n",
              "        text-align: right;\n",
              "    }\n",
              "</style>\n",
              "<table border=\"1\" class=\"dataframe\">\n",
              "  <thead>\n",
              "    <tr style=\"text-align: right;\">\n",
              "      <th></th>\n",
              "      <th>Type</th>\n",
              "    </tr>\n",
              "  </thead>\n",
              "  <tbody>\n",
              "    <tr>\n",
              "      <th>count</th>\n",
              "      <td>2507.000000</td>\n",
              "    </tr>\n",
              "    <tr>\n",
              "      <th>mean</th>\n",
              "      <td>0.991623</td>\n",
              "    </tr>\n",
              "    <tr>\n",
              "      <th>std</th>\n",
              "      <td>0.848176</td>\n",
              "    </tr>\n",
              "    <tr>\n",
              "      <th>min</th>\n",
              "      <td>0.000000</td>\n",
              "    </tr>\n",
              "    <tr>\n",
              "      <th>25%</th>\n",
              "      <td>0.000000</td>\n",
              "    </tr>\n",
              "    <tr>\n",
              "      <th>50%</th>\n",
              "      <td>1.000000</td>\n",
              "    </tr>\n",
              "    <tr>\n",
              "      <th>75%</th>\n",
              "      <td>2.000000</td>\n",
              "    </tr>\n",
              "    <tr>\n",
              "      <th>max</th>\n",
              "      <td>2.000000</td>\n",
              "    </tr>\n",
              "  </tbody>\n",
              "</table>\n",
              "</div>\n",
              "      <button class=\"colab-df-convert\" onclick=\"convertToInteractive('df-c2f85255-198d-475f-a0bc-bb3876d7eba1')\"\n",
              "              title=\"Convert this dataframe to an interactive table.\"\n",
              "              style=\"display:none;\">\n",
              "        \n",
              "  <svg xmlns=\"http://www.w3.org/2000/svg\" height=\"24px\"viewBox=\"0 0 24 24\"\n",
              "       width=\"24px\">\n",
              "    <path d=\"M0 0h24v24H0V0z\" fill=\"none\"/>\n",
              "    <path d=\"M18.56 5.44l.94 2.06.94-2.06 2.06-.94-2.06-.94-.94-2.06-.94 2.06-2.06.94zm-11 1L8.5 8.5l.94-2.06 2.06-.94-2.06-.94L8.5 2.5l-.94 2.06-2.06.94zm10 10l.94 2.06.94-2.06 2.06-.94-2.06-.94-.94-2.06-.94 2.06-2.06.94z\"/><path d=\"M17.41 7.96l-1.37-1.37c-.4-.4-.92-.59-1.43-.59-.52 0-1.04.2-1.43.59L10.3 9.45l-7.72 7.72c-.78.78-.78 2.05 0 2.83L4 21.41c.39.39.9.59 1.41.59.51 0 1.02-.2 1.41-.59l7.78-7.78 2.81-2.81c.8-.78.8-2.07 0-2.86zM5.41 20L4 18.59l7.72-7.72 1.47 1.35L5.41 20z\"/>\n",
              "  </svg>\n",
              "      </button>\n",
              "      \n",
              "  <style>\n",
              "    .colab-df-container {\n",
              "      display:flex;\n",
              "      flex-wrap:wrap;\n",
              "      gap: 12px;\n",
              "    }\n",
              "\n",
              "    .colab-df-convert {\n",
              "      background-color: #E8F0FE;\n",
              "      border: none;\n",
              "      border-radius: 50%;\n",
              "      cursor: pointer;\n",
              "      display: none;\n",
              "      fill: #1967D2;\n",
              "      height: 32px;\n",
              "      padding: 0 0 0 0;\n",
              "      width: 32px;\n",
              "    }\n",
              "\n",
              "    .colab-df-convert:hover {\n",
              "      background-color: #E2EBFA;\n",
              "      box-shadow: 0px 1px 2px rgba(60, 64, 67, 0.3), 0px 1px 3px 1px rgba(60, 64, 67, 0.15);\n",
              "      fill: #174EA6;\n",
              "    }\n",
              "\n",
              "    [theme=dark] .colab-df-convert {\n",
              "      background-color: #3B4455;\n",
              "      fill: #D2E3FC;\n",
              "    }\n",
              "\n",
              "    [theme=dark] .colab-df-convert:hover {\n",
              "      background-color: #434B5C;\n",
              "      box-shadow: 0px 1px 3px 1px rgba(0, 0, 0, 0.15);\n",
              "      filter: drop-shadow(0px 1px 2px rgba(0, 0, 0, 0.3));\n",
              "      fill: #FFFFFF;\n",
              "    }\n",
              "  </style>\n",
              "\n",
              "      <script>\n",
              "        const buttonEl =\n",
              "          document.querySelector('#df-c2f85255-198d-475f-a0bc-bb3876d7eba1 button.colab-df-convert');\n",
              "        buttonEl.style.display =\n",
              "          google.colab.kernel.accessAllowed ? 'block' : 'none';\n",
              "\n",
              "        async function convertToInteractive(key) {\n",
              "          const element = document.querySelector('#df-c2f85255-198d-475f-a0bc-bb3876d7eba1');\n",
              "          const dataTable =\n",
              "            await google.colab.kernel.invokeFunction('convertToInteractive',\n",
              "                                                     [key], {});\n",
              "          if (!dataTable) return;\n",
              "\n",
              "          const docLinkHtml = 'Like what you see? Visit the ' +\n",
              "            '<a target=\"_blank\" href=https://colab.research.google.com/notebooks/data_table.ipynb>data table notebook</a>'\n",
              "            + ' to learn more about interactive tables.';\n",
              "          element.innerHTML = '';\n",
              "          dataTable['output_type'] = 'display_data';\n",
              "          await google.colab.output.renderOutput(dataTable, element);\n",
              "          const docLink = document.createElement('div');\n",
              "          docLink.innerHTML = docLinkHtml;\n",
              "          element.appendChild(docLink);\n",
              "        }\n",
              "      </script>\n",
              "    </div>\n",
              "  </div>\n",
              "  "
            ]
          },
          "metadata": {},
          "execution_count": 6
        }
      ]
    },
    {
      "cell_type": "code",
      "source": [
        "#Is there any other different value than neutral, negative and positive?\n",
        "data['Type'].unique()"
      ],
      "metadata": {
        "colab": {
          "base_uri": "https://localhost:8080/"
        },
        "id": "TAYR5jm303SU",
        "outputId": "5d43afe4-ce7e-4820-b51b-96192fca0f55"
      },
      "execution_count": null,
      "outputs": [
        {
          "output_type": "execute_result",
          "data": {
            "text/plain": [
              "array([0, 1, 2])"
            ]
          },
          "metadata": {},
          "execution_count": 7
        }
      ]
    },
    {
      "cell_type": "code",
      "source": [
        "#How's distributed the dataset? Is it biased?\n",
        "data.groupby('Type').nunique()"
      ],
      "metadata": {
        "colab": {
          "base_uri": "https://localhost:8080/",
          "height": 175
        },
        "id": "-k0kucgUw_AJ",
        "outputId": "a47d81e0-f422-49b4-f483-eb495d42f05c"
      },
      "execution_count": null,
      "outputs": [
        {
          "output_type": "execute_result",
          "data": {
            "text/plain": [
              "      Tweets  Url\n",
              "Type             \n",
              "0        901  897\n",
              "1        697  692\n",
              "2        889  240"
            ],
            "text/html": [
              "\n",
              "  <div id=\"df-ad31ff83-3540-4e83-babd-70a45e2d0150\">\n",
              "    <div class=\"colab-df-container\">\n",
              "      <div>\n",
              "<style scoped>\n",
              "    .dataframe tbody tr th:only-of-type {\n",
              "        vertical-align: middle;\n",
              "    }\n",
              "\n",
              "    .dataframe tbody tr th {\n",
              "        vertical-align: top;\n",
              "    }\n",
              "\n",
              "    .dataframe thead th {\n",
              "        text-align: right;\n",
              "    }\n",
              "</style>\n",
              "<table border=\"1\" class=\"dataframe\">\n",
              "  <thead>\n",
              "    <tr style=\"text-align: right;\">\n",
              "      <th></th>\n",
              "      <th>Tweets</th>\n",
              "      <th>Url</th>\n",
              "    </tr>\n",
              "    <tr>\n",
              "      <th>Type</th>\n",
              "      <th></th>\n",
              "      <th></th>\n",
              "    </tr>\n",
              "  </thead>\n",
              "  <tbody>\n",
              "    <tr>\n",
              "      <th>0</th>\n",
              "      <td>901</td>\n",
              "      <td>897</td>\n",
              "    </tr>\n",
              "    <tr>\n",
              "      <th>1</th>\n",
              "      <td>697</td>\n",
              "      <td>692</td>\n",
              "    </tr>\n",
              "    <tr>\n",
              "      <th>2</th>\n",
              "      <td>889</td>\n",
              "      <td>240</td>\n",
              "    </tr>\n",
              "  </tbody>\n",
              "</table>\n",
              "</div>\n",
              "      <button class=\"colab-df-convert\" onclick=\"convertToInteractive('df-ad31ff83-3540-4e83-babd-70a45e2d0150')\"\n",
              "              title=\"Convert this dataframe to an interactive table.\"\n",
              "              style=\"display:none;\">\n",
              "        \n",
              "  <svg xmlns=\"http://www.w3.org/2000/svg\" height=\"24px\"viewBox=\"0 0 24 24\"\n",
              "       width=\"24px\">\n",
              "    <path d=\"M0 0h24v24H0V0z\" fill=\"none\"/>\n",
              "    <path d=\"M18.56 5.44l.94 2.06.94-2.06 2.06-.94-2.06-.94-.94-2.06-.94 2.06-2.06.94zm-11 1L8.5 8.5l.94-2.06 2.06-.94-2.06-.94L8.5 2.5l-.94 2.06-2.06.94zm10 10l.94 2.06.94-2.06 2.06-.94-2.06-.94-.94-2.06-.94 2.06-2.06.94z\"/><path d=\"M17.41 7.96l-1.37-1.37c-.4-.4-.92-.59-1.43-.59-.52 0-1.04.2-1.43.59L10.3 9.45l-7.72 7.72c-.78.78-.78 2.05 0 2.83L4 21.41c.39.39.9.59 1.41.59.51 0 1.02-.2 1.41-.59l7.78-7.78 2.81-2.81c.8-.78.8-2.07 0-2.86zM5.41 20L4 18.59l7.72-7.72 1.47 1.35L5.41 20z\"/>\n",
              "  </svg>\n",
              "      </button>\n",
              "      \n",
              "  <style>\n",
              "    .colab-df-container {\n",
              "      display:flex;\n",
              "      flex-wrap:wrap;\n",
              "      gap: 12px;\n",
              "    }\n",
              "\n",
              "    .colab-df-convert {\n",
              "      background-color: #E8F0FE;\n",
              "      border: none;\n",
              "      border-radius: 50%;\n",
              "      cursor: pointer;\n",
              "      display: none;\n",
              "      fill: #1967D2;\n",
              "      height: 32px;\n",
              "      padding: 0 0 0 0;\n",
              "      width: 32px;\n",
              "    }\n",
              "\n",
              "    .colab-df-convert:hover {\n",
              "      background-color: #E2EBFA;\n",
              "      box-shadow: 0px 1px 2px rgba(60, 64, 67, 0.3), 0px 1px 3px 1px rgba(60, 64, 67, 0.15);\n",
              "      fill: #174EA6;\n",
              "    }\n",
              "\n",
              "    [theme=dark] .colab-df-convert {\n",
              "      background-color: #3B4455;\n",
              "      fill: #D2E3FC;\n",
              "    }\n",
              "\n",
              "    [theme=dark] .colab-df-convert:hover {\n",
              "      background-color: #434B5C;\n",
              "      box-shadow: 0px 1px 3px 1px rgba(0, 0, 0, 0.15);\n",
              "      filter: drop-shadow(0px 1px 2px rgba(0, 0, 0, 0.3));\n",
              "      fill: #FFFFFF;\n",
              "    }\n",
              "  </style>\n",
              "\n",
              "      <script>\n",
              "        const buttonEl =\n",
              "          document.querySelector('#df-ad31ff83-3540-4e83-babd-70a45e2d0150 button.colab-df-convert');\n",
              "        buttonEl.style.display =\n",
              "          google.colab.kernel.accessAllowed ? 'block' : 'none';\n",
              "\n",
              "        async function convertToInteractive(key) {\n",
              "          const element = document.querySelector('#df-ad31ff83-3540-4e83-babd-70a45e2d0150');\n",
              "          const dataTable =\n",
              "            await google.colab.kernel.invokeFunction('convertToInteractive',\n",
              "                                                     [key], {});\n",
              "          if (!dataTable) return;\n",
              "\n",
              "          const docLinkHtml = 'Like what you see? Visit the ' +\n",
              "            '<a target=\"_blank\" href=https://colab.research.google.com/notebooks/data_table.ipynb>data table notebook</a>'\n",
              "            + ' to learn more about interactive tables.';\n",
              "          element.innerHTML = '';\n",
              "          dataTable['output_type'] = 'display_data';\n",
              "          await google.colab.output.renderOutput(dataTable, element);\n",
              "          const docLink = document.createElement('div');\n",
              "          docLink.innerHTML = docLinkHtml;\n",
              "          element.appendChild(docLink);\n",
              "        }\n",
              "      </script>\n",
              "    </div>\n",
              "  </div>\n",
              "  "
            ]
          },
          "metadata": {},
          "execution_count": 8
        }
      ]
    },
    {
      "cell_type": "code",
      "source": [
        "#Let's keep only the columns that we're going to use\n",
        "data = data[['Tweets','Type']]\n",
        "data.head()\n",
        "  "
      ],
      "metadata": {
        "colab": {
          "base_uri": "https://localhost:8080/",
          "height": 206
        },
        "id": "brTuPp-9vhh9",
        "outputId": "12123262-bb1b-4208-a237-9d0240dfdc4f"
      },
      "execution_count": null,
      "outputs": [
        {
          "output_type": "execute_result",
          "data": {
            "text/plain": [
              "                                              Tweets  Type\n",
              "0  PSA: if you get covid, make sure you get a PCR...     0\n",
              "1  This is what they want. They want you lost, co...     1\n",
              "2  Spent the afternoon at Heath Hospital Cardiff ...     1\n",
              "3  Wanting HC workers to wear masks & wanting bet...     0\n",
              "4  Whats going on?#KeepMasksInHealthCare https://...     0"
            ],
            "text/html": [
              "\n",
              "  <div id=\"df-d1bf9032-687b-4258-a692-f0513b2e8940\">\n",
              "    <div class=\"colab-df-container\">\n",
              "      <div>\n",
              "<style scoped>\n",
              "    .dataframe tbody tr th:only-of-type {\n",
              "        vertical-align: middle;\n",
              "    }\n",
              "\n",
              "    .dataframe tbody tr th {\n",
              "        vertical-align: top;\n",
              "    }\n",
              "\n",
              "    .dataframe thead th {\n",
              "        text-align: right;\n",
              "    }\n",
              "</style>\n",
              "<table border=\"1\" class=\"dataframe\">\n",
              "  <thead>\n",
              "    <tr style=\"text-align: right;\">\n",
              "      <th></th>\n",
              "      <th>Tweets</th>\n",
              "      <th>Type</th>\n",
              "    </tr>\n",
              "  </thead>\n",
              "  <tbody>\n",
              "    <tr>\n",
              "      <th>0</th>\n",
              "      <td>PSA: if you get covid, make sure you get a PCR...</td>\n",
              "      <td>0</td>\n",
              "    </tr>\n",
              "    <tr>\n",
              "      <th>1</th>\n",
              "      <td>This is what they want. They want you lost, co...</td>\n",
              "      <td>1</td>\n",
              "    </tr>\n",
              "    <tr>\n",
              "      <th>2</th>\n",
              "      <td>Spent the afternoon at Heath Hospital Cardiff ...</td>\n",
              "      <td>1</td>\n",
              "    </tr>\n",
              "    <tr>\n",
              "      <th>3</th>\n",
              "      <td>Wanting HC workers to wear masks &amp; wanting bet...</td>\n",
              "      <td>0</td>\n",
              "    </tr>\n",
              "    <tr>\n",
              "      <th>4</th>\n",
              "      <td>Whats going on?#KeepMasksInHealthCare https://...</td>\n",
              "      <td>0</td>\n",
              "    </tr>\n",
              "  </tbody>\n",
              "</table>\n",
              "</div>\n",
              "      <button class=\"colab-df-convert\" onclick=\"convertToInteractive('df-d1bf9032-687b-4258-a692-f0513b2e8940')\"\n",
              "              title=\"Convert this dataframe to an interactive table.\"\n",
              "              style=\"display:none;\">\n",
              "        \n",
              "  <svg xmlns=\"http://www.w3.org/2000/svg\" height=\"24px\"viewBox=\"0 0 24 24\"\n",
              "       width=\"24px\">\n",
              "    <path d=\"M0 0h24v24H0V0z\" fill=\"none\"/>\n",
              "    <path d=\"M18.56 5.44l.94 2.06.94-2.06 2.06-.94-2.06-.94-.94-2.06-.94 2.06-2.06.94zm-11 1L8.5 8.5l.94-2.06 2.06-.94-2.06-.94L8.5 2.5l-.94 2.06-2.06.94zm10 10l.94 2.06.94-2.06 2.06-.94-2.06-.94-.94-2.06-.94 2.06-2.06.94z\"/><path d=\"M17.41 7.96l-1.37-1.37c-.4-.4-.92-.59-1.43-.59-.52 0-1.04.2-1.43.59L10.3 9.45l-7.72 7.72c-.78.78-.78 2.05 0 2.83L4 21.41c.39.39.9.59 1.41.59.51 0 1.02-.2 1.41-.59l7.78-7.78 2.81-2.81c.8-.78.8-2.07 0-2.86zM5.41 20L4 18.59l7.72-7.72 1.47 1.35L5.41 20z\"/>\n",
              "  </svg>\n",
              "      </button>\n",
              "      \n",
              "  <style>\n",
              "    .colab-df-container {\n",
              "      display:flex;\n",
              "      flex-wrap:wrap;\n",
              "      gap: 12px;\n",
              "    }\n",
              "\n",
              "    .colab-df-convert {\n",
              "      background-color: #E8F0FE;\n",
              "      border: none;\n",
              "      border-radius: 50%;\n",
              "      cursor: pointer;\n",
              "      display: none;\n",
              "      fill: #1967D2;\n",
              "      height: 32px;\n",
              "      padding: 0 0 0 0;\n",
              "      width: 32px;\n",
              "    }\n",
              "\n",
              "    .colab-df-convert:hover {\n",
              "      background-color: #E2EBFA;\n",
              "      box-shadow: 0px 1px 2px rgba(60, 64, 67, 0.3), 0px 1px 3px 1px rgba(60, 64, 67, 0.15);\n",
              "      fill: #174EA6;\n",
              "    }\n",
              "\n",
              "    [theme=dark] .colab-df-convert {\n",
              "      background-color: #3B4455;\n",
              "      fill: #D2E3FC;\n",
              "    }\n",
              "\n",
              "    [theme=dark] .colab-df-convert:hover {\n",
              "      background-color: #434B5C;\n",
              "      box-shadow: 0px 1px 3px 1px rgba(0, 0, 0, 0.15);\n",
              "      filter: drop-shadow(0px 1px 2px rgba(0, 0, 0, 0.3));\n",
              "      fill: #FFFFFF;\n",
              "    }\n",
              "  </style>\n",
              "\n",
              "      <script>\n",
              "        const buttonEl =\n",
              "          document.querySelector('#df-d1bf9032-687b-4258-a692-f0513b2e8940 button.colab-df-convert');\n",
              "        buttonEl.style.display =\n",
              "          google.colab.kernel.accessAllowed ? 'block' : 'none';\n",
              "\n",
              "        async function convertToInteractive(key) {\n",
              "          const element = document.querySelector('#df-d1bf9032-687b-4258-a692-f0513b2e8940');\n",
              "          const dataTable =\n",
              "            await google.colab.kernel.invokeFunction('convertToInteractive',\n",
              "                                                     [key], {});\n",
              "          if (!dataTable) return;\n",
              "\n",
              "          const docLinkHtml = 'Like what you see? Visit the ' +\n",
              "            '<a target=\"_blank\" href=https://colab.research.google.com/notebooks/data_table.ipynb>data table notebook</a>'\n",
              "            + ' to learn more about interactive tables.';\n",
              "          element.innerHTML = '';\n",
              "          dataTable['output_type'] = 'display_data';\n",
              "          await google.colab.output.renderOutput(dataTable, element);\n",
              "          const docLink = document.createElement('div');\n",
              "          docLink.innerHTML = docLinkHtml;\n",
              "          element.appendChild(docLink);\n",
              "        }\n",
              "      </script>\n",
              "    </div>\n",
              "  </div>\n",
              "  "
            ]
          },
          "metadata": {},
          "execution_count": 9
        }
      ]
    },
    {
      "cell_type": "code",
      "source": [
        "#Is there any null value?\n",
        "data[\"Tweets\"].isnull().sum()"
      ],
      "metadata": {
        "colab": {
          "base_uri": "https://localhost:8080/"
        },
        "id": "HLxkfUXf071v",
        "outputId": "edd4db49-0d5f-42fb-bc41-ec01505b7f44"
      },
      "execution_count": null,
      "outputs": [
        {
          "output_type": "execute_result",
          "data": {
            "text/plain": [
              "0"
            ]
          },
          "metadata": {},
          "execution_count": 10
        }
      ]
    },
    {
      "cell_type": "code",
      "source": [
        "#Let's fill the only null value.\n",
        "data[\"Tweets\"].fillna(\"No content\", inplace = True)"
      ],
      "metadata": {
        "id": "xcs9K5ip0-g9"
      },
      "execution_count": null,
      "outputs": []
    },
    {
      "cell_type": "code",
      "source": [
        "print(data)"
      ],
      "metadata": {
        "colab": {
          "base_uri": "https://localhost:8080/"
        },
        "id": "LdcVDfwv1GHY",
        "outputId": "fcef5ea4-d67c-4d4b-b7f9-afbdc4bb30d8"
      },
      "execution_count": null,
      "outputs": [
        {
          "output_type": "stream",
          "name": "stdout",
          "text": [
            "                                                 Tweets  Type\n",
            "0     PSA: if you get covid, make sure you get a PCR...     0\n",
            "1     This is what they want. They want you lost, co...     1\n",
            "2     Spent the afternoon at Heath Hospital Cardiff ...     1\n",
            "3     Wanting HC workers to wear masks & wanting bet...     0\n",
            "4     Whats going on?#KeepMasksInHealthCare https://...     0\n",
            "...                                                 ...   ...\n",
            "2502  Almost infinite line in front of supermarket d...     2\n",
            "2503  @SKGandhiMD Thank you.\\n\\nTo think of anyone i...     0\n",
            "2504  I have to wait almost 3 weeks for my food deli...     2\n",
            "2505  Such a deadly virus that high risk patients on...     1\n",
            "2506  Yet more evidence of persistent damage to majo...     0\n",
            "\n",
            "[2507 rows x 2 columns]\n"
          ]
        }
      ]
    },
    {
      "cell_type": "code",
      "source": [
        "def depure_data(data):\n",
        "    \n",
        "    #Removing URLs with a regular expression\n",
        "    url_pattern = re.compile(r'https?://\\S+|www\\.\\S+')\n",
        "    data = url_pattern.sub(r'', data)\n",
        "\n",
        "    # Remove Emails\n",
        "    data = re.sub('\\S*@\\S*\\s?', '', data)\n",
        "\n",
        "    # Remove new line characters\n",
        "    data = re.sub('\\s+', ' ', data)\n",
        "\n",
        "    # Remove distracting single quotes\n",
        "    data = re.sub(\"\\'\", \"\", data)\n",
        "        \n",
        "    return data"
      ],
      "metadata": {
        "id": "nrnSB3CZ0_29"
      },
      "execution_count": null,
      "outputs": []
    },
    {
      "cell_type": "code",
      "source": [
        "temp = []\n",
        "#Splitting pd.Series to list\n",
        "data_to_list = data['Tweets'].values.tolist()\n",
        "for i in range(len(data_to_list)):\n",
        "    temp.append(depure_data(data_to_list[i]))\n",
        "list(temp[:10])"
      ],
      "metadata": {
        "colab": {
          "base_uri": "https://localhost:8080/"
        },
        "id": "Oz2yXEeX1BHo",
        "outputId": "1f7e3de9-4595-4c1a-ed1e-5e25cd77995a"
      },
      "execution_count": null,
      "outputs": [
        {
          "output_type": "execute_result",
          "data": {
            "text/plain": [
              "['PSA: if you get covid, make sure you get a PCR test! I understand you might have to pay for it now, which REALLY sucks. However, if you end up with long covid and dont have a PCR test, you might find yourself restricted from the few resources available, along with st',\n",
              " 'This is what they want. They want you lost, confused, overwhelmed and not knowing who or what to believe. Stay the course. Stay strong. Stay alert. Stay safe. Stay awake. #CovidIsAHoax #CovidIsALie #Plandemic #Scamdemic #OperationLockstep #Event201 #Agenda21 #MedicalTyranny #NWO',\n",
              " 'Spent the afternoon at Heath Hospital Cardiff A&E. Still about 90% people wearing mask. Lying bugger on this form, didnt provide a mask, probably thought it wasnt worthwhile after asking about my jabs #scamdem',\n",
              " 'Wanting HC workers to wear masks & wanting better air filtration while seeking healthcare isnt out of an \"unfounded fear\" that we may get Covid. My dear friend, Carissa, contracted Covid while in the hospital for other treatments Nov 20 & died. She was 30. #BringBackMasks',\n",
              " 'Whats going on?#KeepMasksInHealthCare ',\n",
              " 'Shes a greedy 8nsider trading wef nazi agent who should be locked up for treason She is a domestic terrorist period #ww3isuponus #lockupcorruptpoliticians #destroywef #climatefraud #scamdemic #blmfraud #electionfraud #cancelwokecorporations',\n",
              " 'Conspiracy theorists is the name CIA uses to discredit people. Its a spoiler alert. My sister died after her 4. My relative 24 had a heart attack the week he got his. Tell me again how its safe. Have you checked VAERS lately? Or that life insurance payouts are up',\n",
              " 'It is past time for Ontario and jurisdictions across North America to reinstate masking in workplaces, stores, pharmacies, and other indoor commercial and public spaces. #wearamask #getvaccinated',\n",
              " 'Children ages 5-11 are now eligible for #COVID19 boosters, which help keep our immunity strong! Visit to find a vaccine near you or call (833) 422- 4255. #GetBoosted #CaliforniaForAll',\n",
              " 'Couldnt join our online phonebook? No problem! Use this guide to make calls to our elected officials. Tell electeds: we need legislative oversight of Tell hospitals: Issue a statement saying you will #KeepMasksInHealthCare heres our guide ']"
            ]
          },
          "metadata": {},
          "execution_count": 14
        }
      ]
    },
    {
      "cell_type": "code",
      "source": [
        "def sent_to_words(sentences):\n",
        "    for sentence in sentences:\n",
        "        yield(gensim.utils.simple_preprocess(str(sentence), deacc=True))  # deacc=True removes punctuations\n",
        "        \n",
        "\n",
        "data_words = list(sent_to_words(temp))\n",
        "\n",
        "print(data_words[:5])"
      ],
      "metadata": {
        "colab": {
          "base_uri": "https://localhost:8080/"
        },
        "id": "uon8UX3C1C2O",
        "outputId": "65530586-f03f-4bb9-eec1-2305e29de63f"
      },
      "execution_count": null,
      "outputs": [
        {
          "output_type": "stream",
          "name": "stdout",
          "text": [
            "[['psa', 'if', 'you', 'get', 'covid', 'make', 'sure', 'you', 'get', 'pcr', 'test', 'understand', 'you', 'might', 'have', 'to', 'pay', 'for', 'it', 'now', 'which', 'really', 'sucks', 'however', 'if', 'you', 'end', 'up', 'with', 'long', 'covid', 'and', 'dont', 'have', 'pcr', 'test', 'you', 'might', 'find', 'yourself', 'restricted', 'from', 'the', 'few', 'resources', 'available', 'along', 'with', 'st'], ['this', 'is', 'what', 'they', 'want', 'they', 'want', 'you', 'lost', 'confused', 'overwhelmed', 'and', 'not', 'knowing', 'who', 'or', 'what', 'to', 'believe', 'stay', 'the', 'course', 'stay', 'strong', 'stay', 'alert', 'stay', 'safe', 'stay', 'awake', 'covidisahoax', 'covidisalie', 'plandemic', 'scamdemic', 'event', 'agenda', 'medicaltyranny', 'nwo'], ['spent', 'the', 'afternoon', 'at', 'heath', 'hospital', 'cardiff', 'still', 'about', 'people', 'wearing', 'mask', 'lying', 'bugger', 'on', 'this', 'form', 'didnt', 'provide', 'mask', 'probably', 'thought', 'it', 'wasnt', 'worthwhile', 'after', 'asking', 'about', 'my', 'jabs', 'scamdem'], ['wanting', 'hc', 'workers', 'to', 'wear', 'masks', 'wanting', 'better', 'air', 'filtration', 'while', 'seeking', 'healthcare', 'isnt', 'out', 'of', 'an', 'unfounded', 'fear', 'that', 'we', 'may', 'get', 'covid', 'my', 'dear', 'friend', 'carissa', 'contracted', 'covid', 'while', 'in', 'the', 'hospital', 'for', 'other', 'treatments', 'nov', 'died', 'she', 'was', 'bringbackmasks'], ['whats', 'going', 'on']]\n"
          ]
        }
      ]
    },
    {
      "cell_type": "code",
      "source": [
        "len(data_words)\n"
      ],
      "metadata": {
        "colab": {
          "base_uri": "https://localhost:8080/"
        },
        "id": "TLjWzUQS1Fww",
        "outputId": "b05f2100-9d4b-4008-e887-22cc7ddab538"
      },
      "execution_count": null,
      "outputs": [
        {
          "output_type": "execute_result",
          "data": {
            "text/plain": [
              "2507"
            ]
          },
          "metadata": {},
          "execution_count": 16
        }
      ]
    },
    {
      "cell_type": "code",
      "source": [
        "def detokenize(text):\n",
        "    return TreebankWordDetokenizer().detokenize(text)"
      ],
      "metadata": {
        "id": "2WAIZKDZ1HkY"
      },
      "execution_count": null,
      "outputs": []
    },
    {
      "cell_type": "code",
      "source": [
        "data2 = []\n",
        "for i in range(len(data_words)):\n",
        "    data2.append(detokenize(data_words[i]))\n",
        "print(data2[:5])"
      ],
      "metadata": {
        "colab": {
          "base_uri": "https://localhost:8080/"
        },
        "id": "-fljVHwu1Iem",
        "outputId": "45d0f266-94f0-4003-e830-68876c8e5f32"
      },
      "execution_count": null,
      "outputs": [
        {
          "output_type": "stream",
          "name": "stdout",
          "text": [
            "['psa if you get covid make sure you get pcr test understand you might have to pay for it now which really sucks however if you end up with long covid and dont have pcr test you might find yourself restricted from the few resources available along with st', 'this is what they want they want you lost confused overwhelmed and not knowing who or what to believe stay the course stay strong stay alert stay safe stay awake covidisahoax covidisalie plandemic scamdemic event agenda medicaltyranny nwo', 'spent the afternoon at heath hospital cardiff still about people wearing mask lying bugger on this form didnt provide mask probably thought it wasnt worthwhile after asking about my jabs scamdem', 'wanting hc workers to wear masks wanting better air filtration while seeking healthcare isnt out of an unfounded fear that we may get covid my dear friend carissa contracted covid while in the hospital for other treatments nov died she was bringbackmasks', 'whats going on']\n"
          ]
        }
      ]
    },
    {
      "cell_type": "code",
      "source": [
        "#data2['Type'].unique()"
      ],
      "metadata": {
        "id": "F9a-OGKP7DSx"
      },
      "execution_count": null,
      "outputs": []
    },
    {
      "cell_type": "code",
      "source": [
        "labels = np.array(data['Type'])\n",
        "labels = tf.keras.utils.to_categorical(labels, 3, dtype=\"float32\")"
      ],
      "metadata": {
        "id": "EsOZYhDM6xWd"
      },
      "execution_count": null,
      "outputs": []
    },
    {
      "cell_type": "code",
      "source": [
        "print(labels)\n"
      ],
      "metadata": {
        "id": "QxCV7n3E_D49",
        "colab": {
          "base_uri": "https://localhost:8080/"
        },
        "outputId": "5e138ffb-32d5-405b-816a-ae0adba6fe2b"
      },
      "execution_count": null,
      "outputs": [
        {
          "output_type": "stream",
          "name": "stdout",
          "text": [
            "[[1. 0. 0.]\n",
            " [0. 1. 0.]\n",
            " [0. 1. 0.]\n",
            " ...\n",
            " [0. 0. 1.]\n",
            " [0. 1. 0.]\n",
            " [1. 0. 0.]]\n"
          ]
        }
      ]
    },
    {
      "cell_type": "code",
      "source": [
        "data2 = np.array(data2)\n"
      ],
      "metadata": {
        "id": "T49_gWWa12cc"
      },
      "execution_count": null,
      "outputs": []
    },
    {
      "cell_type": "code",
      "source": [
        "from keras.models import Sequential\n",
        "from keras import layers\n",
        "from keras.optimizers import RMSprop,Adam\n",
        "from keras.preprocessing.text import Tokenizer\n",
        "from tensorflow.keras.preprocessing.sequence import pad_sequences\n",
        "from keras import regularizers\n",
        "from keras import backend as K\n",
        "from keras.callbacks import ModelCheckpoint\n",
        "\n",
        "max_words = 5000\n",
        "max_len = 200\n",
        "\n",
        "tokenizer = Tokenizer(num_words=max_words)\n",
        "tokenizer.fit_on_texts(data2)\n",
        "sequences = tokenizer.texts_to_sequences(data2)\n",
        "tweets = pad_sequences(sequences, maxlen=max_len)\n",
        "print(tweets)\n"
      ],
      "metadata": {
        "id": "22c3_d5c5Mq8",
        "colab": {
          "base_uri": "https://localhost:8080/"
        },
        "outputId": "bf61884d-3bf4-4aff-d56c-b6e7ad18b9c8"
      },
      "execution_count": null,
      "outputs": [
        {
          "output_type": "stream",
          "name": "stdout",
          "text": [
            "[[   0    0    0 ... 1450   17  441]\n",
            " [   0    0    0 ...  281 2053 1256]\n",
            " [   0    0    0 ...   28  262 2692]\n",
            " ...\n",
            " [   0    0    0 ...  219   15 2204]\n",
            " [   0    0    0 ... 1277   23  172]\n",
            " [   0    0    0 ...   24   65 3991]]\n"
          ]
        }
      ]
    },
    {
      "cell_type": "code",
      "source": [
        "print(labels)\n"
      ],
      "metadata": {
        "id": "DolnREdw-8Qz",
        "colab": {
          "base_uri": "https://localhost:8080/"
        },
        "outputId": "bf435af6-cfe6-4387-8f17-49728576bfc8"
      },
      "execution_count": null,
      "outputs": [
        {
          "output_type": "stream",
          "name": "stdout",
          "text": [
            "[[1. 0. 0.]\n",
            " [0. 1. 0.]\n",
            " [0. 1. 0.]\n",
            " ...\n",
            " [0. 0. 1.]\n",
            " [0. 1. 0.]\n",
            " [1. 0. 0.]]\n"
          ]
        }
      ]
    },
    {
      "cell_type": "code",
      "source": [
        "##from keras.layers import Embedding\n",
        "#embedding_layer = Embedding(1000, 64)"
      ],
      "metadata": {
        "id": "CK7zhRCmwQrT"
      },
      "execution_count": null,
      "outputs": []
    },
    {
      "cell_type": "code",
      "source": [
        "#Splitting the data\n",
        "#X_train, X_test, y_train, y_test = train_test_split(tweets,labels, random_state=0)\n",
        "X_train = tweets[0:2000]\n",
        "y_train = labels[0:2000]\n",
        "X_test =  tweets[2000:2508]\n",
        "y_test = labels[2000:2508]\n",
        "\n",
        "\n",
        "print (len(X_train),len(X_test),len(y_train),len(y_test))"
      ],
      "metadata": {
        "id": "cj4jw6wK_zZ8",
        "colab": {
          "base_uri": "https://localhost:8080/"
        },
        "outputId": "c2c7a136-3d3a-497f-a4d4-4b529a96e9c1"
      },
      "execution_count": null,
      "outputs": [
        {
          "output_type": "stream",
          "name": "stdout",
          "text": [
            "2000 507 2000 507\n"
          ]
        }
      ]
    },
    {
      "cell_type": "code",
      "source": [
        "model2 = Sequential()\n",
        "#model2.add(layers.Embedding(max_words, 40, input_length=max_len))\n",
        "model2.add(layers.Embedding(5000, 32, input_length=200))\n",
        "model2.add(layers.Bidirectional(layers.LSTM(20,dropout=0.6)))\n",
        "model2.add(layers.Dense(3,activation='softmax'))\n",
        "model2.compile(optimizer='rmsprop',loss='categorical_crossentropy', metrics=['accuracy'])\n",
        "#Implementing model checkpoins to save the best metric and do not lose it on training.\n",
        "checkpoint2 = ModelCheckpoint(\"best_model2.hdf5\", monitor='val_accuracy', verbose=1,save_best_only=True, mode='auto', period=1,save_weights_only=False)\n",
        "history = model2.fit(X_train, y_train, epochs=25,validation_data=(X_test, y_test),callbacks=[checkpoint2])"
      ],
      "metadata": {
        "id": "tXGp7iJUwSw4",
        "colab": {
          "base_uri": "https://localhost:8080/"
        },
        "outputId": "b6d895a8-725b-43ce-f9be-cdcb75717a1b"
      },
      "execution_count": null,
      "outputs": [
        {
          "output_type": "stream",
          "name": "stderr",
          "text": [
            "WARNING:tensorflow:`period` argument is deprecated. Please use `save_freq` to specify the frequency in number of batches seen.\n"
          ]
        },
        {
          "output_type": "stream",
          "name": "stdout",
          "text": [
            "Epoch 1/25\n",
            "63/63 [==============================] - ETA: 0s - loss: 1.0794 - accuracy: 0.4430\n",
            "Epoch 1: val_accuracy improved from -inf to 0.53846, saving model to best_model2.hdf5\n",
            "63/63 [==============================] - 14s 153ms/step - loss: 1.0794 - accuracy: 0.4430 - val_loss: 1.0519 - val_accuracy: 0.5385\n",
            "Epoch 2/25\n",
            "63/63 [==============================] - ETA: 0s - loss: 0.9735 - accuracy: 0.5580\n",
            "Epoch 2: val_accuracy improved from 0.53846 to 0.62919, saving model to best_model2.hdf5\n",
            "63/63 [==============================] - 7s 110ms/step - loss: 0.9735 - accuracy: 0.5580 - val_loss: 0.8838 - val_accuracy: 0.6292\n",
            "Epoch 3/25\n",
            "63/63 [==============================] - ETA: 0s - loss: 0.7935 - accuracy: 0.6555\n",
            "Epoch 3: val_accuracy improved from 0.62919 to 0.69231, saving model to best_model2.hdf5\n",
            "63/63 [==============================] - 5s 74ms/step - loss: 0.7935 - accuracy: 0.6555 - val_loss: 0.7327 - val_accuracy: 0.6923\n",
            "Epoch 4/25\n",
            "63/63 [==============================] - ETA: 0s - loss: 0.6246 - accuracy: 0.7675\n",
            "Epoch 4: val_accuracy improved from 0.69231 to 0.79487, saving model to best_model2.hdf5\n",
            "63/63 [==============================] - 3s 56ms/step - loss: 0.6246 - accuracy: 0.7675 - val_loss: 0.6129 - val_accuracy: 0.7949\n",
            "Epoch 5/25\n",
            "63/63 [==============================] - ETA: 0s - loss: 0.4743 - accuracy: 0.8425\n",
            "Epoch 5: val_accuracy did not improve from 0.79487\n",
            "63/63 [==============================] - 2s 32ms/step - loss: 0.4743 - accuracy: 0.8425 - val_loss: 0.5311 - val_accuracy: 0.7929\n",
            "Epoch 6/25\n",
            "63/63 [==============================] - ETA: 0s - loss: 0.3746 - accuracy: 0.8675\n",
            "Epoch 6: val_accuracy improved from 0.79487 to 0.80079, saving model to best_model2.hdf5\n",
            "63/63 [==============================] - 2s 36ms/step - loss: 0.3746 - accuracy: 0.8675 - val_loss: 0.5169 - val_accuracy: 0.8008\n",
            "Epoch 7/25\n",
            "60/63 [===========================>..] - ETA: 0s - loss: 0.3150 - accuracy: 0.8906\n",
            "Epoch 7: val_accuracy improved from 0.80079 to 0.80473, saving model to best_model2.hdf5\n",
            "63/63 [==============================] - 1s 23ms/step - loss: 0.3134 - accuracy: 0.8910 - val_loss: 0.5130 - val_accuracy: 0.8047\n",
            "Epoch 8/25\n",
            "63/63 [==============================] - ETA: 0s - loss: 0.2671 - accuracy: 0.9045\n",
            "Epoch 8: val_accuracy improved from 0.80473 to 0.80868, saving model to best_model2.hdf5\n",
            "63/63 [==============================] - 2s 29ms/step - loss: 0.2671 - accuracy: 0.9045 - val_loss: 0.4630 - val_accuracy: 0.8087\n",
            "Epoch 9/25\n",
            "63/63 [==============================] - ETA: 0s - loss: 0.2378 - accuracy: 0.9195\n",
            "Epoch 9: val_accuracy did not improve from 0.80868\n",
            "63/63 [==============================] - 2s 27ms/step - loss: 0.2378 - accuracy: 0.9195 - val_loss: 0.5200 - val_accuracy: 0.8087\n",
            "Epoch 10/25\n",
            "63/63 [==============================] - ETA: 0s - loss: 0.2060 - accuracy: 0.9320\n",
            "Epoch 10: val_accuracy improved from 0.80868 to 0.81262, saving model to best_model2.hdf5\n",
            "63/63 [==============================] - 2s 33ms/step - loss: 0.2060 - accuracy: 0.9320 - val_loss: 0.5134 - val_accuracy: 0.8126\n",
            "Epoch 11/25\n",
            "63/63 [==============================] - ETA: 0s - loss: 0.1706 - accuracy: 0.9430\n",
            "Epoch 11: val_accuracy did not improve from 0.81262\n",
            "63/63 [==============================] - 3s 43ms/step - loss: 0.1706 - accuracy: 0.9430 - val_loss: 0.4824 - val_accuracy: 0.8067\n",
            "Epoch 12/25\n",
            "63/63 [==============================] - ETA: 0s - loss: 0.1536 - accuracy: 0.9545\n",
            "Epoch 12: val_accuracy did not improve from 0.81262\n",
            "63/63 [==============================] - 1s 23ms/step - loss: 0.1536 - accuracy: 0.9545 - val_loss: 0.5038 - val_accuracy: 0.8087\n",
            "Epoch 13/25\n",
            "63/63 [==============================] - ETA: 0s - loss: 0.1368 - accuracy: 0.9550\n",
            "Epoch 13: val_accuracy did not improve from 0.81262\n",
            "63/63 [==============================] - 2s 24ms/step - loss: 0.1368 - accuracy: 0.9550 - val_loss: 0.5737 - val_accuracy: 0.7949\n",
            "Epoch 14/25\n",
            "63/63 [==============================] - ETA: 0s - loss: 0.1169 - accuracy: 0.9610\n",
            "Epoch 14: val_accuracy did not improve from 0.81262\n",
            "63/63 [==============================] - 2s 24ms/step - loss: 0.1169 - accuracy: 0.9610 - val_loss: 0.5191 - val_accuracy: 0.8067\n",
            "Epoch 15/25\n",
            "63/63 [==============================] - ETA: 0s - loss: 0.1080 - accuracy: 0.9620\n",
            "Epoch 15: val_accuracy did not improve from 0.81262\n",
            "63/63 [==============================] - 1s 22ms/step - loss: 0.1080 - accuracy: 0.9620 - val_loss: 0.5211 - val_accuracy: 0.8087\n",
            "Epoch 16/25\n",
            "63/63 [==============================] - ETA: 0s - loss: 0.0920 - accuracy: 0.9710\n",
            "Epoch 16: val_accuracy improved from 0.81262 to 0.82446, saving model to best_model2.hdf5\n",
            "63/63 [==============================] - 2s 25ms/step - loss: 0.0920 - accuracy: 0.9710 - val_loss: 0.4998 - val_accuracy: 0.8245\n",
            "Epoch 17/25\n",
            "63/63 [==============================] - ETA: 0s - loss: 0.0808 - accuracy: 0.9720\n",
            "Epoch 17: val_accuracy improved from 0.82446 to 0.83826, saving model to best_model2.hdf5\n",
            "63/63 [==============================] - 1s 21ms/step - loss: 0.0808 - accuracy: 0.9720 - val_loss: 0.5739 - val_accuracy: 0.8383\n",
            "Epoch 18/25\n",
            "63/63 [==============================] - ETA: 0s - loss: 0.0739 - accuracy: 0.9735\n",
            "Epoch 18: val_accuracy did not improve from 0.83826\n",
            "63/63 [==============================] - 2s 35ms/step - loss: 0.0739 - accuracy: 0.9735 - val_loss: 0.5476 - val_accuracy: 0.8323\n",
            "Epoch 19/25\n",
            "61/63 [============================>.] - ETA: 0s - loss: 0.0621 - accuracy: 0.9785\n",
            "Epoch 19: val_accuracy did not improve from 0.83826\n",
            "63/63 [==============================] - 1s 21ms/step - loss: 0.0645 - accuracy: 0.9780 - val_loss: 0.5983 - val_accuracy: 0.8245\n",
            "Epoch 20/25\n",
            "63/63 [==============================] - ETA: 0s - loss: 0.0559 - accuracy: 0.9790\n",
            "Epoch 20: val_accuracy improved from 0.83826 to 0.84813, saving model to best_model2.hdf5\n",
            "63/63 [==============================] - 1s 20ms/step - loss: 0.0559 - accuracy: 0.9790 - val_loss: 0.5945 - val_accuracy: 0.8481\n",
            "Epoch 21/25\n",
            "63/63 [==============================] - ETA: 0s - loss: 0.0492 - accuracy: 0.9800\n",
            "Epoch 21: val_accuracy did not improve from 0.84813\n",
            "63/63 [==============================] - 1s 19ms/step - loss: 0.0492 - accuracy: 0.9800 - val_loss: 0.6337 - val_accuracy: 0.8146\n",
            "Epoch 22/25\n",
            "63/63 [==============================] - ETA: 0s - loss: 0.0520 - accuracy: 0.9825\n",
            "Epoch 22: val_accuracy did not improve from 0.84813\n",
            "63/63 [==============================] - 1s 23ms/step - loss: 0.0520 - accuracy: 0.9825 - val_loss: 0.6372 - val_accuracy: 0.8245\n",
            "Epoch 23/25\n",
            "63/63 [==============================] - ETA: 0s - loss: 0.0479 - accuracy: 0.9835\n",
            "Epoch 23: val_accuracy did not improve from 0.84813\n",
            "63/63 [==============================] - 1s 19ms/step - loss: 0.0479 - accuracy: 0.9835 - val_loss: 0.6400 - val_accuracy: 0.8284\n",
            "Epoch 24/25\n",
            "63/63 [==============================] - ETA: 0s - loss: 0.0412 - accuracy: 0.9875\n",
            "Epoch 24: val_accuracy did not improve from 0.84813\n",
            "63/63 [==============================] - 1s 23ms/step - loss: 0.0412 - accuracy: 0.9875 - val_loss: 0.7189 - val_accuracy: 0.8323\n",
            "Epoch 25/25\n",
            "63/63 [==============================] - ETA: 0s - loss: 0.0293 - accuracy: 0.9895\n",
            "Epoch 25: val_accuracy did not improve from 0.84813\n",
            "63/63 [==============================] - 1s 23ms/step - loss: 0.0293 - accuracy: 0.9895 - val_loss: 0.7061 - val_accuracy: 0.8264\n"
          ]
        }
      ]
    },
    {
      "cell_type": "code",
      "source": [
        "predictions = model2.predict(X_test)\n"
      ],
      "metadata": {
        "id": "CResR3qKBDo4",
        "colab": {
          "base_uri": "https://localhost:8080/"
        },
        "outputId": "1342ec78-7a2b-470f-9d0e-32bf2ce0268d"
      },
      "execution_count": null,
      "outputs": [
        {
          "output_type": "stream",
          "name": "stdout",
          "text": [
            "16/16 [==============================] - 1s 9ms/step\n"
          ]
        }
      ]
    },
    {
      "cell_type": "code",
      "source": [
        "from sklearn.metrics import confusion_matrix\n",
        "matrix = confusion_matrix(y_test.argmax(axis=1), np.around(predictions, decimals=0).argmax(axis=1))"
      ],
      "metadata": {
        "id": "IAjBZvO2BHVj"
      },
      "execution_count": null,
      "outputs": []
    },
    {
      "cell_type": "code",
      "source": [
        "import seaborn as sns\n",
        "conf_matrix = pd.DataFrame(matrix, index = ['0','1','2'],columns = ['0','1','2'])\n",
        "#Normalizing\n",
        "conf_matrix = conf_matrix.astype('int') / conf_matrix.sum(axis=1)[:, np.newaxis]\n",
        "plt.figure(figsize = (10,10))\n",
        "sns.heatmap(conf_matrix, annot=True, annot_kws={\"size\": 10})"
      ],
      "metadata": {
        "id": "ewI1ErwaBII1",
        "colab": {
          "base_uri": "https://localhost:8080/",
          "height": 847
        },
        "outputId": "dbeb9690-5100-4c8a-fd6d-5008976a1790"
      },
      "execution_count": null,
      "outputs": [
        {
          "output_type": "execute_result",
          "data": {
            "text/plain": [
              "<Axes: >"
            ]
          },
          "metadata": {},
          "execution_count": 87
        },
        {
          "output_type": "display_data",
          "data": {
            "text/plain": [
              "<Figure size 1000x1000 with 2 Axes>"
            ],
            "image/png": "[encoded data removed]"
          },
          "metadata": {}
        }
      ]
    },
    {
      "cell_type": "code",
      "source": [
        "sentiment = ['0','1','2']\n"
      ],
      "metadata": {
        "id": "3dPBZsNbBSTl"
      },
      "execution_count": null,
      "outputs": []
    },
    {
      "cell_type": "code",
      "source": [
        "sequence = tokenizer.texts_to_sequences([\"5000 are the new covid cases in greece for the week\"])\n",
        "test = pad_sequences(sequence, maxlen=max_len)\n",
        "sentiment[np.around(model2.predict(test), decimals=0).argmax(axis=1)[0]]"
      ],
      "metadata": {
        "id": "gjPAX53oBVwm",
        "colab": {
          "base_uri": "https://localhost:8080/",
          "height": 53
        },
        "outputId": "b670bc3d-e984-4d55-b74d-ed2376392e4e"
      },
      "execution_count": null,
      "outputs": [
        {
          "output_type": "stream",
          "name": "stdout",
          "text": [
            "1/1 [==============================] - 0s 24ms/step\n"
          ]
        },
        {
          "output_type": "execute_result",
          "data": {
            "text/plain": [
              "'2'"
            ],
            "application/vnd.google.colaboratory.intrinsic+json": {
              "type": "string"
            }
          },
          "metadata": {},
          "execution_count": 53
        }
      ]
    },
    {
      "cell_type": "code",
      "source": [
        "sequence = tokenizer.texts_to_sequences([\"vaccine injuries are happening\"])\n",
        "test = pad_sequences(sequence, maxlen=max_len)\n",
        "sentiment[np.around(model2.predict(test), decimals=0).argmax(axis=1)[0]]"
      ],
      "metadata": {
        "id": "9WMqF-STD-6J",
        "outputId": "e885bccc-bcd1-4cb5-fc53-d9a8c8f51f4f",
        "colab": {
          "base_uri": "https://localhost:8080/",
          "height": 53
        }
      },
      "execution_count": null,
      "outputs": [
        {
          "output_type": "stream",
          "name": "stdout",
          "text": [
            "1/1 [==============================] - 0s 22ms/step\n"
          ]
        },
        {
          "output_type": "execute_result",
          "data": {
            "text/plain": [
              "'1'"
            ],
            "application/vnd.google.colaboratory.intrinsic+json": {
              "type": "string"
            }
          },
          "metadata": {},
          "execution_count": 54
        }
      ]
    },
    {
      "cell_type": "code",
      "source": [
        "sequence = tokenizer.texts_to_sequences([\"injuries are happening but they are not many in comparison with the long covid cases\"])\n",
        "test = pad_sequences(sequence, maxlen=max_len)\n",
        "sentiment[np.around(model2.predict(test), decimals=0).argmax(axis=1)[0]]"
      ],
      "metadata": {
        "id": "eGhP6IteMoIX",
        "colab": {
          "base_uri": "https://localhost:8080/",
          "height": 53
        },
        "outputId": "168da49f-4504-4680-b518-304097d87842"
      },
      "execution_count": null,
      "outputs": [
        {
          "output_type": "stream",
          "name": "stdout",
          "text": [
            "1/1 [==============================] - 0s 23ms/step\n"
          ]
        },
        {
          "output_type": "execute_result",
          "data": {
            "text/plain": [
              "'0'"
            ],
            "application/vnd.google.colaboratory.intrinsic+json": {
              "type": "string"
            }
          },
          "metadata": {},
          "execution_count": 55
        }
      ]
    },
    {
      "cell_type": "code",
      "source": [
        "sequence = tokenizer.texts_to_sequences([\"20 vaccine injuries and 1000 long covid patients were recorded for this month\"])\n",
        "test = pad_sequences(sequence, maxlen=max_len)\n",
        "sentiment[np.around(model2.predict(test), decimals=0).argmax(axis=1)[0]]"
      ],
      "metadata": {
        "colab": {
          "base_uri": "https://localhost:8080/",
          "height": 53
        },
        "outputId": "baa9d49d-9053-4fd6-b43f-54681c9e9268",
        "id": "ZT_L7bCiWyGU"
      },
      "execution_count": null,
      "outputs": [
        {
          "output_type": "stream",
          "name": "stdout",
          "text": [
            "1/1 [==============================] - 0s 26ms/step\n"
          ]
        },
        {
          "output_type": "execute_result",
          "data": {
            "text/plain": [
              "'2'"
            ],
            "application/vnd.google.colaboratory.intrinsic+json": {
              "type": "string"
            }
          },
          "metadata": {},
          "execution_count": 56
        }
      ]
    },
    {
      "cell_type": "code",
      "source": [
        "sequence = tokenizer.texts_to_sequences(['the covid vaccine protected my two sons'])\n",
        "test = pad_sequences(sequence, maxlen=max_len)\n",
        "sentiment[np.around(model2.predict(test), decimals=0).argmax(axis=1)[0]]"
      ],
      "metadata": {
        "id": "1L0W37cNMwtw",
        "colab": {
          "base_uri": "https://localhost:8080/",
          "height": 53
        },
        "outputId": "650e1a24-4451-4a5f-b966-fcf8bf90fa03"
      },
      "execution_count": null,
      "outputs": [
        {
          "output_type": "stream",
          "name": "stdout",
          "text": [
            "1/1 [==============================] - 0s 26ms/step\n"
          ]
        },
        {
          "output_type": "execute_result",
          "data": {
            "text/plain": [
              "'0'"
            ],
            "application/vnd.google.colaboratory.intrinsic+json": {
              "type": "string"
            }
          },
          "metadata": {},
          "execution_count": 57
        }
      ]
    },
    {
      "cell_type": "code",
      "source": [
        "sequence = tokenizer.texts_to_sequences([\"just wear a mask an protect the others\"])\n",
        "test = pad_sequences(sequence, maxlen=max_len)\n",
        "sentiment[np.around(model2.predict(test), decimals=0).argmax(axis=1)[0]]"
      ],
      "metadata": {
        "colab": {
          "base_uri": "https://localhost:8080/",
          "height": 53
        },
        "outputId": "f1d241b0-c330-4284-e22a-f5fd61ef0851",
        "id": "1c32-D-tY8lF"
      },
      "execution_count": null,
      "outputs": [
        {
          "output_type": "stream",
          "name": "stdout",
          "text": [
            "1/1 [==============================] - 0s 24ms/step\n"
          ]
        },
        {
          "output_type": "execute_result",
          "data": {
            "text/plain": [
              "'0'"
            ],
            "application/vnd.google.colaboratory.intrinsic+json": {
              "type": "string"
            }
          },
          "metadata": {},
          "execution_count": 58
        }
      ]
    },
    {
      "cell_type": "code",
      "source": [
        "sequence = tokenizer.texts_to_sequences([\"covid is a created virus that is going to controll us\"])\n",
        "test = pad_sequences(sequence, maxlen=max_len)\n",
        "sentiment[np.around(model2.predict(test), decimals=0).argmax(axis=1)[0]]"
      ],
      "metadata": {
        "colab": {
          "base_uri": "https://localhost:8080/",
          "height": 53
        },
        "outputId": "52a1b6e2-6a10-4d86-c9f2-f2ee759e715f",
        "id": "stmqIWtuXtTF"
      },
      "execution_count": null,
      "outputs": [
        {
          "output_type": "stream",
          "name": "stdout",
          "text": [
            "1/1 [==============================] - 0s 23ms/step\n"
          ]
        },
        {
          "output_type": "execute_result",
          "data": {
            "text/plain": [
              "'1'"
            ],
            "application/vnd.google.colaboratory.intrinsic+json": {
              "type": "string"
            }
          },
          "metadata": {},
          "execution_count": 59
        }
      ]
    },
    {
      "cell_type": "code",
      "source": [
        "sequence = tokenizer.texts_to_sequences([\"covid-19 is a bio weapon leaked from a lab\"])\n",
        "test = pad_sequences(sequence, maxlen=max_len)\n",
        "sentiment[np.around(model2.predict(test), decimals=0).argmax(axis=1)[0]]"
      ],
      "metadata": {
        "colab": {
          "base_uri": "https://localhost:8080/",
          "height": 53
        },
        "id": "c7kc79_8by4m",
        "outputId": "8cf9401b-bc4d-4f06-d9fe-4cab72540bd3"
      },
      "execution_count": null,
      "outputs": [
        {
          "output_type": "stream",
          "name": "stdout",
          "text": [
            "1/1 [==============================] - 0s 24ms/step\n"
          ]
        },
        {
          "output_type": "execute_result",
          "data": {
            "text/plain": [
              "'1'"
            ],
            "application/vnd.google.colaboratory.intrinsic+json": {
              "type": "string"
            }
          },
          "metadata": {},
          "execution_count": 60
        }
      ]
    },
    {
      "cell_type": "code",
      "source": [
        "sequence = tokenizer.texts_to_sequences([\"Suzanne Gazda MD is a neurologist with 4,000 patients. The vast majority were advised to take the vaccine by other doctors. The vast majority of those got significantly worse after they took the COVID vaccine.\"])\n",
        "test = pad_sequences(sequence, maxlen=max_len)\n",
        "sentiment[np.around(model2.predict(test), decimals=0).argmax(axis=1)[0]]"
      ],
      "metadata": {
        "colab": {
          "base_uri": "https://localhost:8080/",
          "height": 53
        },
        "id": "c-IW2m_LbA21",
        "outputId": "a4ed6289-ac5a-4077-b1da-d074bb72e7df"
      },
      "execution_count": null,
      "outputs": [
        {
          "output_type": "stream",
          "name": "stdout",
          "text": [
            "1/1 [==============================] - 0s 148ms/step\n"
          ]
        },
        {
          "output_type": "execute_result",
          "data": {
            "text/plain": [
              "'1'"
            ],
            "application/vnd.google.colaboratory.intrinsic+json": {
              "type": "string"
            }
          },
          "metadata": {},
          "execution_count": 70
        }
      ]
    },
    {
      "cell_type": "code",
      "source": [
        "sequence = tokenizer.texts_to_sequences([\"covid-19 does not exist\"])\n",
        "test = pad_sequences(sequence, maxlen=max_len)\n",
        "sentiment[np.around(model2.predict(test), decimals=0).argmax(axis=1)[0]]"
      ],
      "metadata": {
        "colab": {
          "base_uri": "https://localhost:8080/",
          "height": 53
        },
        "id": "0-uztrj0bBBd",
        "outputId": "c9a105a3-7250-4123-a44d-6bf93ef8f0ce"
      },
      "execution_count": null,
      "outputs": [
        {
          "output_type": "stream",
          "name": "stdout",
          "text": [
            "1/1 [==============================] - 0s 22ms/step\n"
          ]
        },
        {
          "output_type": "execute_result",
          "data": {
            "text/plain": [
              "'1'"
            ],
            "application/vnd.google.colaboratory.intrinsic+json": {
              "type": "string"
            }
          },
          "metadata": {},
          "execution_count": 69
        }
      ]
    },
    {
      "cell_type": "code",
      "source": [
        "\n",
        "sequence = tokenizer.texts_to_sequences([\"54 year old Canadian doctor Dr.Annie Rousseau died on April 21, 2023She was an internist & gastroenterologist in Saint-Jean-sur-Richelieu, Quebec.Fully COVID-19 mRNA vaccinated. Dead at 54.@CMA_Docsneeds to be sued by families of all dead MDs\"])\n",
        "test = pad_sequences(sequence, maxlen=max_len)\n",
        "sentiment[np.around(model2.predict(test), decimals=0).argmax(axis=1)[0]]"
      ],
      "metadata": {
        "colab": {
          "base_uri": "https://localhost:8080/",
          "height": 53
        },
        "id": "0CO7UQZXcbsi",
        "outputId": "1f26941c-9555-4e4e-acd6-8398b812618f"
      },
      "execution_count": null,
      "outputs": [
        {
          "output_type": "stream",
          "name": "stdout",
          "text": [
            "1/1 [==============================] - 0s 24ms/step\n"
          ]
        },
        {
          "output_type": "execute_result",
          "data": {
            "text/plain": [
              "'1'"
            ],
            "application/vnd.google.colaboratory.intrinsic+json": {
              "type": "string"
            }
          },
          "metadata": {},
          "execution_count": 71
        }
      ]
    },
    {
      "cell_type": "code",
      "source": [
        "sequence = tokenizer.texts_to_sequences([\"My daughter has 3 more days of being a high school senior, 3 more days in an N99 in open air classrooms. Then shes on to online courses after graduation ceremony in June…shes 15 AND she wrote a book and watched family disappear due to her covid stance. Round of applause is ok.\"])\n",
        "test = pad_sequences(sequence, maxlen=max_len)\n",
        "sentiment[np.around(model2.predict(test), decimals=0).argmax(axis=1)[0]]"
      ],
      "metadata": {
        "colab": {
          "base_uri": "https://localhost:8080/",
          "height": 53
        },
        "id": "Gx2R4vjXclxC",
        "outputId": "367e892f-8707-49b0-ca95-244875df5e4a"
      },
      "execution_count": null,
      "outputs": [
        {
          "output_type": "stream",
          "name": "stdout",
          "text": [
            "1/1 [==============================] - 0s 63ms/step\n"
          ]
        },
        {
          "output_type": "execute_result",
          "data": {
            "text/plain": [
              "'2'"
            ],
            "application/vnd.google.colaboratory.intrinsic+json": {
              "type": "string"
            }
          },
          "metadata": {},
          "execution_count": 72
        }
      ]
    },
    {
      "cell_type": "code",
      "source": [
        "sequence = tokenizer.texts_to_sequences([\"On 21 February 2021 I noted in an affidavit that the World Health Organisation had 102,000 reports of COVID vaccine adverse drug reactions on its http://vigiaccess.org database. This week the number passed the 5,000,000 mark.  Let me repeat this because it is hard to believe. According to WHO’s own data, more than 5,000,000 people are suspected to have been harmed by the COVID vaccines. The exact number today is 5,026,245 people, including tens of thousands of deaths.\"])\n",
        "test = pad_sequences(sequence, maxlen=max_len)\n",
        "sentiment[np.around(model2.predict(test), decimals=0).argmax(axis=1)[0]]\n",
        "#wrong"
      ],
      "metadata": {
        "colab": {
          "base_uri": "https://localhost:8080/",
          "height": 53
        },
        "id": "GQVBp8O8bzuc",
        "outputId": "3ef35141-26ed-4307-88df-40cf501fa43b"
      },
      "execution_count": null,
      "outputs": [
        {
          "output_type": "stream",
          "name": "stdout",
          "text": [
            "1/1 [==============================] - 0s 128ms/step\n"
          ]
        },
        {
          "output_type": "execute_result",
          "data": {
            "text/plain": [
              "'0'"
            ],
            "application/vnd.google.colaboratory.intrinsic+json": {
              "type": "string"
            }
          },
          "metadata": {},
          "execution_count": 73
        }
      ]
    },
    {
      "cell_type": "code",
      "source": [
        "sequence = tokenizer.texts_to_sequences([\"My gawd 😭 I can’t believe they did this to people at funerals. NEVER FORGET how people were treating during “covid”Just found this post and it so heartbreaking\"])\n",
        "test = pad_sequences(sequence, maxlen=max_len)\n",
        "sentiment[np.around(model2.predict(test), decimals=0).argmax(axis=1)[0]]"
      ],
      "metadata": {
        "colab": {
          "base_uri": "https://localhost:8080/",
          "height": 53
        },
        "id": "ftGlBNrFdV4S",
        "outputId": "9d46de92-01a1-460e-b036-b22be0726f80"
      },
      "execution_count": null,
      "outputs": [
        {
          "output_type": "stream",
          "name": "stdout",
          "text": [
            "1/1 [==============================] - 0s 45ms/step\n"
          ]
        },
        {
          "output_type": "execute_result",
          "data": {
            "text/plain": [
              "'2'"
            ],
            "application/vnd.google.colaboratory.intrinsic+json": {
              "type": "string"
            }
          },
          "metadata": {},
          "execution_count": 74
        }
      ]
    },
    {
      "cell_type": "code",
      "source": [
        "sequence = tokenizer.texts_to_sequences([\"@RobertKennedyJrcalls out Bill Gates and the World Economic Forum saying they are exploiting climate change like they exploited Covid\"])\n",
        "test = pad_sequences(sequence, maxlen=max_len)\n",
        "sentiment[np.around(model2.predict(test), decimals=0).argmax(axis=1)[0]]   #wrong?"
      ],
      "metadata": {
        "colab": {
          "base_uri": "https://localhost:8080/",
          "height": 53
        },
        "id": "cxmPChXQdV6v",
        "outputId": "ebca0413-f73f-48b6-c78a-1c6e76da383f"
      },
      "execution_count": null,
      "outputs": [
        {
          "output_type": "stream",
          "name": "stdout",
          "text": [
            "1/1 [==============================] - 0s 77ms/step\n"
          ]
        },
        {
          "output_type": "execute_result",
          "data": {
            "text/plain": [
              "'1'"
            ],
            "application/vnd.google.colaboratory.intrinsic+json": {
              "type": "string"
            }
          },
          "metadata": {},
          "execution_count": 75
        }
      ]
    },
    {
      "cell_type": "code",
      "source": [
        "sequence = tokenizer.texts_to_sequences([\"Excuse me, Sir, but you've been in favor of lockdowns, injecting children with an experimental gene therapy, silencing critics, and mask mandates. In addition, you have pronouns in your bio and called the Covid vaccines 'safe and effective'.You should keep your mouth shut!\"])\n",
        "test = pad_sequences(sequence, maxlen=max_len)\n",
        "sentiment[np.around(model2.predict(test), decimals=0).argmax(axis=1)[0]]"
      ],
      "metadata": {
        "colab": {
          "base_uri": "https://localhost:8080/",
          "height": 53
        },
        "id": "pFIb0L_SdV8_",
        "outputId": "3135e60c-6f4c-4b1d-a0cf-921921e65dd4"
      },
      "execution_count": null,
      "outputs": [
        {
          "output_type": "stream",
          "name": "stdout",
          "text": [
            "1/1 [==============================] - 0s 40ms/step\n"
          ]
        },
        {
          "output_type": "execute_result",
          "data": {
            "text/plain": [
              "'1'"
            ],
            "application/vnd.google.colaboratory.intrinsic+json": {
              "type": "string"
            }
          },
          "metadata": {},
          "execution_count": 76
        }
      ]
    },
    {
      "cell_type": "code",
      "source": [
        "sequence = tokenizer.texts_to_sequences([\"The Bible has been manipulated by the dark side for a long time. The real bible was found under the Vatican. This guy has many different bibles and shows you the difference in regards to the Mark of the Beast ! COVID SHOT\"])\n",
        "test = pad_sequences(sequence, maxlen=max_len)\n",
        "sentiment[np.around(model2.predict(test), decimals=0).argmax(axis=1)[0]]"
      ],
      "metadata": {
        "colab": {
          "base_uri": "https://localhost:8080/",
          "height": 53
        },
        "id": "_EasljpZdWPW",
        "outputId": "400df87c-7757-4de3-d632-eeb51dc837ab"
      },
      "execution_count": null,
      "outputs": [
        {
          "output_type": "stream",
          "name": "stdout",
          "text": [
            "1/1 [==============================] - 0s 39ms/step\n"
          ]
        },
        {
          "output_type": "execute_result",
          "data": {
            "text/plain": [
              "'1'"
            ],
            "application/vnd.google.colaboratory.intrinsic+json": {
              "type": "string"
            }
          },
          "metadata": {},
          "execution_count": 77
        }
      ]
    },
    {
      "cell_type": "code",
      "source": [
        "sequence = tokenizer.texts_to_sequences([\"Getting Covid is not a personal failing Getting long Covid is not a personal failing Being high risk for Covid is not a personal failing People have about as much control over this as their eye colour.So stop treating all of the above like it’s their fault\"])\n",
        "test = pad_sequences(sequence, maxlen=max_len)\n",
        "sentiment[np.around(model2.predict(test), decimals=0).argmax(axis=1)[0]]"
      ],
      "metadata": {
        "colab": {
          "base_uri": "https://localhost:8080/",
          "height": 53
        },
        "id": "U-k54N_med3P",
        "outputId": "19c341a8-0f39-4722-babe-d07263a71eac"
      },
      "execution_count": null,
      "outputs": [
        {
          "output_type": "stream",
          "name": "stdout",
          "text": [
            "1/1 [==============================] - 0s 22ms/step\n"
          ]
        },
        {
          "output_type": "execute_result",
          "data": {
            "text/plain": [
              "'0'"
            ],
            "application/vnd.google.colaboratory.intrinsic+json": {
              "type": "string"
            }
          },
          "metadata": {},
          "execution_count": 81
        }
      ]
    },
    {
      "cell_type": "code",
      "source": [
        "sequence = tokenizer.texts_to_sequences([\"It's alright.The pandemic is over.People stopped dying of Covid when we stopped testing for Covid.And now they just die 'deaths not involving Covid' during waves of Covid.\"])\n",
        "test = pad_sequences(sequence, maxlen=max_len)\n",
        "sentiment[np.around(model2.predict(test), decimals=0).argmax(axis=1)[0]]\n",
        "#wrong"
      ],
      "metadata": {
        "colab": {
          "base_uri": "https://localhost:8080/",
          "height": 53
        },
        "id": "FuR09h4zfKaq",
        "outputId": "b983f259-5a72-4e50-f02c-eb8abbeef47b"
      },
      "execution_count": null,
      "outputs": [
        {
          "output_type": "stream",
          "name": "stdout",
          "text": [
            "1/1 [==============================] - 0s 36ms/step\n"
          ]
        },
        {
          "output_type": "execute_result",
          "data": {
            "text/plain": [
              "'2'"
            ],
            "application/vnd.google.colaboratory.intrinsic+json": {
              "type": "string"
            }
          },
          "metadata": {},
          "execution_count": 84
        }
      ]
    },
    {
      "cell_type": "code",
      "source": [
        "sequence = tokenizer.texts_to_sequences([\"Our Covid data project Is over, but the need for timely data is not.The John Hopkins Coronavirus Resource Centre.\"])\n",
        "test = pad_sequences(sequence, maxlen=max_len)\n",
        "sentiment[np.around(model2.predict(test), decimals=0).argmax(axis=1)[0]]"
      ],
      "metadata": {
        "colab": {
          "base_uri": "https://localhost:8080/",
          "height": 53
        },
        "id": "EDuAemOqfh0P",
        "outputId": "8e8299d6-f6f7-4374-f788-d2aa5acd82a3"
      },
      "execution_count": null,
      "outputs": [
        {
          "output_type": "stream",
          "name": "stdout",
          "text": [
            "1/1 [==============================] - 0s 36ms/step\n"
          ]
        },
        {
          "output_type": "execute_result",
          "data": {
            "text/plain": [
              "'2'"
            ],
            "application/vnd.google.colaboratory.intrinsic+json": {
              "type": "string"
            }
          },
          "metadata": {},
          "execution_count": 85
        }
      ]
    },
    {
      "cell_type": "code",
      "source": [
        "sequence = tokenizer.texts_to_sequences([\"Our Covid data project Is over, but the need for timely data is not.The John Hopkins Coronavirus Resource Centre.\"])\n",
        "test = pad_sequences(sequence, maxlen=max_len)\n",
        "sentiment[np.around(model2.predict(test), decimals=0).argmax(axis=1)[0]]"
      ],
      "metadata": {
        "id": "ZLwWcitNgarY"
      },
      "execution_count": null,
      "outputs": []
    },
    {
      "cell_type": "code",
      "source": [],
      "metadata": {
        "id": "RYX9ochtWuqx"
      },
      "execution_count": null,
      "outputs": []
    },
    {
      "cell_type": "code",
      "source": [],
      "metadata": {
        "id": "IPKNVxQp0q-u"
      },
      "execution_count": null,
      "outputs": []
    }
  ]
}