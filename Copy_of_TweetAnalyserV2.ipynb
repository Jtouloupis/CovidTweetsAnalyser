{
  "cells": [
    {
      "cell_type": "markdown",
      "metadata": {
        "id": "view-in-github",
        "colab_type": "text"
      },
      "source": [
        "<a href=\"https://colab.research.google.com/github/Jtouloupis/CovidTweetsAnalyser/blob/main/Copy_of_TweetAnalyserV2.ipynb\" target=\"_parent\"><img src=\"https://colab.research.google.com/assets/colab-badge.svg\" alt=\"Open In Colab\"/></a>"
      ]
    },
    {
      "cell_type": "code",
      "execution_count": null,
      "metadata": {
        "colab": {
          "base_uri": "https://localhost:8080/"
        },
        "id": "6gNA_uB2sonn",
        "outputId": "4a9f9c91-4af4-496f-f7ad-2775f31f8491"
      },
      "outputs": [
        {
          "output_type": "stream",
          "name": "stdout",
          "text": [
            "Collecting transformers\n",
            "  Downloading transformers-4.32.0-py3-none-any.whl (7.5 MB)\n",
            "\u001b[2K     \u001b[90m━━━━━━━━━━━━━━━━━━━━━━━━━━━━━━━━━━━━━━━━\u001b[0m \u001b[32m7.5/7.5 MB\u001b[0m \u001b[31m33.0 MB/s\u001b[0m eta \u001b[36m0:00:00\u001b[0m\n",
            "\u001b[?25hRequirement already satisfied: filelock in /usr/local/lib/python3.10/dist-packages (from transformers) (3.12.2)\n",
            "Collecting huggingface-hub<1.0,>=0.15.1 (from transformers)\n",
            "  Downloading huggingface_hub-0.16.4-py3-none-any.whl (268 kB)\n",
            "\u001b[2K     \u001b[90m━━━━━━━━━━━━━━━━━━━━━━━━━━━━━━━━━━━━━━\u001b[0m \u001b[32m268.8/268.8 kB\u001b[0m \u001b[31m27.6 MB/s\u001b[0m eta \u001b[36m0:00:00\u001b[0m\n",
            "\u001b[?25hRequirement already satisfied: numpy>=1.17 in /usr/local/lib/python3.10/dist-packages (from transformers) (1.23.5)\n",
            "Requirement already satisfied: packaging>=20.0 in /usr/local/lib/python3.10/dist-packages (from transformers) (23.1)\n",
            "Requirement already satisfied: pyyaml>=5.1 in /usr/local/lib/python3.10/dist-packages (from transformers) (6.0.1)\n",
            "Requirement already satisfied: regex!=2019.12.17 in /usr/local/lib/python3.10/dist-packages (from transformers) (2023.6.3)\n",
            "Requirement already satisfied: requests in /usr/local/lib/python3.10/dist-packages (from transformers) (2.31.0)\n",
            "Collecting tokenizers!=0.11.3,<0.14,>=0.11.1 (from transformers)\n",
            "  Downloading tokenizers-0.13.3-cp310-cp310-manylinux_2_17_x86_64.manylinux2014_x86_64.whl (7.8 MB)\n",
            "\u001b[2K     \u001b[90m━━━━━━━━━━━━━━━━━━━━━━━━━━━━━━━━━━━━━━━━\u001b[0m \u001b[32m7.8/7.8 MB\u001b[0m \u001b[31m68.6 MB/s\u001b[0m eta \u001b[36m0:00:00\u001b[0m\n",
            "\u001b[?25hCollecting safetensors>=0.3.1 (from transformers)\n",
            "  Downloading safetensors-0.3.2-cp310-cp310-manylinux_2_17_x86_64.manylinux2014_x86_64.whl (1.3 MB)\n",
            "\u001b[2K     \u001b[90m━━━━━━━━━━━━━━━━━━━━━━━━━━━━━━━━━━━━━━━━\u001b[0m \u001b[32m1.3/1.3 MB\u001b[0m \u001b[31m67.4 MB/s\u001b[0m eta \u001b[36m0:00:00\u001b[0m\n",
            "\u001b[?25hRequirement already satisfied: tqdm>=4.27 in /usr/local/lib/python3.10/dist-packages (from transformers) (4.66.1)\n",
            "Requirement already satisfied: fsspec in /usr/local/lib/python3.10/dist-packages (from huggingface-hub<1.0,>=0.15.1->transformers) (2023.6.0)\n",
            "Requirement already satisfied: typing-extensions>=3.7.4.3 in /usr/local/lib/python3.10/dist-packages (from huggingface-hub<1.0,>=0.15.1->transformers) (4.7.1)\n",
            "Requirement already satisfied: charset-normalizer<4,>=2 in /usr/local/lib/python3.10/dist-packages (from requests->transformers) (3.2.0)\n",
            "Requirement already satisfied: idna<4,>=2.5 in /usr/local/lib/python3.10/dist-packages (from requests->transformers) (3.4)\n",
            "Requirement already satisfied: urllib3<3,>=1.21.1 in /usr/local/lib/python3.10/dist-packages (from requests->transformers) (2.0.4)\n",
            "Requirement already satisfied: certifi>=2017.4.17 in /usr/local/lib/python3.10/dist-packages (from requests->transformers) (2023.7.22)\n",
            "Installing collected packages: tokenizers, safetensors, huggingface-hub, transformers\n",
            "Successfully installed huggingface-hub-0.16.4 safetensors-0.3.2 tokenizers-0.13.3 transformers-4.32.0\n"
          ]
        }
      ],
      "source": [
        "!pip install transformers"
      ]
    },
    {
      "cell_type": "code",
      "execution_count": null,
      "metadata": {
        "colab": {
          "base_uri": "https://localhost:8080/"
        },
        "id": "IrLOD7Uou7Qh",
        "outputId": "c608278e-ebef-4288-9bff-d29f79b0d1a5"
      },
      "outputs": [
        {
          "output_type": "stream",
          "name": "stdout",
          "text": [
            "Done\n"
          ]
        }
      ],
      "source": [
        "import nltk\n",
        "import re\n",
        "import string\n",
        "import re\n",
        "import matplotlib.pyplot as plt\n",
        "import string\n",
        "from nltk.corpus import stopwords\n",
        "import nltk\n",
        "from nltk.corpus import wordnet\n",
        "from nltk.stem import WordNetLemmatizer\n",
        "from nltk.tokenize.treebank import TreebankWordDetokenizer\n",
        "from collections import Counter\n",
        "from wordcloud import WordCloud\n",
        "from nltk.corpus import stopwords\n",
        "import nltk\n",
        "from gensim.utils import simple_preprocess\n",
        "from nltk.corpus import stopwords\n",
        "import gensim\n",
        "from sklearn.model_selection import train_test_split\n",
        "import spacy\n",
        "import pickle\n",
        "import warnings\n",
        "warnings.filterwarnings('ignore')\n",
        "import seaborn as sns\n",
        "from sklearn.metrics import confusion_matrix\n",
        "import matplotlib.pyplot as plt\n",
        "import tensorflow as tf\n",
        "import keras\n",
        "import numpy as np\n",
        "import pandas as pd\n",
        "import random\n",
        "\n",
        "#BERT\n",
        "import torch\n",
        "import torch.optim as optim\n",
        "import torch.nn.functional as F\n",
        "from transformers import BertForSequenceClassification, BertTokenizer\n",
        "from torch.utils.data import DataLoader, random_split\n",
        "from sklearn.model_selection import train_test_split\n",
        "from torch.utils.data import Dataset\n",
        "\n",
        "print('Done')\n"
      ]
    },
    {
      "cell_type": "code",
      "execution_count": null,
      "metadata": {
        "id": "c5-oH7-h0l0a"
      },
      "outputs": [],
      "source": [
        "data = pd.read_csv('/content/tweets.csv',encoding='latin-1',header=0)\n"
      ]
    },
    {
      "cell_type": "code",
      "execution_count": null,
      "metadata": {
        "id": "RqO9HlSCs3-Q"
      },
      "outputs": [],
      "source": [
        "# Shuffle the rows using the sample function\n",
        "df_shuffled = data.sample(frac=1)\n",
        "\n",
        "# Reset the index of the shuffled DataFrame\n",
        "data = df_shuffled.reset_index(drop=True)"
      ]
    },
    {
      "cell_type": "code",
      "execution_count": null,
      "metadata": {
        "colab": {
          "base_uri": "https://localhost:8080/",
          "height": 300
        },
        "id": "BKlSrjltvex-",
        "outputId": "ccabbd9b-0883-4c99-a7d1-58a86fdacdab"
      },
      "outputs": [
        {
          "output_type": "execute_result",
          "data": {
            "text/plain": [
              "              Type\n",
              "count  3099.000000\n",
              "mean      0.896418\n",
              "std       0.817369\n",
              "min       0.000000\n",
              "25%       0.000000\n",
              "50%       1.000000\n",
              "75%       2.000000\n",
              "max       2.000000"
            ],
            "text/html": [
              "\n",
              "  <div id=\"df-c941f174-8529-4b44-9113-909293d66eb7\" class=\"colab-df-container\">\n",
              "    <div>\n",
              "<style scoped>\n",
              "    .dataframe tbody tr th:only-of-type {\n",
              "        vertical-align: middle;\n",
              "    }\n",
              "\n",
              "    .dataframe tbody tr th {\n",
              "        vertical-align: top;\n",
              "    }\n",
              "\n",
              "    .dataframe thead th {\n",
              "        text-align: right;\n",
              "    }\n",
              "</style>\n",
              "<table border=\"1\" class=\"dataframe\">\n",
              "  <thead>\n",
              "    <tr style=\"text-align: right;\">\n",
              "      <th></th>\n",
              "      <th>Type</th>\n",
              "    </tr>\n",
              "  </thead>\n",
              "  <tbody>\n",
              "    <tr>\n",
              "      <th>count</th>\n",
              "      <td>3099.000000</td>\n",
              "    </tr>\n",
              "    <tr>\n",
              "      <th>mean</th>\n",
              "      <td>0.896418</td>\n",
              "    </tr>\n",
              "    <tr>\n",
              "      <th>std</th>\n",
              "      <td>0.817369</td>\n",
              "    </tr>\n",
              "    <tr>\n",
              "      <th>min</th>\n",
              "      <td>0.000000</td>\n",
              "    </tr>\n",
              "    <tr>\n",
              "      <th>25%</th>\n",
              "      <td>0.000000</td>\n",
              "    </tr>\n",
              "    <tr>\n",
              "      <th>50%</th>\n",
              "      <td>1.000000</td>\n",
              "    </tr>\n",
              "    <tr>\n",
              "      <th>75%</th>\n",
              "      <td>2.000000</td>\n",
              "    </tr>\n",
              "    <tr>\n",
              "      <th>max</th>\n",
              "      <td>2.000000</td>\n",
              "    </tr>\n",
              "  </tbody>\n",
              "</table>\n",
              "</div>\n",
              "    <div class=\"colab-df-buttons\">\n",
              "\n",
              "  <div class=\"colab-df-container\">\n",
              "    <button class=\"colab-df-convert\" onclick=\"convertToInteractive('df-c941f174-8529-4b44-9113-909293d66eb7')\"\n",
              "            title=\"Convert this dataframe to an interactive table.\"\n",
              "            style=\"display:none;\">\n",
              "\n",
              "  <svg xmlns=\"http://www.w3.org/2000/svg\" height=\"24px\" viewBox=\"0 -960 960 960\">\n",
              "    <path d=\"M120-120v-720h720v720H120Zm60-500h600v-160H180v160Zm220 220h160v-160H400v160Zm0 220h160v-160H400v160ZM180-400h160v-160H180v160Zm440 0h160v-160H620v160ZM180-180h160v-160H180v160Zm440 0h160v-160H620v160Z\"/>\n",
              "  </svg>\n",
              "    </button>\n",
              "\n",
              "  <style>\n",
              "    .colab-df-container {\n",
              "      display:flex;\n",
              "      gap: 12px;\n",
              "    }\n",
              "\n",
              "    .colab-df-convert {\n",
              "      background-color: #E8F0FE;\n",
              "      border: none;\n",
              "      border-radius: 50%;\n",
              "      cursor: pointer;\n",
              "      display: none;\n",
              "      fill: #1967D2;\n",
              "      height: 32px;\n",
              "      padding: 0 0 0 0;\n",
              "      width: 32px;\n",
              "    }\n",
              "\n",
              "    .colab-df-convert:hover {\n",
              "      background-color: #E2EBFA;\n",
              "      box-shadow: 0px 1px 2px rgba(60, 64, 67, 0.3), 0px 1px 3px 1px rgba(60, 64, 67, 0.15);\n",
              "      fill: #174EA6;\n",
              "    }\n",
              "\n",
              "    .colab-df-buttons div {\n",
              "      margin-bottom: 4px;\n",
              "    }\n",
              "\n",
              "    [theme=dark] .colab-df-convert {\n",
              "      background-color: #3B4455;\n",
              "      fill: #D2E3FC;\n",
              "    }\n",
              "\n",
              "    [theme=dark] .colab-df-convert:hover {\n",
              "      background-color: #434B5C;\n",
              "      box-shadow: 0px 1px 3px 1px rgba(0, 0, 0, 0.15);\n",
              "      filter: drop-shadow(0px 1px 2px rgba(0, 0, 0, 0.3));\n",
              "      fill: #FFFFFF;\n",
              "    }\n",
              "  </style>\n",
              "\n",
              "    <script>\n",
              "      const buttonEl =\n",
              "        document.querySelector('#df-c941f174-8529-4b44-9113-909293d66eb7 button.colab-df-convert');\n",
              "      buttonEl.style.display =\n",
              "        google.colab.kernel.accessAllowed ? 'block' : 'none';\n",
              "\n",
              "      async function convertToInteractive(key) {\n",
              "        const element = document.querySelector('#df-c941f174-8529-4b44-9113-909293d66eb7');\n",
              "        const dataTable =\n",
              "          await google.colab.kernel.invokeFunction('convertToInteractive',\n",
              "                                                    [key], {});\n",
              "        if (!dataTable) return;\n",
              "\n",
              "        const docLinkHtml = 'Like what you see? Visit the ' +\n",
              "          '<a target=\"_blank\" href=https://colab.research.google.com/notebooks/data_table.ipynb>data table notebook</a>'\n",
              "          + ' to learn more about interactive tables.';\n",
              "        element.innerHTML = '';\n",
              "        dataTable['output_type'] = 'display_data';\n",
              "        await google.colab.output.renderOutput(dataTable, element);\n",
              "        const docLink = document.createElement('div');\n",
              "        docLink.innerHTML = docLinkHtml;\n",
              "        element.appendChild(docLink);\n",
              "      }\n",
              "    </script>\n",
              "  </div>\n",
              "\n",
              "\n",
              "<div id=\"df-f553d97f-88ca-48af-b45b-63d2bd7d801e\">\n",
              "  <button class=\"colab-df-quickchart\" onclick=\"quickchart('df-f553d97f-88ca-48af-b45b-63d2bd7d801e')\"\n",
              "            title=\"Suggest charts.\"\n",
              "            style=\"display:none;\">\n",
              "\n",
              "<svg xmlns=\"http://www.w3.org/2000/svg\" height=\"24px\"viewBox=\"0 0 24 24\"\n",
              "     width=\"24px\">\n",
              "    <g>\n",
              "        <path d=\"M19 3H5c-1.1 0-2 .9-2 2v14c0 1.1.9 2 2 2h14c1.1 0 2-.9 2-2V5c0-1.1-.9-2-2-2zM9 17H7v-7h2v7zm4 0h-2V7h2v10zm4 0h-2v-4h2v4z\"/>\n",
              "    </g>\n",
              "</svg>\n",
              "  </button>\n",
              "\n",
              "<style>\n",
              "  .colab-df-quickchart {\n",
              "    background-color: #E8F0FE;\n",
              "    border: none;\n",
              "    border-radius: 50%;\n",
              "    cursor: pointer;\n",
              "    display: none;\n",
              "    fill: #1967D2;\n",
              "    height: 32px;\n",
              "    padding: 0 0 0 0;\n",
              "    width: 32px;\n",
              "  }\n",
              "\n",
              "  .colab-df-quickchart:hover {\n",
              "    background-color: #E2EBFA;\n",
              "    box-shadow: 0px 1px 2px rgba(60, 64, 67, 0.3), 0px 1px 3px 1px rgba(60, 64, 67, 0.15);\n",
              "    fill: #174EA6;\n",
              "  }\n",
              "\n",
              "  [theme=dark] .colab-df-quickchart {\n",
              "    background-color: #3B4455;\n",
              "    fill: #D2E3FC;\n",
              "  }\n",
              "\n",
              "  [theme=dark] .colab-df-quickchart:hover {\n",
              "    background-color: #434B5C;\n",
              "    box-shadow: 0px 1px 3px 1px rgba(0, 0, 0, 0.15);\n",
              "    filter: drop-shadow(0px 1px 2px rgba(0, 0, 0, 0.3));\n",
              "    fill: #FFFFFF;\n",
              "  }\n",
              "</style>\n",
              "\n",
              "  <script>\n",
              "    async function quickchart(key) {\n",
              "      const charts = await google.colab.kernel.invokeFunction(\n",
              "          'suggestCharts', [key], {});\n",
              "    }\n",
              "    (() => {\n",
              "      let quickchartButtonEl =\n",
              "        document.querySelector('#df-f553d97f-88ca-48af-b45b-63d2bd7d801e button');\n",
              "      quickchartButtonEl.style.display =\n",
              "        google.colab.kernel.accessAllowed ? 'block' : 'none';\n",
              "    })();\n",
              "  </script>\n",
              "</div>\n",
              "    </div>\n",
              "  </div>\n"
            ]
          },
          "metadata": {},
          "execution_count": 5
        }
      ],
      "source": [
        "data.describe()"
      ]
    },
    {
      "cell_type": "code",
      "execution_count": null,
      "metadata": {
        "colab": {
          "base_uri": "https://localhost:8080/"
        },
        "id": "TAYR5jm303SU",
        "outputId": "dfe7901e-0f52-42c2-ce09-bad05f6be50f"
      },
      "outputs": [
        {
          "output_type": "execute_result",
          "data": {
            "text/plain": [
              "array([2, 0, 1])"
            ]
          },
          "metadata": {},
          "execution_count": 6
        }
      ],
      "source": [
        "#Is there any other different value than neutral, negative and positive?\n",
        "data['Type'].unique()"
      ]
    },
    {
      "cell_type": "code",
      "execution_count": null,
      "metadata": {
        "colab": {
          "base_uri": "https://localhost:8080/",
          "height": 175
        },
        "id": "-k0kucgUw_AJ",
        "outputId": "0490ef62-1cae-47ce-f295-2cacedb50810"
      },
      "outputs": [
        {
          "output_type": "execute_result",
          "data": {
            "text/plain": [
              "      Tweets  Url\n",
              "Type             \n",
              "0       1188  896\n",
              "1        974  676\n",
              "2        889  240"
            ],
            "text/html": [
              "\n",
              "  <div id=\"df-e5ed9c9c-61a2-4c54-9f16-4e2b1df23291\" class=\"colab-df-container\">\n",
              "    <div>\n",
              "<style scoped>\n",
              "    .dataframe tbody tr th:only-of-type {\n",
              "        vertical-align: middle;\n",
              "    }\n",
              "\n",
              "    .dataframe tbody tr th {\n",
              "        vertical-align: top;\n",
              "    }\n",
              "\n",
              "    .dataframe thead th {\n",
              "        text-align: right;\n",
              "    }\n",
              "</style>\n",
              "<table border=\"1\" class=\"dataframe\">\n",
              "  <thead>\n",
              "    <tr style=\"text-align: right;\">\n",
              "      <th></th>\n",
              "      <th>Tweets</th>\n",
              "      <th>Url</th>\n",
              "    </tr>\n",
              "    <tr>\n",
              "      <th>Type</th>\n",
              "      <th></th>\n",
              "      <th></th>\n",
              "    </tr>\n",
              "  </thead>\n",
              "  <tbody>\n",
              "    <tr>\n",
              "      <th>0</th>\n",
              "      <td>1188</td>\n",
              "      <td>896</td>\n",
              "    </tr>\n",
              "    <tr>\n",
              "      <th>1</th>\n",
              "      <td>974</td>\n",
              "      <td>676</td>\n",
              "    </tr>\n",
              "    <tr>\n",
              "      <th>2</th>\n",
              "      <td>889</td>\n",
              "      <td>240</td>\n",
              "    </tr>\n",
              "  </tbody>\n",
              "</table>\n",
              "</div>\n",
              "    <div class=\"colab-df-buttons\">\n",
              "\n",
              "  <div class=\"colab-df-container\">\n",
              "    <button class=\"colab-df-convert\" onclick=\"convertToInteractive('df-e5ed9c9c-61a2-4c54-9f16-4e2b1df23291')\"\n",
              "            title=\"Convert this dataframe to an interactive table.\"\n",
              "            style=\"display:none;\">\n",
              "\n",
              "  <svg xmlns=\"http://www.w3.org/2000/svg\" height=\"24px\" viewBox=\"0 -960 960 960\">\n",
              "    <path d=\"M120-120v-720h720v720H120Zm60-500h600v-160H180v160Zm220 220h160v-160H400v160Zm0 220h160v-160H400v160ZM180-400h160v-160H180v160Zm440 0h160v-160H620v160ZM180-180h160v-160H180v160Zm440 0h160v-160H620v160Z\"/>\n",
              "  </svg>\n",
              "    </button>\n",
              "\n",
              "  <style>\n",
              "    .colab-df-container {\n",
              "      display:flex;\n",
              "      gap: 12px;\n",
              "    }\n",
              "\n",
              "    .colab-df-convert {\n",
              "      background-color: #E8F0FE;\n",
              "      border: none;\n",
              "      border-radius: 50%;\n",
              "      cursor: pointer;\n",
              "      display: none;\n",
              "      fill: #1967D2;\n",
              "      height: 32px;\n",
              "      padding: 0 0 0 0;\n",
              "      width: 32px;\n",
              "    }\n",
              "\n",
              "    .colab-df-convert:hover {\n",
              "      background-color: #E2EBFA;\n",
              "      box-shadow: 0px 1px 2px rgba(60, 64, 67, 0.3), 0px 1px 3px 1px rgba(60, 64, 67, 0.15);\n",
              "      fill: #174EA6;\n",
              "    }\n",
              "\n",
              "    .colab-df-buttons div {\n",
              "      margin-bottom: 4px;\n",
              "    }\n",
              "\n",
              "    [theme=dark] .colab-df-convert {\n",
              "      background-color: #3B4455;\n",
              "      fill: #D2E3FC;\n",
              "    }\n",
              "\n",
              "    [theme=dark] .colab-df-convert:hover {\n",
              "      background-color: #434B5C;\n",
              "      box-shadow: 0px 1px 3px 1px rgba(0, 0, 0, 0.15);\n",
              "      filter: drop-shadow(0px 1px 2px rgba(0, 0, 0, 0.3));\n",
              "      fill: #FFFFFF;\n",
              "    }\n",
              "  </style>\n",
              "\n",
              "    <script>\n",
              "      const buttonEl =\n",
              "        document.querySelector('#df-e5ed9c9c-61a2-4c54-9f16-4e2b1df23291 button.colab-df-convert');\n",
              "      buttonEl.style.display =\n",
              "        google.colab.kernel.accessAllowed ? 'block' : 'none';\n",
              "\n",
              "      async function convertToInteractive(key) {\n",
              "        const element = document.querySelector('#df-e5ed9c9c-61a2-4c54-9f16-4e2b1df23291');\n",
              "        const dataTable =\n",
              "          await google.colab.kernel.invokeFunction('convertToInteractive',\n",
              "                                                    [key], {});\n",
              "        if (!dataTable) return;\n",
              "\n",
              "        const docLinkHtml = 'Like what you see? Visit the ' +\n",
              "          '<a target=\"_blank\" href=https://colab.research.google.com/notebooks/data_table.ipynb>data table notebook</a>'\n",
              "          + ' to learn more about interactive tables.';\n",
              "        element.innerHTML = '';\n",
              "        dataTable['output_type'] = 'display_data';\n",
              "        await google.colab.output.renderOutput(dataTable, element);\n",
              "        const docLink = document.createElement('div');\n",
              "        docLink.innerHTML = docLinkHtml;\n",
              "        element.appendChild(docLink);\n",
              "      }\n",
              "    </script>\n",
              "  </div>\n",
              "\n",
              "\n",
              "<div id=\"df-60f1e6cf-71ca-4fff-b009-c84095308dd7\">\n",
              "  <button class=\"colab-df-quickchart\" onclick=\"quickchart('df-60f1e6cf-71ca-4fff-b009-c84095308dd7')\"\n",
              "            title=\"Suggest charts.\"\n",
              "            style=\"display:none;\">\n",
              "\n",
              "<svg xmlns=\"http://www.w3.org/2000/svg\" height=\"24px\"viewBox=\"0 0 24 24\"\n",
              "     width=\"24px\">\n",
              "    <g>\n",
              "        <path d=\"M19 3H5c-1.1 0-2 .9-2 2v14c0 1.1.9 2 2 2h14c1.1 0 2-.9 2-2V5c0-1.1-.9-2-2-2zM9 17H7v-7h2v7zm4 0h-2V7h2v10zm4 0h-2v-4h2v4z\"/>\n",
              "    </g>\n",
              "</svg>\n",
              "  </button>\n",
              "\n",
              "<style>\n",
              "  .colab-df-quickchart {\n",
              "    background-color: #E8F0FE;\n",
              "    border: none;\n",
              "    border-radius: 50%;\n",
              "    cursor: pointer;\n",
              "    display: none;\n",
              "    fill: #1967D2;\n",
              "    height: 32px;\n",
              "    padding: 0 0 0 0;\n",
              "    width: 32px;\n",
              "  }\n",
              "\n",
              "  .colab-df-quickchart:hover {\n",
              "    background-color: #E2EBFA;\n",
              "    box-shadow: 0px 1px 2px rgba(60, 64, 67, 0.3), 0px 1px 3px 1px rgba(60, 64, 67, 0.15);\n",
              "    fill: #174EA6;\n",
              "  }\n",
              "\n",
              "  [theme=dark] .colab-df-quickchart {\n",
              "    background-color: #3B4455;\n",
              "    fill: #D2E3FC;\n",
              "  }\n",
              "\n",
              "  [theme=dark] .colab-df-quickchart:hover {\n",
              "    background-color: #434B5C;\n",
              "    box-shadow: 0px 1px 3px 1px rgba(0, 0, 0, 0.15);\n",
              "    filter: drop-shadow(0px 1px 2px rgba(0, 0, 0, 0.3));\n",
              "    fill: #FFFFFF;\n",
              "  }\n",
              "</style>\n",
              "\n",
              "  <script>\n",
              "    async function quickchart(key) {\n",
              "      const charts = await google.colab.kernel.invokeFunction(\n",
              "          'suggestCharts', [key], {});\n",
              "    }\n",
              "    (() => {\n",
              "      let quickchartButtonEl =\n",
              "        document.querySelector('#df-60f1e6cf-71ca-4fff-b009-c84095308dd7 button');\n",
              "      quickchartButtonEl.style.display =\n",
              "        google.colab.kernel.accessAllowed ? 'block' : 'none';\n",
              "    })();\n",
              "  </script>\n",
              "</div>\n",
              "    </div>\n",
              "  </div>\n"
            ]
          },
          "metadata": {},
          "execution_count": 7
        }
      ],
      "source": [
        "#How's distributed the dataset? Is it biased?\n",
        "data.groupby('Type').nunique()"
      ]
    },
    {
      "cell_type": "code",
      "execution_count": null,
      "metadata": {
        "colab": {
          "base_uri": "https://localhost:8080/",
          "height": 206
        },
        "id": "brTuPp-9vhh9",
        "outputId": "83a4c9ec-8bc5-4b02-e8d6-62fe4855648b"
      },
      "outputs": [
        {
          "output_type": "execute_result",
          "data": {
            "text/plain": [
              "                                              Tweets  Type\n",
              "0  3 month since I got covid update \\n\\nSymptoms ...     2\n",
              "1  As we celebrate summer get togethers, such as ...     0\n",
              "2  Total BS. It's now proven... no one has natura...     0\n",
              "3  @debzc1 They don't want to debate their compli...     1\n",
              "4  FDA updates all opioid medication labeling and...     2"
            ],
            "text/html": [
              "\n",
              "  <div id=\"df-55c169ed-0475-4e6f-933e-255c35f33430\" class=\"colab-df-container\">\n",
              "    <div>\n",
              "<style scoped>\n",
              "    .dataframe tbody tr th:only-of-type {\n",
              "        vertical-align: middle;\n",
              "    }\n",
              "\n",
              "    .dataframe tbody tr th {\n",
              "        vertical-align: top;\n",
              "    }\n",
              "\n",
              "    .dataframe thead th {\n",
              "        text-align: right;\n",
              "    }\n",
              "</style>\n",
              "<table border=\"1\" class=\"dataframe\">\n",
              "  <thead>\n",
              "    <tr style=\"text-align: right;\">\n",
              "      <th></th>\n",
              "      <th>Tweets</th>\n",
              "      <th>Type</th>\n",
              "    </tr>\n",
              "  </thead>\n",
              "  <tbody>\n",
              "    <tr>\n",
              "      <th>0</th>\n",
              "      <td>3 month since I got covid update \\n\\nSymptoms ...</td>\n",
              "      <td>2</td>\n",
              "    </tr>\n",
              "    <tr>\n",
              "      <th>1</th>\n",
              "      <td>As we celebrate summer get togethers, such as ...</td>\n",
              "      <td>0</td>\n",
              "    </tr>\n",
              "    <tr>\n",
              "      <th>2</th>\n",
              "      <td>Total BS. It's now proven... no one has natura...</td>\n",
              "      <td>0</td>\n",
              "    </tr>\n",
              "    <tr>\n",
              "      <th>3</th>\n",
              "      <td>@debzc1 They don't want to debate their compli...</td>\n",
              "      <td>1</td>\n",
              "    </tr>\n",
              "    <tr>\n",
              "      <th>4</th>\n",
              "      <td>FDA updates all opioid medication labeling and...</td>\n",
              "      <td>2</td>\n",
              "    </tr>\n",
              "  </tbody>\n",
              "</table>\n",
              "</div>\n",
              "    <div class=\"colab-df-buttons\">\n",
              "\n",
              "  <div class=\"colab-df-container\">\n",
              "    <button class=\"colab-df-convert\" onclick=\"convertToInteractive('df-55c169ed-0475-4e6f-933e-255c35f33430')\"\n",
              "            title=\"Convert this dataframe to an interactive table.\"\n",
              "            style=\"display:none;\">\n",
              "\n",
              "  <svg xmlns=\"http://www.w3.org/2000/svg\" height=\"24px\" viewBox=\"0 -960 960 960\">\n",
              "    <path d=\"M120-120v-720h720v720H120Zm60-500h600v-160H180v160Zm220 220h160v-160H400v160Zm0 220h160v-160H400v160ZM180-400h160v-160H180v160Zm440 0h160v-160H620v160ZM180-180h160v-160H180v160Zm440 0h160v-160H620v160Z\"/>\n",
              "  </svg>\n",
              "    </button>\n",
              "\n",
              "  <style>\n",
              "    .colab-df-container {\n",
              "      display:flex;\n",
              "      gap: 12px;\n",
              "    }\n",
              "\n",
              "    .colab-df-convert {\n",
              "      background-color: #E8F0FE;\n",
              "      border: none;\n",
              "      border-radius: 50%;\n",
              "      cursor: pointer;\n",
              "      display: none;\n",
              "      fill: #1967D2;\n",
              "      height: 32px;\n",
              "      padding: 0 0 0 0;\n",
              "      width: 32px;\n",
              "    }\n",
              "\n",
              "    .colab-df-convert:hover {\n",
              "      background-color: #E2EBFA;\n",
              "      box-shadow: 0px 1px 2px rgba(60, 64, 67, 0.3), 0px 1px 3px 1px rgba(60, 64, 67, 0.15);\n",
              "      fill: #174EA6;\n",
              "    }\n",
              "\n",
              "    .colab-df-buttons div {\n",
              "      margin-bottom: 4px;\n",
              "    }\n",
              "\n",
              "    [theme=dark] .colab-df-convert {\n",
              "      background-color: #3B4455;\n",
              "      fill: #D2E3FC;\n",
              "    }\n",
              "\n",
              "    [theme=dark] .colab-df-convert:hover {\n",
              "      background-color: #434B5C;\n",
              "      box-shadow: 0px 1px 3px 1px rgba(0, 0, 0, 0.15);\n",
              "      filter: drop-shadow(0px 1px 2px rgba(0, 0, 0, 0.3));\n",
              "      fill: #FFFFFF;\n",
              "    }\n",
              "  </style>\n",
              "\n",
              "    <script>\n",
              "      const buttonEl =\n",
              "        document.querySelector('#df-55c169ed-0475-4e6f-933e-255c35f33430 button.colab-df-convert');\n",
              "      buttonEl.style.display =\n",
              "        google.colab.kernel.accessAllowed ? 'block' : 'none';\n",
              "\n",
              "      async function convertToInteractive(key) {\n",
              "        const element = document.querySelector('#df-55c169ed-0475-4e6f-933e-255c35f33430');\n",
              "        const dataTable =\n",
              "          await google.colab.kernel.invokeFunction('convertToInteractive',\n",
              "                                                    [key], {});\n",
              "        if (!dataTable) return;\n",
              "\n",
              "        const docLinkHtml = 'Like what you see? Visit the ' +\n",
              "          '<a target=\"_blank\" href=https://colab.research.google.com/notebooks/data_table.ipynb>data table notebook</a>'\n",
              "          + ' to learn more about interactive tables.';\n",
              "        element.innerHTML = '';\n",
              "        dataTable['output_type'] = 'display_data';\n",
              "        await google.colab.output.renderOutput(dataTable, element);\n",
              "        const docLink = document.createElement('div');\n",
              "        docLink.innerHTML = docLinkHtml;\n",
              "        element.appendChild(docLink);\n",
              "      }\n",
              "    </script>\n",
              "  </div>\n",
              "\n",
              "\n",
              "<div id=\"df-5a4455a2-8f53-461a-9b4a-c4d699ec1fba\">\n",
              "  <button class=\"colab-df-quickchart\" onclick=\"quickchart('df-5a4455a2-8f53-461a-9b4a-c4d699ec1fba')\"\n",
              "            title=\"Suggest charts.\"\n",
              "            style=\"display:none;\">\n",
              "\n",
              "<svg xmlns=\"http://www.w3.org/2000/svg\" height=\"24px\"viewBox=\"0 0 24 24\"\n",
              "     width=\"24px\">\n",
              "    <g>\n",
              "        <path d=\"M19 3H5c-1.1 0-2 .9-2 2v14c0 1.1.9 2 2 2h14c1.1 0 2-.9 2-2V5c0-1.1-.9-2-2-2zM9 17H7v-7h2v7zm4 0h-2V7h2v10zm4 0h-2v-4h2v4z\"/>\n",
              "    </g>\n",
              "</svg>\n",
              "  </button>\n",
              "\n",
              "<style>\n",
              "  .colab-df-quickchart {\n",
              "    background-color: #E8F0FE;\n",
              "    border: none;\n",
              "    border-radius: 50%;\n",
              "    cursor: pointer;\n",
              "    display: none;\n",
              "    fill: #1967D2;\n",
              "    height: 32px;\n",
              "    padding: 0 0 0 0;\n",
              "    width: 32px;\n",
              "  }\n",
              "\n",
              "  .colab-df-quickchart:hover {\n",
              "    background-color: #E2EBFA;\n",
              "    box-shadow: 0px 1px 2px rgba(60, 64, 67, 0.3), 0px 1px 3px 1px rgba(60, 64, 67, 0.15);\n",
              "    fill: #174EA6;\n",
              "  }\n",
              "\n",
              "  [theme=dark] .colab-df-quickchart {\n",
              "    background-color: #3B4455;\n",
              "    fill: #D2E3FC;\n",
              "  }\n",
              "\n",
              "  [theme=dark] .colab-df-quickchart:hover {\n",
              "    background-color: #434B5C;\n",
              "    box-shadow: 0px 1px 3px 1px rgba(0, 0, 0, 0.15);\n",
              "    filter: drop-shadow(0px 1px 2px rgba(0, 0, 0, 0.3));\n",
              "    fill: #FFFFFF;\n",
              "  }\n",
              "</style>\n",
              "\n",
              "  <script>\n",
              "    async function quickchart(key) {\n",
              "      const charts = await google.colab.kernel.invokeFunction(\n",
              "          'suggestCharts', [key], {});\n",
              "    }\n",
              "    (() => {\n",
              "      let quickchartButtonEl =\n",
              "        document.querySelector('#df-5a4455a2-8f53-461a-9b4a-c4d699ec1fba button');\n",
              "      quickchartButtonEl.style.display =\n",
              "        google.colab.kernel.accessAllowed ? 'block' : 'none';\n",
              "    })();\n",
              "  </script>\n",
              "</div>\n",
              "    </div>\n",
              "  </div>\n"
            ]
          },
          "metadata": {},
          "execution_count": 8
        }
      ],
      "source": [
        "#Let's keep only the columns that we're going to use\n",
        "data = data[['Tweets','Type']]\n",
        "data.head()\n"
      ]
    },
    {
      "cell_type": "code",
      "execution_count": null,
      "metadata": {
        "colab": {
          "base_uri": "https://localhost:8080/"
        },
        "id": "HLxkfUXf071v",
        "outputId": "a4e916a7-0985-41a4-b74f-6bf8f8704d71"
      },
      "outputs": [
        {
          "output_type": "execute_result",
          "data": {
            "text/plain": [
              "0"
            ]
          },
          "metadata": {},
          "execution_count": 9
        }
      ],
      "source": [
        "#Is there any null value?\n",
        "data[\"Tweets\"].isnull().sum()"
      ]
    },
    {
      "cell_type": "code",
      "execution_count": null,
      "metadata": {
        "id": "xcs9K5ip0-g9"
      },
      "outputs": [],
      "source": [
        "#Let's fill the only null value.\n",
        "data[\"Tweets\"].fillna(\"No content\", inplace = True)"
      ]
    },
    {
      "cell_type": "code",
      "execution_count": null,
      "metadata": {
        "colab": {
          "base_uri": "https://localhost:8080/"
        },
        "id": "LdcVDfwv1GHY",
        "outputId": "89314553-eaea-4589-a65e-f0052a3733c4"
      },
      "outputs": [
        {
          "output_type": "stream",
          "name": "stdout",
          "text": [
            "                                                 Tweets  Type\n",
            "0     3 month since I got covid update \\n\\nSymptoms ...     2\n",
            "1     As we celebrate summer get togethers, such as ...     0\n",
            "2     Total BS. It's now proven... no one has natura...     0\n",
            "3     @debzc1 They don't want to debate their compli...     1\n",
            "4     FDA updates all opioid medication labeling and...     2\n",
            "...                                                 ...   ...\n",
            "3094  Yes. Been going on for decades but got a huge ...     1\n",
            "3095  Thread\\nSee new Tweets\\nConversation\\nVirtual ...     2\n",
            "3096  OK update just out UK NHS Covid news\\nSpring C...     2\n",
            "3097  Mom and I got our second boosters today at the...     0\n",
            "3098  @sfchronicle This is why we need to #KeepMasks...     0\n",
            "\n",
            "[3099 rows x 2 columns]\n"
          ]
        }
      ],
      "source": [
        "print(data)"
      ]
    },
    {
      "cell_type": "code",
      "execution_count": null,
      "metadata": {
        "id": "nrnSB3CZ0_29"
      },
      "outputs": [],
      "source": [
        "def depure_data(data):\n",
        "\n",
        "    #Removing URLs with a regular expression\n",
        "    url_pattern = re.compile(r'https?://\\S+|www\\.\\S+')\n",
        "    data = url_pattern.sub(r'', data)\n",
        "\n",
        "    # Remove Emails\n",
        "    data = re.sub('\\S*@\\S*\\s?', '', data)\n",
        "\n",
        "    # Remove new line characters\n",
        "    data = re.sub('\\s+', ' ', data)\n",
        "\n",
        "    # Remove distracting single quotes\n",
        "    data = re.sub(\"\\'\", \"\", data)\n",
        "\n",
        "    return data"
      ]
    },
    {
      "cell_type": "code",
      "execution_count": null,
      "metadata": {
        "id": "QUUgH92zsCKt"
      },
      "outputs": [],
      "source": [
        "# Step 1: Load and preprocess the CSV file\n",
        "class CustomDataset(Dataset):\n",
        "    def __init__(self, texts, labels, tokenizer, max_length):\n",
        "        self.texts = texts\n",
        "        self.labels = labels\n",
        "        self.max_length = max_length\n",
        "        self.tokenizer = tokenizer\n",
        "\n",
        "    def __len__(self):\n",
        "        return len(self.texts)\n",
        "\n",
        "    def __getitem__(self, index):\n",
        "        text = str(self.texts[index])\n",
        "        label = self.labels[index]\n",
        "        encoding = self.tokenizer.encode_plus(\n",
        "            text,\n",
        "            add_special_tokens=True,\n",
        "            max_length=self.max_length,\n",
        "            padding='max_length',\n",
        "            return_tensors='pt',\n",
        "            truncation=True\n",
        "        )\n",
        "        return {\n",
        "            'input_ids': encoding['input_ids'].flatten(),\n",
        "            'attention_mask': encoding['attention_mask'].flatten(),\n",
        "            'label': torch.tensor(label, dtype=torch.long)\n",
        "        }\n",
        "\n"
      ]
    },
    {
      "cell_type": "code",
      "execution_count": null,
      "metadata": {
        "colab": {
          "base_uri": "https://localhost:8080/",
          "height": 182,
          "referenced_widgets": [
            "5fcd1ac4236e4328be17f54c37ce5c86",
            "5dc6d8ca03a74b69b114077c675ebe7e",
            "86c02392a5254618965ac52c88562042",
            "9556023d5f1e4df4b19afef122ff3ab6",
            "ab535e506bc84304a8be142cf42a324c",
            "2f2b0a68bc864ee093d5df0f60d1d293",
            "2c4224f2c6ae4b4488ec023b8dd606ac",
            "3870d7b30fde4b8baca5033c94ae697a",
            "dc12e6c770424fa5afa2798fe7de48c9",
            "d28ce887e1ad4ebf9b9227467128d875",
            "cdb10fcf041641cab45a7674c17f9694",
            "ff974c37ba4848feb984a23a8fd0c423",
            "24c1cb9bf5f7450d8886d8908027a0b5",
            "cf0c983c4cbc43189c8ce357251cd4e7",
            "ba67ed52ef1e4a0c8cbd24253887cb31",
            "97781caaa03a4c338dc30aaefbeab2ac",
            "2684b8ce4de8452b81b46b37f432917d",
            "bd2200aabf654e6b98a7165c35103ddd",
            "d4d201e38519497e90dbb12cf8b9cd62",
            "eaaa8af941b747b9800e8ec3dec353f7",
            "956752fdbbaa415d92de7cc640979750",
            "ecb60994d2e045e2b4a25b5d58091369",
            "deedce14bb3c44029d40a121d043295c",
            "7d3ac7a93901432cb13e27a53bc1e053",
            "72b573a812ba496dabc9a99272a1d6b5",
            "f88a4f664a0341fb8c79f539922da351",
            "42a3e5cc436f4e19a63705b23a229520",
            "82a668d8a6234043a97958ff193dea77",
            "6d16958869b341c4bbb699aca2505722",
            "c8a968b9d02c4fcf924099070b571d38",
            "812c4d9a34a14d0b81245604d1b5fc8d",
            "b112ed0b8be14c9fb5b1162e6832805c",
            "207bc1ec17d04284a8d6c56089cb1e42",
            "b2f64990a63c4828ba37b992933d21bd",
            "5d50c5d4677943d2adf2c534c1722d08",
            "c8acdc08abc8432ab5d68e289a9a2e67",
            "298181193ca2449a83e6306c9bf3342c",
            "ba1734351d444935bae59ca3134d86eb",
            "d2bc5278aeb349ee9f52e74f3e9d28e4",
            "39777b366fc34f469886adec196d5e86",
            "eb72ad2ec8534b39bab632966fb5dc4d",
            "14b7678ea7c74a368a48efd1151d2a8a",
            "70bc230740844198abee83808cfd77b9",
            "983979207c9b4b0e9ed771243483ec47"
          ]
        },
        "id": "9IZpo3w6sHmw",
        "outputId": "14ed00f9-914f-44d4-9c91-f6661f4d0d49"
      },
      "outputs": [
        {
          "output_type": "display_data",
          "data": {
            "text/plain": [
              "Downloading (…)solve/main/vocab.txt:   0%|          | 0.00/232k [00:00<?, ?B/s]"
            ],
            "application/vnd.jupyter.widget-view+json": {
              "version_major": 2,
              "version_minor": 0,
              "model_id": "5fcd1ac4236e4328be17f54c37ce5c86"
            }
          },
          "metadata": {}
        },
        {
          "output_type": "display_data",
          "data": {
            "text/plain": [
              "Downloading (…)okenizer_config.json:   0%|          | 0.00/28.0 [00:00<?, ?B/s]"
            ],
            "application/vnd.jupyter.widget-view+json": {
              "version_major": 2,
              "version_minor": 0,
              "model_id": "ff974c37ba4848feb984a23a8fd0c423"
            }
          },
          "metadata": {}
        },
        {
          "output_type": "display_data",
          "data": {
            "text/plain": [
              "Downloading (…)lve/main/config.json:   0%|          | 0.00/570 [00:00<?, ?B/s]"
            ],
            "application/vnd.jupyter.widget-view+json": {
              "version_major": 2,
              "version_minor": 0,
              "model_id": "deedce14bb3c44029d40a121d043295c"
            }
          },
          "metadata": {}
        },
        {
          "output_type": "display_data",
          "data": {
            "text/plain": [
              "Downloading model.safetensors:   0%|          | 0.00/440M [00:00<?, ?B/s]"
            ],
            "application/vnd.jupyter.widget-view+json": {
              "version_major": 2,
              "version_minor": 0,
              "model_id": "b2f64990a63c4828ba37b992933d21bd"
            }
          },
          "metadata": {}
        },
        {
          "output_type": "stream",
          "name": "stderr",
          "text": [
            "Some weights of BertForSequenceClassification were not initialized from the model checkpoint at bert-base-uncased and are newly initialized: ['classifier.bias', 'classifier.weight']\n",
            "You should probably TRAIN this model on a down-stream task to be able to use it for predictions and inference.\n"
          ]
        }
      ],
      "source": [
        "# Step 2: Load the pre-trained BERT model and tokenizer\n",
        "tokenizer = BertTokenizer.from_pretrained('bert-base-uncased')\n",
        "model = BertForSequenceClassification.from_pretrained('bert-base-uncased', num_labels=3)\n"
      ]
    },
    {
      "cell_type": "code",
      "execution_count": null,
      "metadata": {
        "id": "RYeUGkcOvSom"
      },
      "outputs": [],
      "source": [
        "texts = data[\"Tweets\"].tolist()\n",
        "labels = data['Type'].tolist()"
      ]
    },
    {
      "cell_type": "code",
      "execution_count": null,
      "metadata": {
        "id": "qrK7Iwg2sHr_"
      },
      "outputs": [],
      "source": [
        "# Step 3: Load and preprocess the CSV file\n",
        "dataset = CustomDataset(texts, labels, tokenizer, max_length=128)\n"
      ]
    },
    {
      "cell_type": "code",
      "execution_count": null,
      "metadata": {
        "id": "xBToDYHhsLrr"
      },
      "outputs": [],
      "source": [
        "\n",
        "\n",
        "batch_size = 4\n",
        "train_size = int(0.85 * len(dataset))\n",
        "train_dataset, test_dataset = torch.utils.data.random_split(dataset, [train_size, len(dataset) - train_size])\n",
        "\n",
        "train_dataloader = DataLoader(train_dataset, batch_size=batch_size, shuffle=True)\n",
        "test_dataloader = DataLoader(test_dataset, batch_size=batch_size, shuffle=False)\n",
        "\n",
        "# Freeze some layers\n",
        "for param in model.bert.embeddings.parameters():\n",
        "    param.requires_grad = False\n"
      ]
    },
    {
      "cell_type": "code",
      "execution_count": null,
      "metadata": {
        "id": "06AUTh8ZOSLG"
      },
      "outputs": [],
      "source": []
    },
    {
      "cell_type": "code",
      "execution_count": null,
      "metadata": {
        "colab": {
          "base_uri": "https://localhost:8080/"
        },
        "id": "rAYGVAXmsMXX",
        "outputId": "88a4e019-3fe5-400d-d11a-b613ee8c9aa2"
      },
      "outputs": [
        {
          "output_type": "stream",
          "name": "stdout",
          "text": [
            "Epoch 1/4:\n",
            "  Training Accuracy: 0.7612\n",
            "  Training Average Loss: 0.5490\n",
            "  Testing Accuracy: 0.8258\n",
            "  Testing Average Loss: 0.4179\n",
            "Epoch 2/4:\n",
            "  Training Accuracy: 0.9077\n",
            "  Training Average Loss: 0.2502\n",
            "  Testing Accuracy: 0.8667\n",
            "  Testing Average Loss: 0.3359\n",
            "Epoch 3/4:\n",
            "  Training Accuracy: 0.9647\n",
            "  Training Average Loss: 0.1135\n",
            "  Testing Accuracy: 0.8452\n",
            "  Testing Average Loss: 0.4827\n",
            "Epoch 4/4:\n",
            "  Training Accuracy: 0.9810\n",
            "  Training Average Loss: 0.0641\n",
            "  Testing Accuracy: 0.8215\n",
            "  Testing Average Loss: 0.5776\n"
          ]
        }
      ],
      "source": [
        "# Step 5: Fine-tune the BERT model\n",
        "device = torch.device('cuda' if torch.cuda.is_available() else 'cpu')\n",
        "model.to(device)\n",
        "\n",
        "optimizer = optim.AdamW(model.parameters(), lr=2e-5)\n",
        "\n",
        "num_epochs = 4\n",
        "for epoch in range(num_epochs):\n",
        "    model.train()\n",
        "    total_loss = 0\n",
        "    correct_predictions = 0\n",
        "    total_predictions = 0\n",
        "\n",
        "    for batch in train_dataloader:\n",
        "        input_ids = batch['input_ids'].to(device)\n",
        "        attention_mask = batch['attention_mask'].to(device)\n",
        "        labels = batch['label'].to(device)\n",
        "\n",
        "        outputs = model(input_ids, attention_mask=attention_mask, labels=labels)\n",
        "        loss = outputs.loss\n",
        "        logits = outputs.logits\n",
        "\n",
        "        optimizer.zero_grad()\n",
        "        loss.backward()\n",
        "        optimizer.step()\n",
        "\n",
        "        total_loss += loss.item()\n",
        "        _, predicted_labels = torch.max(logits, 1)\n",
        "        correct_predictions += (predicted_labels == labels).sum().item()\n",
        "        total_predictions += labels.size(0)\n",
        "\n",
        "    # Calculate accuracy and average loss for the epoch\n",
        "    accuracy = correct_predictions / total_predictions\n",
        "    average_loss = total_loss / len(train_dataloader)\n",
        "\n",
        "    print(f\"Epoch {epoch+1}/{num_epochs}:\")\n",
        "    print(f\"  Training Accuracy: {accuracy:.4f}\")\n",
        "    print(f\"  Training Average Loss: {average_loss:.4f}\")\n",
        "\n",
        "    # Evaluate on the test set\n",
        "    model.eval()\n",
        "    with torch.no_grad():\n",
        "        total_loss = 0\n",
        "        correct_predictions = 0\n",
        "        total_predictions = 0\n",
        "\n",
        "        for batch in test_dataloader:\n",
        "            input_ids = batch['input_ids'].to(device)\n",
        "            attention_mask = batch['attention_mask'].to(device)\n",
        "            labels = batch['label'].to(device)\n",
        "\n",
        "            outputs = model(input_ids, attention_mask=attention_mask, labels=labels)  # Add the 'labels' argument\n",
        "            loss = outputs.loss\n",
        "            total_loss += loss.item()\n",
        "\n",
        "            _, predicted_labels = torch.max(outputs.logits, 1)\n",
        "            correct_predictions += (predicted_labels == labels).sum().item()\n",
        "            total_predictions += labels.size(0)\n",
        "\n",
        "        accuracy = correct_predictions / total_predictions\n",
        "        average_loss = total_loss / len(test_dataloader)\n",
        "\n",
        "        print(f\"  Testing Accuracy: {accuracy:.4f}\")\n",
        "        print(f\"  Testing Average Loss: {average_loss:.4f}\")\n",
        "\n",
        "# Step 6: Use the fine-tuned model to make predictions\n",
        "model.eval()\n",
        "\n",
        "\n",
        "\n",
        "\n",
        "# Save the model's state_dict to a file\n",
        "torch.save(model.state_dict(), 'bert_sentiment_model.pth')"
      ]
    },
    {
      "cell_type": "code",
      "execution_count": null,
      "metadata": {
        "colab": {
          "base_uri": "https://localhost:8080/"
        },
        "id": "VcktTMzOysQo",
        "outputId": "34eababc-fbee-4cf7-9acb-853291ef7412"
      },
      "outputs": [
        {
          "output_type": "stream",
          "name": "stderr",
          "text": [
            "Some weights of BertForSequenceClassification were not initialized from the model checkpoint at bert-base-uncased and are newly initialized: ['classifier.bias', 'classifier.weight']\n",
            "You should probably TRAIN this model on a down-stream task to be able to use it for predictions and inference.\n"
          ]
        },
        {
          "output_type": "stream",
          "name": "stdout",
          "text": [
            "Prediction 1: 0\n",
            "Prediction 2: 1\n",
            "Prediction 3: 1\n",
            "Prediction 4: 0\n",
            "Prediction 5: 1\n",
            "Prediction 6: 1\n",
            "Prediction 7: 1\n",
            "Prediction 8: 0\n",
            "Prediction 9: 1\n",
            "Prediction 9: 2\n"
          ]
        }
      ],
      "source": [
        "# Load the saved model\n",
        "model = BertForSequenceClassification.from_pretrained('bert-base-uncased', num_labels=3)\n",
        "model.load_state_dict(torch.load('bert_sentiment_model.pth'))\n",
        "model.to(device)\n",
        "model.eval()\n",
        "\n",
        "# Function to make predictions on new texts\n",
        "def predict_sentiment(text):\n",
        "    inputs = tokenizer.encode_plus(\n",
        "        text,\n",
        "        add_special_tokens=True,\n",
        "        max_length=128,\n",
        "        padding='max_length',\n",
        "        return_tensors='pt',\n",
        "        truncation=True\n",
        "    )\n",
        "    input_ids = inputs['input_ids'].to(device)\n",
        "    attention_mask = inputs['attention_mask'].to(device)\n",
        "\n",
        "    with torch.no_grad():\n",
        "        outputs = model(input_ids, attention_mask=attention_mask)\n",
        "        logits = outputs.logits\n",
        "        _, predicted_label = torch.max(logits, 1)\n",
        "\n",
        "    return predicted_label.item()\n",
        "\n",
        "# Example usage:\n",
        "text1 = \"covid vaccine protected my elder family\"\n",
        "text2 = \"injuries are happening but they are not many in comparison with the long covid cases\"\n",
        "text3 = \"covid is a created virus that is going to controll us\"\n",
        "text4 = \"just wear a mask an protect the others\"\n",
        "text5 = \"On 21 February 2021 I noted in an affidavit that the World Health Organisation had 102,000 reports of COVID vaccine adverse drug reactions on its http://vigiaccess.org database. This week the number passed the 5,000,000 mark.  Let me repeat this because it is hard to believe. According to WHO’s own data, more than 5,000,000 people are suspected to have been harmed by the COVID vaccines. The exact number today is 5,026,245 people, including tens of thousands of deaths.\"\n",
        "test6 =\"injecting children with an experimental gene therapy, silencing critics, and mask mandates. In addition, you have pronouns in your bio and called the Covid vaccines 'safe and effective'.You should keep your mouth shut!\"\n",
        "\n",
        "prediction1 = predict_sentiment(text1) #0\n",
        "prediction2 = predict_sentiment(text2) #2\n",
        "prediction3 = predict_sentiment(text3) #1\n",
        "prediction4 = predict_sentiment(text4) #0\n",
        "prediction5 = predict_sentiment(text5) #1\n",
        "prediction6 = predict_sentiment(text5) #1\n",
        "p7 = predict_sentiment(\"The Bible has been manipulated by the dark side for a long time. The real bible was found under the Vatican. This guy has many different bibles and shows you the difference in regards to the Mark of the Beast ! COVID SHOT\") #1\n",
        "p8 = predict_sentiment(\"Getting Covid is not a personal failing Getting long Covid is not a personal failing Being high risk for Covid is not a personal failing People have about as much control over this as their eye colour.So stop treating all of the above like it’s their fault\") #0 / 2\n",
        "p9 = predict_sentiment(\"Our Covid data project Is over, but the need for timely data is not.The John Hopkins Coronavirus Resource Centre.\") #2\n",
        "p10 = predict_sentiment(\"5000 are the new covid cases in greece for the week\")#2\n",
        "\n",
        "print(\"Prediction 1:\", prediction1)\n",
        "print(\"Prediction 2:\", prediction2)\n",
        "print(\"Prediction 3:\", prediction3)\n",
        "print(\"Prediction 4:\", prediction4)\n",
        "print(\"Prediction 5:\", prediction5)\n",
        "print(\"Prediction 6:\", prediction6)\n",
        "print(\"Prediction 7:\", p7)\n",
        "print(\"Prediction 8:\", p8)\n",
        "print(\"Prediction 9:\", p9)\n",
        "print(\"Prediction 9:\", p10)"
      ]
    },
    {
      "cell_type": "code",
      "execution_count": null,
      "metadata": {
        "id": "ucmvZnAgsMd3"
      },
      "outputs": [],
      "source": []
    },
    {
      "cell_type": "code",
      "execution_count": null,
      "metadata": {
        "id": "Oz2yXEeX1BHo",
        "colab": {
          "base_uri": "https://localhost:8080/"
        },
        "outputId": "e8327524-9f31-47ad-d6f5-e3f4a5a77425"
      },
      "outputs": [
        {
          "output_type": "execute_result",
          "data": {
            "text/plain": [
              "['3 month since I got covid update Symptoms that have passed: - Congestion - Coughing - Burning Skin - Constantly overheating - Suppressed appetite - Dizziness - Extremely light sleep - Confusion/disorientation - Inability to visualize - Derealisation - Extreme ',\n",
              " 'As we celebrate summer get togethers, such as family reunions, graduations and vacations... please be safe. #Vaccinatedandboosted',\n",
              " 'Total BS. Its now proven... no one has natural immunity. Many covid-19 patients caught it more than once and get hospitalized. And its already proven in US with >620K deaths - path via natural immunity will be a disaster - with lots of people to die along the way. If it wasnt for the vaccine US probably wouldve added at least another 300K deaths more to what we already have.',\n",
              " 'They dont want to debate their complicity in the #scamdemic #democide #humanrightsabuses',\n",
              " 'FDA updates all opioid medication labeling and includes a warning about OIH.',\n",
              " 'COVID vaccines for Americas youngest youngsters: FDA sets June me',\n",
              " 'I ask myself a thousand times a day: Why me? Why did I develop severe long covid when everyone around me is fine? But I was reading LOTR and this passage seems very fitting. We must use such strength and heart and wits as we have.',\n",
              " 'Such a deadly virus that high risk patients only need a pill to be treated at home ',\n",
              " 'Read our response to COVID-19 here: ',\n",
              " 'While two-thirds of Americans have completed the primary vaccine series, only about one-third have received boosters. The countrys per capita booster coverage trails that of some 70 other nations #Vaccinate #GetBoosted #COVID19 #Preparedness']"
            ]
          },
          "metadata": {},
          "execution_count": 20
        }
      ],
      "source": [
        "temp = []\n",
        "#Splitting pd.Series to list\n",
        "data_to_list = data['Tweets'].values.tolist()\n",
        "for i in range(len(data_to_list)):\n",
        "    temp.append(depure_data(data_to_list[i]))\n",
        "list(temp[:10])"
      ]
    },
    {
      "cell_type": "code",
      "execution_count": null,
      "metadata": {
        "id": "uon8UX3C1C2O",
        "colab": {
          "base_uri": "https://localhost:8080/"
        },
        "outputId": "cdb6fe16-6067-45e1-e64a-de10d50ecdd4"
      },
      "outputs": [
        {
          "output_type": "stream",
          "name": "stdout",
          "text": [
            "[['month', 'since', 'got', 'covid', 'update', 'symptoms', 'that', 'have', 'passed', 'congestion', 'coughing', 'burning', 'skin', 'constantly', 'overheating', 'suppressed', 'appetite', 'dizziness', 'extremely', 'light', 'sleep', 'confusion', 'disorientation', 'inability', 'to', 'visualize', 'derealisation', 'extreme'], ['as', 'we', 'celebrate', 'summer', 'get', 'togethers', 'such', 'as', 'family', 'reunions', 'graduations', 'and', 'vacations', 'please', 'be', 'safe'], ['total', 'bs', 'its', 'now', 'proven', 'no', 'one', 'has', 'natural', 'immunity', 'many', 'covid', 'patients', 'caught', 'it', 'more', 'than', 'once', 'and', 'get', 'hospitalized', 'and', 'its', 'already', 'proven', 'in', 'us', 'with', 'deaths', 'path', 'via', 'natural', 'immunity', 'will', 'be', 'disaster', 'with', 'lots', 'of', 'people', 'to', 'die', 'along', 'the', 'way', 'if', 'it', 'wasnt', 'for', 'the', 'vaccine', 'us', 'probably', 'wouldve', 'added', 'at', 'least', 'another', 'deaths', 'more', 'to', 'what', 'we', 'already', 'have'], ['they', 'dont', 'want', 'to', 'debate', 'their', 'complicity', 'in', 'the', 'scamdemic', 'democide'], ['fda', 'updates', 'all', 'opioid', 'medication', 'labeling', 'and', 'includes', 'warning', 'about', 'oih']]\n"
          ]
        }
      ],
      "source": [
        "def sent_to_words(sentences):\n",
        "    for sentence in sentences:\n",
        "        yield(gensim.utils.simple_preprocess(str(sentence), deacc=True))  # deacc=True removes punctuations\n",
        "\n",
        "\n",
        "data_words = list(sent_to_words(temp))\n",
        "\n",
        "print(data_words[:5])"
      ]
    },
    {
      "cell_type": "code",
      "execution_count": null,
      "metadata": {
        "id": "TLjWzUQS1Fww",
        "colab": {
          "base_uri": "https://localhost:8080/"
        },
        "outputId": "2430af78-9887-4ff5-c7bd-a58e36081353"
      },
      "outputs": [
        {
          "output_type": "execute_result",
          "data": {
            "text/plain": [
              "3099"
            ]
          },
          "metadata": {},
          "execution_count": 22
        }
      ],
      "source": [
        "len(data_words)\n"
      ]
    },
    {
      "cell_type": "code",
      "execution_count": null,
      "metadata": {
        "id": "2WAIZKDZ1HkY"
      },
      "outputs": [],
      "source": [
        "def detokenize(text):\n",
        "    return TreebankWordDetokenizer().detokenize(text)"
      ]
    },
    {
      "cell_type": "code",
      "execution_count": null,
      "metadata": {
        "id": "-fljVHwu1Iem",
        "colab": {
          "base_uri": "https://localhost:8080/"
        },
        "outputId": "c79f1a5a-966a-4ce8-af87-d8d1562990aa"
      },
      "outputs": [
        {
          "output_type": "stream",
          "name": "stdout",
          "text": [
            "['month since got covid update symptoms that have passed congestion coughing burning skin constantly overheating suppressed appetite dizziness extremely light sleep confusion disorientation inability to visualize derealisation extreme', 'as we celebrate summer get togethers such as family reunions graduations and vacations please be safe', 'total bs its now proven no one has natural immunity many covid patients caught it more than once and get hospitalized and its already proven in us with deaths path via natural immunity will be disaster with lots of people to die along the way if it wasnt for the vaccine us probably wouldve added at least another deaths more to what we already have', 'they dont want to debate their complicity in the scamdemic democide', 'fda updates all opioid medication labeling and includes warning about oih']\n"
          ]
        }
      ],
      "source": [
        "data2 = []\n",
        "for i in range(len(data_words)):\n",
        "    data2.append(detokenize(data_words[i]))\n",
        "print(data2[:5])"
      ]
    },
    {
      "cell_type": "code",
      "execution_count": null,
      "metadata": {
        "id": "F9a-OGKP7DSx"
      },
      "outputs": [],
      "source": [
        "#data2['Type'].unique()"
      ]
    },
    {
      "cell_type": "code",
      "execution_count": null,
      "metadata": {
        "id": "EsOZYhDM6xWd"
      },
      "outputs": [],
      "source": [
        "labels = np.array(data['Type'])\n",
        "labels = tf.keras.utils.to_categorical(labels, 3, dtype=\"float32\")"
      ]
    },
    {
      "cell_type": "code",
      "execution_count": null,
      "metadata": {
        "id": "QxCV7n3E_D49",
        "colab": {
          "base_uri": "https://localhost:8080/"
        },
        "outputId": "605eb9c8-6c8b-44de-81b7-4fd56ab636e5"
      },
      "outputs": [
        {
          "output_type": "stream",
          "name": "stdout",
          "text": [
            "[[0. 0. 1.]\n",
            " [1. 0. 0.]\n",
            " [1. 0. 0.]\n",
            " ...\n",
            " [0. 0. 1.]\n",
            " [1. 0. 0.]\n",
            " [1. 0. 0.]]\n"
          ]
        }
      ],
      "source": [
        "print(labels)\n"
      ]
    },
    {
      "cell_type": "code",
      "execution_count": null,
      "metadata": {
        "id": "T49_gWWa12cc"
      },
      "outputs": [],
      "source": [
        "data2 = np.array(data2)\n"
      ]
    },
    {
      "cell_type": "code",
      "execution_count": null,
      "metadata": {
        "id": "22c3_d5c5Mq8",
        "colab": {
          "base_uri": "https://localhost:8080/"
        },
        "outputId": "971c3e44-f447-432b-e5a0-4d781f6b0be2"
      },
      "outputs": [
        {
          "output_type": "stream",
          "name": "stdout",
          "text": [
            "[[   0    0    0 ... 4259 4260 2912]\n",
            " [   0    0    0 ...  141   19  135]\n",
            " [   0    0    0 ...   18  348   21]\n",
            " ...\n",
            " [   0    0    0 ...   11  532 1066]\n",
            " [   0    0    0 ...   69 4158   37]\n",
            " [   0    0    0 ...   18   76    2]]\n"
          ]
        }
      ],
      "source": [
        "from keras.models import Sequential\n",
        "from keras import layers\n",
        "from keras.optimizers import RMSprop,Adam\n",
        "from keras.preprocessing.text import Tokenizer\n",
        "from tensorflow.keras.preprocessing.sequence import pad_sequences\n",
        "from keras import regularizers\n",
        "from keras import backend as K\n",
        "from keras.callbacks import ModelCheckpoint\n",
        "\n",
        "max_words = 5000\n",
        "max_len = 200\n",
        "\n",
        "tokenizer = Tokenizer(num_words=max_words)\n",
        "tokenizer.fit_on_texts(data2)\n",
        "sequences = tokenizer.texts_to_sequences(data2)\n",
        "tweets = pad_sequences(sequences, maxlen=max_len)\n",
        "print(tweets)\n"
      ]
    },
    {
      "cell_type": "code",
      "execution_count": null,
      "metadata": {
        "id": "DolnREdw-8Qz",
        "colab": {
          "base_uri": "https://localhost:8080/"
        },
        "outputId": "1b4fde57-74e4-45c1-e27d-5e05d10aa0aa"
      },
      "outputs": [
        {
          "output_type": "stream",
          "name": "stdout",
          "text": [
            "[[0. 0. 1.]\n",
            " [1. 0. 0.]\n",
            " [1. 0. 0.]\n",
            " ...\n",
            " [0. 0. 1.]\n",
            " [1. 0. 0.]\n",
            " [1. 0. 0.]]\n"
          ]
        }
      ],
      "source": [
        "print(labels)\n"
      ]
    },
    {
      "cell_type": "code",
      "execution_count": null,
      "metadata": {
        "id": "CK7zhRCmwQrT"
      },
      "outputs": [],
      "source": [
        "##from keras.layers import Embedding\n",
        "#embedding_layer = Embedding(1000, 64)"
      ]
    },
    {
      "cell_type": "code",
      "execution_count": null,
      "metadata": {
        "id": "cj4jw6wK_zZ8",
        "colab": {
          "base_uri": "https://localhost:8080/"
        },
        "outputId": "9d8b206a-d36f-423a-94f7-3216802ab28b"
      },
      "outputs": [
        {
          "output_type": "stream",
          "name": "stdout",
          "text": [
            "2000 508 2000 508\n"
          ]
        }
      ],
      "source": [
        "#Splitting the data\n",
        "#X_train, X_test, y_train, y_test = train_test_split(tweets,labels, random_state=0)\n",
        "X_train = tweets[0:2000]\n",
        "y_train = labels[0:2000]\n",
        "X_test =  tweets[2000:2508]\n",
        "y_test = labels[2000:2508]\n",
        "\n",
        "\n",
        "print (len(X_train),len(X_test),len(y_train),len(y_test))"
      ]
    },
    {
      "cell_type": "code",
      "execution_count": null,
      "metadata": {
        "id": "tXGp7iJUwSw4",
        "colab": {
          "base_uri": "https://localhost:8080/"
        },
        "outputId": "e9e644cc-aebb-4850-edc9-9a4716b413e6"
      },
      "outputs": [
        {
          "output_type": "stream",
          "name": "stderr",
          "text": [
            "WARNING:tensorflow:`period` argument is deprecated. Please use `save_freq` to specify the frequency in number of batches seen.\n"
          ]
        },
        {
          "output_type": "stream",
          "name": "stdout",
          "text": [
            "Epoch 1/25\n",
            "63/63 [==============================] - ETA: 0s - loss: 1.0821 - accuracy: 0.3915\n",
            "Epoch 1: val_accuracy improved from -inf to 0.38583, saving model to best_model2.hdf5\n",
            "63/63 [==============================] - 17s 167ms/step - loss: 1.0821 - accuracy: 0.3915 - val_loss: 1.0591 - val_accuracy: 0.3858\n",
            "Epoch 2/25\n",
            "63/63 [==============================] - ETA: 0s - loss: 0.9938 - accuracy: 0.5020\n",
            "Epoch 2: val_accuracy improved from 0.38583 to 0.49016, saving model to best_model2.hdf5\n",
            "63/63 [==============================] - 7s 106ms/step - loss: 0.9938 - accuracy: 0.5020 - val_loss: 0.9256 - val_accuracy: 0.4902\n",
            "Epoch 3/25\n",
            "63/63 [==============================] - ETA: 0s - loss: 0.8206 - accuracy: 0.6040\n",
            "Epoch 3: val_accuracy improved from 0.49016 to 0.60827, saving model to best_model2.hdf5\n",
            "63/63 [==============================] - 5s 84ms/step - loss: 0.8206 - accuracy: 0.6040 - val_loss: 0.7961 - val_accuracy: 0.6083\n",
            "Epoch 4/25\n",
            "63/63 [==============================] - ETA: 0s - loss: 0.7282 - accuracy: 0.6660\n",
            "Epoch 4: val_accuracy improved from 0.60827 to 0.65354, saving model to best_model2.hdf5\n",
            "63/63 [==============================] - 3s 44ms/step - loss: 0.7282 - accuracy: 0.6660 - val_loss: 0.7449 - val_accuracy: 0.6535\n",
            "Epoch 5/25\n",
            "63/63 [==============================] - ETA: 0s - loss: 0.6963 - accuracy: 0.7070\n",
            "Epoch 5: val_accuracy improved from 0.65354 to 0.67126, saving model to best_model2.hdf5\n",
            "63/63 [==============================] - 6s 93ms/step - loss: 0.6963 - accuracy: 0.7070 - val_loss: 0.7039 - val_accuracy: 0.6713\n",
            "Epoch 6/25\n",
            "63/63 [==============================] - ETA: 0s - loss: 0.5828 - accuracy: 0.7635\n",
            "Epoch 6: val_accuracy improved from 0.67126 to 0.67913, saving model to best_model2.hdf5\n",
            "63/63 [==============================] - 3s 43ms/step - loss: 0.5828 - accuracy: 0.7635 - val_loss: 0.6693 - val_accuracy: 0.6791\n",
            "Epoch 7/25\n",
            "63/63 [==============================] - ETA: 0s - loss: 0.5055 - accuracy: 0.8050\n",
            "Epoch 7: val_accuracy improved from 0.67913 to 0.76772, saving model to best_model2.hdf5\n",
            "63/63 [==============================] - 2s 36ms/step - loss: 0.5055 - accuracy: 0.8050 - val_loss: 0.6144 - val_accuracy: 0.7677\n",
            "Epoch 8/25\n",
            "63/63 [==============================] - ETA: 0s - loss: 0.4271 - accuracy: 0.8370\n",
            "Epoch 8: val_accuracy did not improve from 0.76772\n",
            "63/63 [==============================] - 2s 26ms/step - loss: 0.4271 - accuracy: 0.8370 - val_loss: 0.5712 - val_accuracy: 0.7520\n",
            "Epoch 9/25\n",
            "63/63 [==============================] - ETA: 0s - loss: 0.3648 - accuracy: 0.8625\n",
            "Epoch 9: val_accuracy improved from 0.76772 to 0.77362, saving model to best_model2.hdf5\n",
            "63/63 [==============================] - 2s 32ms/step - loss: 0.3648 - accuracy: 0.8625 - val_loss: 0.5446 - val_accuracy: 0.7736\n",
            "Epoch 10/25\n",
            "63/63 [==============================] - ETA: 0s - loss: 0.3141 - accuracy: 0.8855\n",
            "Epoch 10: val_accuracy improved from 0.77362 to 0.78150, saving model to best_model2.hdf5\n",
            "63/63 [==============================] - 3s 45ms/step - loss: 0.3141 - accuracy: 0.8855 - val_loss: 0.5561 - val_accuracy: 0.7815\n",
            "Epoch 11/25\n",
            "61/63 [============================>.] - ETA: 0s - loss: 0.2713 - accuracy: 0.9062\n",
            "Epoch 11: val_accuracy improved from 0.78150 to 0.79724, saving model to best_model2.hdf5\n",
            "63/63 [==============================] - 2s 31ms/step - loss: 0.2748 - accuracy: 0.9040 - val_loss: 0.5251 - val_accuracy: 0.7972\n",
            "Epoch 12/25\n",
            "63/63 [==============================] - ETA: 0s - loss: 0.2560 - accuracy: 0.9120\n",
            "Epoch 12: val_accuracy did not improve from 0.79724\n",
            "63/63 [==============================] - 1s 21ms/step - loss: 0.2560 - accuracy: 0.9120 - val_loss: 0.5808 - val_accuracy: 0.7835\n",
            "Epoch 13/25\n",
            "60/63 [===========================>..] - ETA: 0s - loss: 0.2324 - accuracy: 0.9109\n",
            "Epoch 13: val_accuracy did not improve from 0.79724\n",
            "63/63 [==============================] - 1s 18ms/step - loss: 0.2302 - accuracy: 0.9130 - val_loss: 0.5965 - val_accuracy: 0.7815\n",
            "Epoch 14/25\n",
            "63/63 [==============================] - ETA: 0s - loss: 0.2070 - accuracy: 0.9275\n",
            "Epoch 14: val_accuracy did not improve from 0.79724\n",
            "63/63 [==============================] - 1s 22ms/step - loss: 0.2070 - accuracy: 0.9275 - val_loss: 0.6206 - val_accuracy: 0.7874\n",
            "Epoch 15/25\n",
            "63/63 [==============================] - ETA: 0s - loss: 0.1937 - accuracy: 0.9315\n",
            "Epoch 15: val_accuracy did not improve from 0.79724\n",
            "63/63 [==============================] - 2s 26ms/step - loss: 0.1937 - accuracy: 0.9315 - val_loss: 0.6261 - val_accuracy: 0.7874\n",
            "Epoch 16/25\n",
            "63/63 [==============================] - ETA: 0s - loss: 0.1815 - accuracy: 0.9365\n",
            "Epoch 16: val_accuracy did not improve from 0.79724\n",
            "63/63 [==============================] - 2s 33ms/step - loss: 0.1815 - accuracy: 0.9365 - val_loss: 0.6136 - val_accuracy: 0.7894\n",
            "Epoch 17/25\n",
            "63/63 [==============================] - ETA: 0s - loss: 0.1623 - accuracy: 0.9400\n",
            "Epoch 17: val_accuracy did not improve from 0.79724\n",
            "63/63 [==============================] - 1s 23ms/step - loss: 0.1623 - accuracy: 0.9400 - val_loss: 0.6154 - val_accuracy: 0.7894\n",
            "Epoch 18/25\n",
            "63/63 [==============================] - ETA: 0s - loss: 0.1493 - accuracy: 0.9490\n",
            "Epoch 18: val_accuracy did not improve from 0.79724\n",
            "63/63 [==============================] - 2s 29ms/step - loss: 0.1493 - accuracy: 0.9490 - val_loss: 0.6468 - val_accuracy: 0.7894\n",
            "Epoch 19/25\n",
            "63/63 [==============================] - ETA: 0s - loss: 0.1379 - accuracy: 0.9485\n",
            "Epoch 19: val_accuracy did not improve from 0.79724\n",
            "63/63 [==============================] - 2s 30ms/step - loss: 0.1379 - accuracy: 0.9485 - val_loss: 0.6173 - val_accuracy: 0.7874\n",
            "Epoch 20/25\n",
            "63/63 [==============================] - ETA: 0s - loss: 0.1345 - accuracy: 0.9515\n",
            "Epoch 20: val_accuracy did not improve from 0.79724\n",
            "63/63 [==============================] - 1s 21ms/step - loss: 0.1345 - accuracy: 0.9515 - val_loss: 0.6466 - val_accuracy: 0.7874\n",
            "Epoch 21/25\n",
            "60/63 [===========================>..] - ETA: 0s - loss: 0.1266 - accuracy: 0.9568\n",
            "Epoch 21: val_accuracy did not improve from 0.79724\n",
            "63/63 [==============================] - 1s 16ms/step - loss: 0.1274 - accuracy: 0.9560 - val_loss: 0.6984 - val_accuracy: 0.7835\n",
            "Epoch 22/25\n",
            "63/63 [==============================] - ETA: 0s - loss: 0.1146 - accuracy: 0.9595\n",
            "Epoch 22: val_accuracy did not improve from 0.79724\n",
            "63/63 [==============================] - 2s 26ms/step - loss: 0.1146 - accuracy: 0.9595 - val_loss: 0.7171 - val_accuracy: 0.7894\n",
            "Epoch 23/25\n",
            "63/63 [==============================] - ETA: 0s - loss: 0.0994 - accuracy: 0.9670\n",
            "Epoch 23: val_accuracy did not improve from 0.79724\n",
            "63/63 [==============================] - 1s 24ms/step - loss: 0.0994 - accuracy: 0.9670 - val_loss: 0.7378 - val_accuracy: 0.7874\n",
            "Epoch 24/25\n",
            "61/63 [============================>.] - ETA: 0s - loss: 0.1049 - accuracy: 0.9600\n",
            "Epoch 24: val_accuracy did not improve from 0.79724\n",
            "63/63 [==============================] - 1s 18ms/step - loss: 0.1032 - accuracy: 0.9610 - val_loss: 0.7709 - val_accuracy: 0.7894\n",
            "Epoch 25/25\n",
            "60/63 [===========================>..] - ETA: 0s - loss: 0.0946 - accuracy: 0.9646\n",
            "Epoch 25: val_accuracy did not improve from 0.79724\n",
            "63/63 [==============================] - 1s 17ms/step - loss: 0.0951 - accuracy: 0.9635 - val_loss: 0.6998 - val_accuracy: 0.7933\n"
          ]
        }
      ],
      "source": [
        "model2 = Sequential()\n",
        "#model2.add(layers.Embedding(max_words, 40, input_length=max_len))\n",
        "model2.add(layers.Embedding(5000, 32, input_length=200))\n",
        "model2.add(layers.Bidirectional(layers.LSTM(20,dropout=0.6)))\n",
        "model2.add(layers.Dense(3,activation='softmax'))\n",
        "model2.compile(optimizer='rmsprop',loss='categorical_crossentropy', metrics=['accuracy'])\n",
        "#Implementing model checkpoins to save the best metric and do not lose it on training.\n",
        "checkpoint2 = ModelCheckpoint(\"best_model2.hdf5\", monitor='val_accuracy', verbose=1,save_best_only=True, mode='auto', period=1,save_weights_only=False)\n",
        "history = model2.fit(X_train, y_train, epochs=25,validation_data=(X_test, y_test),callbacks=[checkpoint2])"
      ]
    },
    {
      "cell_type": "code",
      "execution_count": null,
      "metadata": {
        "id": "CResR3qKBDo4",
        "colab": {
          "base_uri": "https://localhost:8080/"
        },
        "outputId": "290715f9-4505-4a41-8c28-c1c8f6733226"
      },
      "outputs": [
        {
          "output_type": "stream",
          "name": "stdout",
          "text": [
            "16/16 [==============================] - 1s 6ms/step\n"
          ]
        }
      ],
      "source": [
        "predictions = model2.predict(X_test)\n"
      ]
    },
    {
      "cell_type": "code",
      "execution_count": null,
      "metadata": {
        "id": "IAjBZvO2BHVj"
      },
      "outputs": [],
      "source": [
        "from sklearn.metrics import confusion_matrix\n",
        "matrix = confusion_matrix(y_test.argmax(axis=1), np.around(predictions, decimals=0).argmax(axis=1))"
      ]
    },
    {
      "cell_type": "code",
      "execution_count": null,
      "metadata": {
        "id": "ewI1ErwaBII1",
        "colab": {
          "base_uri": "https://localhost:8080/",
          "height": 848
        },
        "outputId": "3ca4d2a0-3362-4639-96db-ee90282aaa54"
      },
      "outputs": [
        {
          "output_type": "execute_result",
          "data": {
            "text/plain": [
              "<Axes: >"
            ]
          },
          "metadata": {},
          "execution_count": 36
        },
        {
          "output_type": "display_data",
          "data": {
            "text/plain": [
              "<Figure size 1000x1000 with 2 Axes>"
            ],
            "image/png": "[encoded data removed]"
          },
          "metadata": {}
        }
      ],
      "source": [
        "import seaborn as sns\n",
        "conf_matrix = pd.DataFrame(matrix, index = ['0','1','2'],columns = ['0','1','2'])\n",
        "#Normalizing\n",
        "conf_matrix = conf_matrix.astype('int') / conf_matrix.sum(axis=1)[:, np.newaxis]\n",
        "plt.figure(figsize = (10,10))\n",
        "sns.heatmap(conf_matrix, annot=True, annot_kws={\"size\": 10})"
      ]
    },
    {
      "cell_type": "code",
      "execution_count": null,
      "metadata": {
        "id": "3dPBZsNbBSTl"
      },
      "outputs": [],
      "source": [
        "sentiment = ['0','1','2']\n"
      ]
    },
    {
      "cell_type": "code",
      "execution_count": null,
      "metadata": {
        "id": "gjPAX53oBVwm",
        "colab": {
          "base_uri": "https://localhost:8080/",
          "height": 55
        },
        "outputId": "3d0afa98-3d39-4a79-91f3-78c20a81fc15"
      },
      "outputs": [
        {
          "output_type": "stream",
          "name": "stdout",
          "text": [
            "1/1 [==============================] - 0s 26ms/step\n"
          ]
        },
        {
          "output_type": "execute_result",
          "data": {
            "text/plain": [
              "'0'"
            ],
            "application/vnd.google.colaboratory.intrinsic+json": {
              "type": "string"
            }
          },
          "metadata": {},
          "execution_count": 38
        }
      ],
      "source": [
        "sequence = tokenizer.texts_to_sequences([\"5000 are the new covid cases in greece for the week\"])\n",
        "test = pad_sequences(sequence, maxlen=max_len)\n",
        "sentiment[np.around(model2.predict(test), decimals=0).argmax(axis=1)[0]]"
      ]
    },
    {
      "cell_type": "code",
      "execution_count": null,
      "metadata": {
        "id": "9WMqF-STD-6J",
        "colab": {
          "base_uri": "https://localhost:8080/",
          "height": 55
        },
        "outputId": "aea7e6a0-f98f-456e-ebc2-5f1f0bb6c6be"
      },
      "outputs": [
        {
          "output_type": "stream",
          "name": "stdout",
          "text": [
            "1/1 [==============================] - 0s 25ms/step\n"
          ]
        },
        {
          "output_type": "execute_result",
          "data": {
            "text/plain": [
              "'1'"
            ],
            "application/vnd.google.colaboratory.intrinsic+json": {
              "type": "string"
            }
          },
          "metadata": {},
          "execution_count": 39
        }
      ],
      "source": [
        "sequence = tokenizer.texts_to_sequences([\"vaccine injuries are happening\"])\n",
        "test = pad_sequences(sequence, maxlen=max_len)\n",
        "sentiment[np.around(model2.predict(test), decimals=0).argmax(axis=1)[0]]"
      ]
    },
    {
      "cell_type": "code",
      "execution_count": null,
      "metadata": {
        "id": "eGhP6IteMoIX",
        "colab": {
          "base_uri": "https://localhost:8080/",
          "height": 55
        },
        "outputId": "c83840f9-ee7d-4977-deb8-d9eb26cdb754"
      },
      "outputs": [
        {
          "output_type": "stream",
          "name": "stdout",
          "text": [
            "1/1 [==============================] - 0s 29ms/step\n"
          ]
        },
        {
          "output_type": "execute_result",
          "data": {
            "text/plain": [
              "'1'"
            ],
            "application/vnd.google.colaboratory.intrinsic+json": {
              "type": "string"
            }
          },
          "metadata": {},
          "execution_count": 40
        }
      ],
      "source": [
        "sequence = tokenizer.texts_to_sequences([\"injuries are happening but they are not many in comparison with the long covid cases\"])\n",
        "test = pad_sequences(sequence, maxlen=max_len)\n",
        "sentiment[np.around(model2.predict(test), decimals=0).argmax(axis=1)[0]]"
      ]
    },
    {
      "cell_type": "code",
      "execution_count": null,
      "metadata": {
        "id": "ZT_L7bCiWyGU",
        "colab": {
          "base_uri": "https://localhost:8080/",
          "height": 55
        },
        "outputId": "2e803db8-b03b-4e6f-8bff-054538bfa4d5"
      },
      "outputs": [
        {
          "output_type": "stream",
          "name": "stdout",
          "text": [
            "1/1 [==============================] - 0s 25ms/step\n"
          ]
        },
        {
          "output_type": "execute_result",
          "data": {
            "text/plain": [
              "'1'"
            ],
            "application/vnd.google.colaboratory.intrinsic+json": {
              "type": "string"
            }
          },
          "metadata": {},
          "execution_count": 41
        }
      ],
      "source": [
        "sequence = tokenizer.texts_to_sequences([\"20 vaccine injuries and 1000 long covid patients were recorded for this month\"])\n",
        "test = pad_sequences(sequence, maxlen=max_len)\n",
        "sentiment[np.around(model2.predict(test), decimals=0).argmax(axis=1)[0]]"
      ]
    },
    {
      "cell_type": "code",
      "execution_count": null,
      "metadata": {
        "id": "1L0W37cNMwtw",
        "colab": {
          "base_uri": "https://localhost:8080/",
          "height": 55
        },
        "outputId": "0c285571-e949-46b8-da61-5d6632b5685b"
      },
      "outputs": [
        {
          "output_type": "stream",
          "name": "stdout",
          "text": [
            "1/1 [==============================] - 0s 24ms/step\n"
          ]
        },
        {
          "output_type": "execute_result",
          "data": {
            "text/plain": [
              "'0'"
            ],
            "application/vnd.google.colaboratory.intrinsic+json": {
              "type": "string"
            }
          },
          "metadata": {},
          "execution_count": 42
        }
      ],
      "source": [
        "sequence = tokenizer.texts_to_sequences(['the covid vaccine protected my two sons'])\n",
        "test = pad_sequences(sequence, maxlen=max_len)\n",
        "sentiment[np.around(model2.predict(test), decimals=0).argmax(axis=1)[0]]"
      ]
    },
    {
      "cell_type": "code",
      "execution_count": null,
      "metadata": {
        "id": "1c32-D-tY8lF",
        "colab": {
          "base_uri": "https://localhost:8080/",
          "height": 55
        },
        "outputId": "b04b201c-894b-45a0-8120-dbb8f4b8f385"
      },
      "outputs": [
        {
          "output_type": "stream",
          "name": "stdout",
          "text": [
            "1/1 [==============================] - 0s 24ms/step\n"
          ]
        },
        {
          "output_type": "execute_result",
          "data": {
            "text/plain": [
              "'0'"
            ],
            "application/vnd.google.colaboratory.intrinsic+json": {
              "type": "string"
            }
          },
          "metadata": {},
          "execution_count": 43
        }
      ],
      "source": [
        "sequence = tokenizer.texts_to_sequences([\"just wear a mask an protect the others\"])\n",
        "test = pad_sequences(sequence, maxlen=max_len)\n",
        "sentiment[np.around(model2.predict(test), decimals=0).argmax(axis=1)[0]]"
      ]
    },
    {
      "cell_type": "code",
      "execution_count": null,
      "metadata": {
        "id": "stmqIWtuXtTF",
        "colab": {
          "base_uri": "https://localhost:8080/",
          "height": 55
        },
        "outputId": "387af8fe-9747-4b5f-dad2-943cf884d18a"
      },
      "outputs": [
        {
          "output_type": "stream",
          "name": "stdout",
          "text": [
            "1/1 [==============================] - 0s 27ms/step\n"
          ]
        },
        {
          "output_type": "execute_result",
          "data": {
            "text/plain": [
              "'0'"
            ],
            "application/vnd.google.colaboratory.intrinsic+json": {
              "type": "string"
            }
          },
          "metadata": {},
          "execution_count": 44
        }
      ],
      "source": [
        "sequence = tokenizer.texts_to_sequences([\"covid is a created virus that is going to controll us\"])\n",
        "test = pad_sequences(sequence, maxlen=max_len)\n",
        "sentiment[np.around(model2.predict(test), decimals=0).argmax(axis=1)[0]]"
      ]
    },
    {
      "cell_type": "code",
      "execution_count": null,
      "metadata": {
        "id": "c7kc79_8by4m",
        "colab": {
          "base_uri": "https://localhost:8080/",
          "height": 55
        },
        "outputId": "dc5c9a81-db92-4f9e-cd2e-4405ca6bd49a"
      },
      "outputs": [
        {
          "output_type": "stream",
          "name": "stdout",
          "text": [
            "1/1 [==============================] - 0s 27ms/step\n"
          ]
        },
        {
          "output_type": "execute_result",
          "data": {
            "text/plain": [
              "'1'"
            ],
            "application/vnd.google.colaboratory.intrinsic+json": {
              "type": "string"
            }
          },
          "metadata": {},
          "execution_count": 45
        }
      ],
      "source": [
        "sequence = tokenizer.texts_to_sequences([\"covid-19 is a bio weapon leaked from a lab\"])\n",
        "test = pad_sequences(sequence, maxlen=max_len)\n",
        "sentiment[np.around(model2.predict(test), decimals=0).argmax(axis=1)[0]]"
      ]
    },
    {
      "cell_type": "code",
      "execution_count": null,
      "metadata": {
        "id": "c-IW2m_LbA21",
        "colab": {
          "base_uri": "https://localhost:8080/",
          "height": 55
        },
        "outputId": "39254834-f4cd-4690-e185-64be22c165e5"
      },
      "outputs": [
        {
          "output_type": "stream",
          "name": "stdout",
          "text": [
            "1/1 [==============================] - 0s 23ms/step\n"
          ]
        },
        {
          "output_type": "execute_result",
          "data": {
            "text/plain": [
              "'1'"
            ],
            "application/vnd.google.colaboratory.intrinsic+json": {
              "type": "string"
            }
          },
          "metadata": {},
          "execution_count": 46
        }
      ],
      "source": [
        "sequence = tokenizer.texts_to_sequences([\"Suzanne Gazda MD is a neurologist with 4,000 patients. The vast majority were advised to take the vaccine by other doctors. The vast majority of those got significantly worse after they took the COVID vaccine.\"])\n",
        "test = pad_sequences(sequence, maxlen=max_len)\n",
        "sentiment[np.around(model2.predict(test), decimals=0).argmax(axis=1)[0]]"
      ]
    },
    {
      "cell_type": "code",
      "execution_count": null,
      "metadata": {
        "id": "0-uztrj0bBBd",
        "colab": {
          "base_uri": "https://localhost:8080/",
          "height": 55
        },
        "outputId": "252d06c6-65bc-400e-b812-51507bee5479"
      },
      "outputs": [
        {
          "output_type": "stream",
          "name": "stdout",
          "text": [
            "1/1 [==============================] - 0s 24ms/step\n"
          ]
        },
        {
          "output_type": "execute_result",
          "data": {
            "text/plain": [
              "'1'"
            ],
            "application/vnd.google.colaboratory.intrinsic+json": {
              "type": "string"
            }
          },
          "metadata": {},
          "execution_count": 47
        }
      ],
      "source": [
        "sequence = tokenizer.texts_to_sequences([\"covid-19 does not exist\"])\n",
        "test = pad_sequences(sequence, maxlen=max_len)\n",
        "sentiment[np.around(model2.predict(test), decimals=0).argmax(axis=1)[0]]"
      ]
    },
    {
      "cell_type": "code",
      "execution_count": null,
      "metadata": {
        "id": "0CO7UQZXcbsi",
        "colab": {
          "base_uri": "https://localhost:8080/",
          "height": 55
        },
        "outputId": "81af9e60-ff51-4213-d836-2559b12ec3b3"
      },
      "outputs": [
        {
          "output_type": "stream",
          "name": "stdout",
          "text": [
            "1/1 [==============================] - 0s 25ms/step\n"
          ]
        },
        {
          "output_type": "execute_result",
          "data": {
            "text/plain": [
              "'1'"
            ],
            "application/vnd.google.colaboratory.intrinsic+json": {
              "type": "string"
            }
          },
          "metadata": {},
          "execution_count": 48
        }
      ],
      "source": [
        "\n",
        "sequence = tokenizer.texts_to_sequences([\"54 year old Canadian doctor Dr.Annie Rousseau died on April 21, 2023She was an internist & gastroenterologist in Saint-Jean-sur-Richelieu, Quebec.Fully COVID-19 mRNA vaccinated. Dead at 54.@CMA_Docsneeds to be sued by families of all dead MDs\"])\n",
        "test = pad_sequences(sequence, maxlen=max_len)\n",
        "sentiment[np.around(model2.predict(test), decimals=0).argmax(axis=1)[0]]"
      ]
    },
    {
      "cell_type": "code",
      "execution_count": null,
      "metadata": {
        "id": "Gx2R4vjXclxC",
        "colab": {
          "base_uri": "https://localhost:8080/",
          "height": 55
        },
        "outputId": "2532fcfe-d6f8-4958-d9bc-0dff256efe19"
      },
      "outputs": [
        {
          "output_type": "stream",
          "name": "stdout",
          "text": [
            "1/1 [==============================] - 0s 26ms/step\n"
          ]
        },
        {
          "output_type": "execute_result",
          "data": {
            "text/plain": [
              "'2'"
            ],
            "application/vnd.google.colaboratory.intrinsic+json": {
              "type": "string"
            }
          },
          "metadata": {},
          "execution_count": 49
        }
      ],
      "source": [
        "sequence = tokenizer.texts_to_sequences([\"My daughter has 3 more days of being a high school senior, 3 more days in an N99 in open air classrooms. Then shes on to online courses after graduation ceremony in June…shes 15 AND she wrote a book and watched family disappear due to her covid stance. Round of applause is ok.\"])\n",
        "test = pad_sequences(sequence, maxlen=max_len)\n",
        "sentiment[np.around(model2.predict(test), decimals=0).argmax(axis=1)[0]]"
      ]
    },
    {
      "cell_type": "code",
      "execution_count": null,
      "metadata": {
        "id": "GQVBp8O8bzuc",
        "colab": {
          "base_uri": "https://localhost:8080/",
          "height": 55
        },
        "outputId": "3b2d0a5a-fe0f-419a-bb98-9b32ad747c53"
      },
      "outputs": [
        {
          "output_type": "stream",
          "name": "stdout",
          "text": [
            "1/1 [==============================] - 0s 25ms/step\n"
          ]
        },
        {
          "output_type": "execute_result",
          "data": {
            "text/plain": [
              "'0'"
            ],
            "application/vnd.google.colaboratory.intrinsic+json": {
              "type": "string"
            }
          },
          "metadata": {},
          "execution_count": 50
        }
      ],
      "source": [
        "sequence = tokenizer.texts_to_sequences([\"On 21 February 2021 I noted in an affidavit that the World Health Organisation had 102,000 reports of COVID vaccine adverse drug reactions on its http://vigiaccess.org database. This week the number passed the 5,000,000 mark.  Let me repeat this because it is hard to believe. According to WHO’s own data, more than 5,000,000 people are suspected to have been harmed by the COVID vaccines. The exact number today is 5,026,245 people, including tens of thousands of deaths.\"])\n",
        "test = pad_sequences(sequence, maxlen=max_len)\n",
        "sentiment[np.around(model2.predict(test), decimals=0).argmax(axis=1)[0]]\n",
        "#wrong"
      ]
    },
    {
      "cell_type": "code",
      "execution_count": null,
      "metadata": {
        "id": "ftGlBNrFdV4S",
        "colab": {
          "base_uri": "https://localhost:8080/",
          "height": 55
        },
        "outputId": "a4077f3d-6f2e-4d44-821a-6e3c2bbc23cb"
      },
      "outputs": [
        {
          "output_type": "stream",
          "name": "stdout",
          "text": [
            "1/1 [==============================] - 0s 26ms/step\n"
          ]
        },
        {
          "output_type": "execute_result",
          "data": {
            "text/plain": [
              "'1'"
            ],
            "application/vnd.google.colaboratory.intrinsic+json": {
              "type": "string"
            }
          },
          "metadata": {},
          "execution_count": 51
        }
      ],
      "source": [
        "sequence = tokenizer.texts_to_sequences([\"My gawd 😭 I can’t believe they did this to people at funerals. NEVER FORGET how people were treating during “covid”Just found this post and it so heartbreaking\"])\n",
        "test = pad_sequences(sequence, maxlen=max_len)\n",
        "sentiment[np.around(model2.predict(test), decimals=0).argmax(axis=1)[0]]"
      ]
    },
    {
      "cell_type": "code",
      "execution_count": null,
      "metadata": {
        "id": "cxmPChXQdV6v",
        "colab": {
          "base_uri": "https://localhost:8080/",
          "height": 55
        },
        "outputId": "137d6258-bdcb-4280-ceef-dcf7f8c56f3c"
      },
      "outputs": [
        {
          "output_type": "stream",
          "name": "stdout",
          "text": [
            "1/1 [==============================] - 0s 44ms/step\n"
          ]
        },
        {
          "output_type": "execute_result",
          "data": {
            "text/plain": [
              "'1'"
            ],
            "application/vnd.google.colaboratory.intrinsic+json": {
              "type": "string"
            }
          },
          "metadata": {},
          "execution_count": 52
        }
      ],
      "source": [
        "sequence = tokenizer.texts_to_sequences([\"@RobertKennedyJrcalls out Bill Gates and the World Economic Forum saying they are exploiting climate change like they exploited Covid\"])\n",
        "test = pad_sequences(sequence, maxlen=max_len)\n",
        "sentiment[np.around(model2.predict(test), decimals=0).argmax(axis=1)[0]]   #wrong?"
      ]
    },
    {
      "cell_type": "code",
      "execution_count": null,
      "metadata": {
        "id": "pFIb0L_SdV8_",
        "colab": {
          "base_uri": "https://localhost:8080/",
          "height": 55
        },
        "outputId": "3a561c3f-55ce-4365-e949-8a9b72fe3151"
      },
      "outputs": [
        {
          "output_type": "stream",
          "name": "stdout",
          "text": [
            "1/1 [==============================] - 0s 53ms/step\n"
          ]
        },
        {
          "output_type": "execute_result",
          "data": {
            "text/plain": [
              "'1'"
            ],
            "application/vnd.google.colaboratory.intrinsic+json": {
              "type": "string"
            }
          },
          "metadata": {},
          "execution_count": 53
        }
      ],
      "source": [
        "sequence = tokenizer.texts_to_sequences([\"Excuse me, Sir, but you've been in favor of lockdowns, injecting children with an experimental gene therapy, silencing critics, and mask mandates. In addition, you have pronouns in your bio and called the Covid vaccines 'safe and effective'.You should keep your mouth shut!\"])\n",
        "test = pad_sequences(sequence, maxlen=max_len)\n",
        "sentiment[np.around(model2.predict(test), decimals=0).argmax(axis=1)[0]]"
      ]
    },
    {
      "cell_type": "code",
      "execution_count": null,
      "metadata": {
        "id": "_EasljpZdWPW",
        "colab": {
          "base_uri": "https://localhost:8080/",
          "height": 55
        },
        "outputId": "bc657dfa-4c09-4fa0-bd3e-3dd91d5368df"
      },
      "outputs": [
        {
          "output_type": "stream",
          "name": "stdout",
          "text": [
            "1/1 [==============================] - 0s 44ms/step\n"
          ]
        },
        {
          "output_type": "execute_result",
          "data": {
            "text/plain": [
              "'1'"
            ],
            "application/vnd.google.colaboratory.intrinsic+json": {
              "type": "string"
            }
          },
          "metadata": {},
          "execution_count": 54
        }
      ],
      "source": [
        "sequence = tokenizer.texts_to_sequences([\"The Bible has been manipulated by the dark side for a long time. The real bible was found under the Vatican. This guy has many different bibles and shows you the difference in regards to the Mark of the Beast ! COVID SHOT\"])\n",
        "test = pad_sequences(sequence, maxlen=max_len)\n",
        "sentiment[np.around(model2.predict(test), decimals=0).argmax(axis=1)[0]]"
      ]
    },
    {
      "cell_type": "code",
      "execution_count": null,
      "metadata": {
        "id": "U-k54N_med3P",
        "colab": {
          "base_uri": "https://localhost:8080/",
          "height": 55
        },
        "outputId": "5a54eede-3922-4358-c62e-fc9ff63b1fa5"
      },
      "outputs": [
        {
          "output_type": "stream",
          "name": "stdout",
          "text": [
            "1/1 [==============================] - 0s 35ms/step\n"
          ]
        },
        {
          "output_type": "execute_result",
          "data": {
            "text/plain": [
              "'1'"
            ],
            "application/vnd.google.colaboratory.intrinsic+json": {
              "type": "string"
            }
          },
          "metadata": {},
          "execution_count": 55
        }
      ],
      "source": [
        "sequence = tokenizer.texts_to_sequences([\"Getting Covid is not a personal failing Getting long Covid is not a personal failing Being high risk for Covid is not a personal failing People have about as much control over this as their eye colour.So stop treating all of the above like it’s their fault\"])\n",
        "test = pad_sequences(sequence, maxlen=max_len)\n",
        "sentiment[np.around(model2.predict(test), decimals=0).argmax(axis=1)[0]]"
      ]
    },
    {
      "cell_type": "code",
      "execution_count": null,
      "metadata": {
        "id": "FuR09h4zfKaq",
        "colab": {
          "base_uri": "https://localhost:8080/",
          "height": 55
        },
        "outputId": "0e555078-4c3b-4ba5-fa7f-fe762206b259"
      },
      "outputs": [
        {
          "output_type": "stream",
          "name": "stdout",
          "text": [
            "1/1 [==============================] - 0s 35ms/step\n"
          ]
        },
        {
          "output_type": "execute_result",
          "data": {
            "text/plain": [
              "'1'"
            ],
            "application/vnd.google.colaboratory.intrinsic+json": {
              "type": "string"
            }
          },
          "metadata": {},
          "execution_count": 56
        }
      ],
      "source": [
        "sequence = tokenizer.texts_to_sequences([\"It's alright.The pandemic is over.People stopped dying of Covid when we stopped testing for Covid.And now they just die 'deaths not involving Covid' during waves of Covid.\"])\n",
        "test = pad_sequences(sequence, maxlen=max_len)\n",
        "sentiment[np.around(model2.predict(test), decimals=0).argmax(axis=1)[0]]\n",
        "#wrong"
      ]
    },
    {
      "cell_type": "code",
      "execution_count": null,
      "metadata": {
        "id": "EDuAemOqfh0P",
        "colab": {
          "base_uri": "https://localhost:8080/",
          "height": 55
        },
        "outputId": "24cd4a24-1358-4988-8b1c-44bea7f1ffeb"
      },
      "outputs": [
        {
          "output_type": "stream",
          "name": "stdout",
          "text": [
            "1/1 [==============================] - 0s 37ms/step\n"
          ]
        },
        {
          "output_type": "execute_result",
          "data": {
            "text/plain": [
              "'2'"
            ],
            "application/vnd.google.colaboratory.intrinsic+json": {
              "type": "string"
            }
          },
          "metadata": {},
          "execution_count": 57
        }
      ],
      "source": [
        "sequence = tokenizer.texts_to_sequences([\"Our Covid data project Is over, but the need for timely data is not.The John Hopkins Coronavirus Resource Centre.\"])\n",
        "test = pad_sequences(sequence, maxlen=max_len)\n",
        "sentiment[np.around(model2.predict(test), decimals=0).argmax(axis=1)[0]]"
      ]
    },
    {
      "cell_type": "code",
      "execution_count": null,
      "metadata": {
        "id": "RYX9ochtWuqx"
      },
      "outputs": [],
      "source": []
    },
    {
      "cell_type": "code",
      "execution_count": null,
      "metadata": {
        "id": "IPKNVxQp0q-u"
      },
      "outputs": [],
      "source": []
    }
  ],
  "metadata": {
    "accelerator": "GPU",
    "colab": {
      "provenance": [],
      "authorship_tag": "ABX9TyOSD3iGxv5y2NYebd6K3she",
      "include_colab_link": true
    },
    "kernelspec": {
      "display_name": "Python 3",
      "name": "python3"
    },
    "language_info": {
      "name": "python"
    },
    "widgets": {
      "application/vnd.jupyter.widget-state+json": {
        "5fcd1ac4236e4328be17f54c37ce5c86": {
          "model_module": "@jupyter-widgets/controls",
          "model_name": "HBoxModel",
          "model_module_version": "1.5.0",
          "state": {
            "_dom_classes": [],
            "_model_module": "@jupyter-widgets/controls",
            "_model_module_version": "1.5.0",
            "_model_name": "HBoxModel",
            "_view_count": null,
            "_view_module": "@jupyter-widgets/controls",
            "_view_module_version": "1.5.0",
            "_view_name": "HBoxView",
            "box_style": "",
            "children": [
              "IPY_MODEL_5dc6d8ca03a74b69b114077c675ebe7e",
              "IPY_MODEL_86c02392a5254618965ac52c88562042",
              "IPY_MODEL_9556023d5f1e4df4b19afef122ff3ab6"
            ],
            "layout": "IPY_MODEL_ab535e506bc84304a8be142cf42a324c"
          }
        },
        "5dc6d8ca03a74b69b114077c675ebe7e": {
          "model_module": "@jupyter-widgets/controls",
          "model_name": "HTMLModel",
          "model_module_version": "1.5.0",
          "state": {
            "_dom_classes": [],
            "_model_module": "@jupyter-widgets/controls",
            "_model_module_version": "1.5.0",
            "_model_name": "HTMLModel",
            "_view_count": null,
            "_view_module": "@jupyter-widgets/controls",
            "_view_module_version": "1.5.0",
            "_view_name": "HTMLView",
            "description": "",
            "description_tooltip": null,
            "layout": "IPY_MODEL_2f2b0a68bc864ee093d5df0f60d1d293",
            "placeholder": "​",
            "style": "IPY_MODEL_2c4224f2c6ae4b4488ec023b8dd606ac",
            "value": "Downloading (…)solve/main/vocab.txt: 100%"
          }
        },
        "86c02392a5254618965ac52c88562042": {
          "model_module": "@jupyter-widgets/controls",
          "model_name": "FloatProgressModel",
          "model_module_version": "1.5.0",
          "state": {
            "_dom_classes": [],
            "_model_module": "@jupyter-widgets/controls",
            "_model_module_version": "1.5.0",
            "_model_name": "FloatProgressModel",
            "_view_count": null,
            "_view_module": "@jupyter-widgets/controls",
            "_view_module_version": "1.5.0",
            "_view_name": "ProgressView",
            "bar_style": "success",
            "description": "",
            "description_tooltip": null,
            "layout": "IPY_MODEL_3870d7b30fde4b8baca5033c94ae697a",
            "max": 231508,
            "min": 0,
            "orientation": "horizontal",
            "style": "IPY_MODEL_dc12e6c770424fa5afa2798fe7de48c9",
            "value": 231508
          }
        },
        "9556023d5f1e4df4b19afef122ff3ab6": {
          "model_module": "@jupyter-widgets/controls",
          "model_name": "HTMLModel",
          "model_module_version": "1.5.0",
          "state": {
            "_dom_classes": [],
            "_model_module": "@jupyter-widgets/controls",
            "_model_module_version": "1.5.0",
            "_model_name": "HTMLModel",
            "_view_count": null,
            "_view_module": "@jupyter-widgets/controls",
            "_view_module_version": "1.5.0",
            "_view_name": "HTMLView",
            "description": "",
            "description_tooltip": null,
            "layout": "IPY_MODEL_d28ce887e1ad4ebf9b9227467128d875",
            "placeholder": "​",
            "style": "IPY_MODEL_cdb10fcf041641cab45a7674c17f9694",
            "value": " 232k/232k [00:00&lt;00:00, 3.83MB/s]"
          }
        },
        "ab535e506bc84304a8be142cf42a324c": {
          "model_module": "@jupyter-widgets/base",
          "model_name": "LayoutModel",
          "model_module_version": "1.2.0",
          "state": {
            "_model_module": "@jupyter-widgets/base",
            "_model_module_version": "1.2.0",
            "_model_name": "LayoutModel",
            "_view_count": null,
            "_view_module": "@jupyter-widgets/base",
            "_view_module_version": "1.2.0",
            "_view_name": "LayoutView",
            "align_content": null,
            "align_items": null,
            "align_self": null,
            "border": null,
            "bottom": null,
            "display": null,
            "flex": null,
            "flex_flow": null,
            "grid_area": null,
            "grid_auto_columns": null,
            "grid_auto_flow": null,
            "grid_auto_rows": null,
            "grid_column": null,
            "grid_gap": null,
            "grid_row": null,
            "grid_template_areas": null,
            "grid_template_columns": null,
            "grid_template_rows": null,
            "height": null,
            "justify_content": null,
            "justify_items": null,
            "left": null,
            "margin": null,
            "max_height": null,
            "max_width": null,
            "min_height": null,
            "min_width": null,
            "object_fit": null,
            "object_position": null,
            "order": null,
            "overflow": null,
            "overflow_x": null,
            "overflow_y": null,
            "padding": null,
            "right": null,
            "top": null,
            "visibility": null,
            "width": null
          }
        },
        "2f2b0a68bc864ee093d5df0f60d1d293": {
          "model_module": "@jupyter-widgets/base",
          "model_name": "LayoutModel",
          "model_module_version": "1.2.0",
          "state": {
            "_model_module": "@jupyter-widgets/base",
            "_model_module_version": "1.2.0",
            "_model_name": "LayoutModel",
            "_view_count": null,
            "_view_module": "@jupyter-widgets/base",
            "_view_module_version": "1.2.0",
            "_view_name": "LayoutView",
            "align_content": null,
            "align_items": null,
            "align_self": null,
            "border": null,
            "bottom": null,
            "display": null,
            "flex": null,
            "flex_flow": null,
            "grid_area": null,
            "grid_auto_columns": null,
            "grid_auto_flow": null,
            "grid_auto_rows": null,
            "grid_column": null,
            "grid_gap": null,
            "grid_row": null,
            "grid_template_areas": null,
            "grid_template_columns": null,
            "grid_template_rows": null,
            "height": null,
            "justify_content": null,
            "justify_items": null,
            "left": null,
            "margin": null,
            "max_height": null,
            "max_width": null,
            "min_height": null,
            "min_width": null,
            "object_fit": null,
            "object_position": null,
            "order": null,
            "overflow": null,
            "overflow_x": null,
            "overflow_y": null,
            "padding": null,
            "right": null,
            "top": null,
            "visibility": null,
            "width": null
          }
        },
        "2c4224f2c6ae4b4488ec023b8dd606ac": {
          "model_module": "@jupyter-widgets/controls",
          "model_name": "DescriptionStyleModel",
          "model_module_version": "1.5.0",
          "state": {
            "_model_module": "@jupyter-widgets/controls",
            "_model_module_version": "1.5.0",
            "_model_name": "DescriptionStyleModel",
            "_view_count": null,
            "_view_module": "@jupyter-widgets/base",
            "_view_module_version": "1.2.0",
            "_view_name": "StyleView",
            "description_width": ""
          }
        },
        "3870d7b30fde4b8baca5033c94ae697a": {
          "model_module": "@jupyter-widgets/base",
          "model_name": "LayoutModel",
          "model_module_version": "1.2.0",
          "state": {
            "_model_module": "@jupyter-widgets/base",
            "_model_module_version": "1.2.0",
            "_model_name": "LayoutModel",
            "_view_count": null,
            "_view_module": "@jupyter-widgets/base",
            "_view_module_version": "1.2.0",
            "_view_name": "LayoutView",
            "align_content": null,
            "align_items": null,
            "align_self": null,
            "border": null,
            "bottom": null,
            "display": null,
            "flex": null,
            "flex_flow": null,
            "grid_area": null,
            "grid_auto_columns": null,
            "grid_auto_flow": null,
            "grid_auto_rows": null,
            "grid_column": null,
            "grid_gap": null,
            "grid_row": null,
            "grid_template_areas": null,
            "grid_template_columns": null,
            "grid_template_rows": null,
            "height": null,
            "justify_content": null,
            "justify_items": null,
            "left": null,
            "margin": null,
            "max_height": null,
            "max_width": null,
            "min_height": null,
            "min_width": null,
            "object_fit": null,
            "object_position": null,
            "order": null,
            "overflow": null,
            "overflow_x": null,
            "overflow_y": null,
            "padding": null,
            "right": null,
            "top": null,
            "visibility": null,
            "width": null
          }
        },
        "dc12e6c770424fa5afa2798fe7de48c9": {
          "model_module": "@jupyter-widgets/controls",
          "model_name": "ProgressStyleModel",
          "model_module_version": "1.5.0",
          "state": {
            "_model_module": "@jupyter-widgets/controls",
            "_model_module_version": "1.5.0",
            "_model_name": "ProgressStyleModel",
            "_view_count": null,
            "_view_module": "@jupyter-widgets/base",
            "_view_module_version": "1.2.0",
            "_view_name": "StyleView",
            "bar_color": null,
            "description_width": ""
          }
        },
        "d28ce887e1ad4ebf9b9227467128d875": {
          "model_module": "@jupyter-widgets/base",
          "model_name": "LayoutModel",
          "model_module_version": "1.2.0",
          "state": {
            "_model_module": "@jupyter-widgets/base",
            "_model_module_version": "1.2.0",
            "_model_name": "LayoutModel",
            "_view_count": null,
            "_view_module": "@jupyter-widgets/base",
            "_view_module_version": "1.2.0",
            "_view_name": "LayoutView",
            "align_content": null,
            "align_items": null,
            "align_self": null,
            "border": null,
            "bottom": null,
            "display": null,
            "flex": null,
            "flex_flow": null,
            "grid_area": null,
            "grid_auto_columns": null,
            "grid_auto_flow": null,
            "grid_auto_rows": null,
            "grid_column": null,
            "grid_gap": null,
            "grid_row": null,
            "grid_template_areas": null,
            "grid_template_columns": null,
            "grid_template_rows": null,
            "height": null,
            "justify_content": null,
            "justify_items": null,
            "left": null,
            "margin": null,
            "max_height": null,
            "max_width": null,
            "min_height": null,
            "min_width": null,
            "object_fit": null,
            "object_position": null,
            "order": null,
            "overflow": null,
            "overflow_x": null,
            "overflow_y": null,
            "padding": null,
            "right": null,
            "top": null,
            "visibility": null,
            "width": null
          }
        },
        "cdb10fcf041641cab45a7674c17f9694": {
          "model_module": "@jupyter-widgets/controls",
          "model_name": "DescriptionStyleModel",
          "model_module_version": "1.5.0",
          "state": {
            "_model_module": "@jupyter-widgets/controls",
            "_model_module_version": "1.5.0",
            "_model_name": "DescriptionStyleModel",
            "_view_count": null,
            "_view_module": "@jupyter-widgets/base",
            "_view_module_version": "1.2.0",
            "_view_name": "StyleView",
            "description_width": ""
          }
        },
        "ff974c37ba4848feb984a23a8fd0c423": {
          "model_module": "@jupyter-widgets/controls",
          "model_name": "HBoxModel",
          "model_module_version": "1.5.0",
          "state": {
            "_dom_classes": [],
            "_model_module": "@jupyter-widgets/controls",
            "_model_module_version": "1.5.0",
            "_model_name": "HBoxModel",
            "_view_count": null,
            "_view_module": "@jupyter-widgets/controls",
            "_view_module_version": "1.5.0",
            "_view_name": "HBoxView",
            "box_style": "",
            "children": [
              "IPY_MODEL_24c1cb9bf5f7450d8886d8908027a0b5",
              "IPY_MODEL_cf0c983c4cbc43189c8ce357251cd4e7",
              "IPY_MODEL_ba67ed52ef1e4a0c8cbd24253887cb31"
            ],
            "layout": "IPY_MODEL_97781caaa03a4c338dc30aaefbeab2ac"
          }
        },
        "24c1cb9bf5f7450d8886d8908027a0b5": {
          "model_module": "@jupyter-widgets/controls",
          "model_name": "HTMLModel",
          "model_module_version": "1.5.0",
          "state": {
            "_dom_classes": [],
            "_model_module": "@jupyter-widgets/controls",
            "_model_module_version": "1.5.0",
            "_model_name": "HTMLModel",
            "_view_count": null,
            "_view_module": "@jupyter-widgets/controls",
            "_view_module_version": "1.5.0",
            "_view_name": "HTMLView",
            "description": "",
            "description_tooltip": null,
            "layout": "IPY_MODEL_2684b8ce4de8452b81b46b37f432917d",
            "placeholder": "​",
            "style": "IPY_MODEL_bd2200aabf654e6b98a7165c35103ddd",
            "value": "Downloading (…)okenizer_config.json: 100%"
          }
        },
        "cf0c983c4cbc43189c8ce357251cd4e7": {
          "model_module": "@jupyter-widgets/controls",
          "model_name": "FloatProgressModel",
          "model_module_version": "1.5.0",
          "state": {
            "_dom_classes": [],
            "_model_module": "@jupyter-widgets/controls",
            "_model_module_version": "1.5.0",
            "_model_name": "FloatProgressModel",
            "_view_count": null,
            "_view_module": "@jupyter-widgets/controls",
            "_view_module_version": "1.5.0",
            "_view_name": "ProgressView",
            "bar_style": "success",
            "description": "",
            "description_tooltip": null,
            "layout": "IPY_MODEL_d4d201e38519497e90dbb12cf8b9cd62",
            "max": 28,
            "min": 0,
            "orientation": "horizontal",
            "style": "IPY_MODEL_eaaa8af941b747b9800e8ec3dec353f7",
            "value": 28
          }
        },
        "ba67ed52ef1e4a0c8cbd24253887cb31": {
          "model_module": "@jupyter-widgets/controls",
          "model_name": "HTMLModel",
          "model_module_version": "1.5.0",
          "state": {
            "_dom_classes": [],
            "_model_module": "@jupyter-widgets/controls",
            "_model_module_version": "1.5.0",
            "_model_name": "HTMLModel",
            "_view_count": null,
            "_view_module": "@jupyter-widgets/controls",
            "_view_module_version": "1.5.0",
            "_view_name": "HTMLView",
            "description": "",
            "description_tooltip": null,
            "layout": "IPY_MODEL_956752fdbbaa415d92de7cc640979750",
            "placeholder": "​",
            "style": "IPY_MODEL_ecb60994d2e045e2b4a25b5d58091369",
            "value": " 28.0/28.0 [00:00&lt;00:00, 1.05kB/s]"
          }
        },
        "97781caaa03a4c338dc30aaefbeab2ac": {
          "model_module": "@jupyter-widgets/base",
          "model_name": "LayoutModel",
          "model_module_version": "1.2.0",
          "state": {
            "_model_module": "@jupyter-widgets/base",
            "_model_module_version": "1.2.0",
            "_model_name": "LayoutModel",
            "_view_count": null,
            "_view_module": "@jupyter-widgets/base",
            "_view_module_version": "1.2.0",
            "_view_name": "LayoutView",
            "align_content": null,
            "align_items": null,
            "align_self": null,
            "border": null,
            "bottom": null,
            "display": null,
            "flex": null,
            "flex_flow": null,
            "grid_area": null,
            "grid_auto_columns": null,
            "grid_auto_flow": null,
            "grid_auto_rows": null,
            "grid_column": null,
            "grid_gap": null,
            "grid_row": null,
            "grid_template_areas": null,
            "grid_template_columns": null,
            "grid_template_rows": null,
            "height": null,
            "justify_content": null,
            "justify_items": null,
            "left": null,
            "margin": null,
            "max_height": null,
            "max_width": null,
            "min_height": null,
            "min_width": null,
            "object_fit": null,
            "object_position": null,
            "order": null,
            "overflow": null,
            "overflow_x": null,
            "overflow_y": null,
            "padding": null,
            "right": null,
            "top": null,
            "visibility": null,
            "width": null
          }
        },
        "2684b8ce4de8452b81b46b37f432917d": {
          "model_module": "@jupyter-widgets/base",
          "model_name": "LayoutModel",
          "model_module_version": "1.2.0",
          "state": {
            "_model_module": "@jupyter-widgets/base",
            "_model_module_version": "1.2.0",
            "_model_name": "LayoutModel",
            "_view_count": null,
            "_view_module": "@jupyter-widgets/base",
            "_view_module_version": "1.2.0",
            "_view_name": "LayoutView",
            "align_content": null,
            "align_items": null,
            "align_self": null,
            "border": null,
            "bottom": null,
            "display": null,
            "flex": null,
            "flex_flow": null,
            "grid_area": null,
            "grid_auto_columns": null,
            "grid_auto_flow": null,
            "grid_auto_rows": null,
            "grid_column": null,
            "grid_gap": null,
            "grid_row": null,
            "grid_template_areas": null,
            "grid_template_columns": null,
            "grid_template_rows": null,
            "height": null,
            "justify_content": null,
            "justify_items": null,
            "left": null,
            "margin": null,
            "max_height": null,
            "max_width": null,
            "min_height": null,
            "min_width": null,
            "object_fit": null,
            "object_position": null,
            "order": null,
            "overflow": null,
            "overflow_x": null,
            "overflow_y": null,
            "padding": null,
            "right": null,
            "top": null,
            "visibility": null,
            "width": null
          }
        },
        "bd2200aabf654e6b98a7165c35103ddd": {
          "model_module": "@jupyter-widgets/controls",
          "model_name": "DescriptionStyleModel",
          "model_module_version": "1.5.0",
          "state": {
            "_model_module": "@jupyter-widgets/controls",
            "_model_module_version": "1.5.0",
            "_model_name": "DescriptionStyleModel",
            "_view_count": null,
            "_view_module": "@jupyter-widgets/base",
            "_view_module_version": "1.2.0",
            "_view_name": "StyleView",
            "description_width": ""
          }
        },
        "d4d201e38519497e90dbb12cf8b9cd62": {
          "model_module": "@jupyter-widgets/base",
          "model_name": "LayoutModel",
          "model_module_version": "1.2.0",
          "state": {
            "_model_module": "@jupyter-widgets/base",
            "_model_module_version": "1.2.0",
            "_model_name": "LayoutModel",
            "_view_count": null,
            "_view_module": "@jupyter-widgets/base",
            "_view_module_version": "1.2.0",
            "_view_name": "LayoutView",
            "align_content": null,
            "align_items": null,
            "align_self": null,
            "border": null,
            "bottom": null,
            "display": null,
            "flex": null,
            "flex_flow": null,
            "grid_area": null,
            "grid_auto_columns": null,
            "grid_auto_flow": null,
            "grid_auto_rows": null,
            "grid_column": null,
            "grid_gap": null,
            "grid_row": null,
            "grid_template_areas": null,
            "grid_template_columns": null,
            "grid_template_rows": null,
            "height": null,
            "justify_content": null,
            "justify_items": null,
            "left": null,
            "margin": null,
            "max_height": null,
            "max_width": null,
            "min_height": null,
            "min_width": null,
            "object_fit": null,
            "object_position": null,
            "order": null,
            "overflow": null,
            "overflow_x": null,
            "overflow_y": null,
            "padding": null,
            "right": null,
            "top": null,
            "visibility": null,
            "width": null
          }
        },
        "eaaa8af941b747b9800e8ec3dec353f7": {
          "model_module": "@jupyter-widgets/controls",
          "model_name": "ProgressStyleModel",
          "model_module_version": "1.5.0",
          "state": {
            "_model_module": "@jupyter-widgets/controls",
            "_model_module_version": "1.5.0",
            "_model_name": "ProgressStyleModel",
            "_view_count": null,
            "_view_module": "@jupyter-widgets/base",
            "_view_module_version": "1.2.0",
            "_view_name": "StyleView",
            "bar_color": null,
            "description_width": ""
          }
        },
        "956752fdbbaa415d92de7cc640979750": {
          "model_module": "@jupyter-widgets/base",
          "model_name": "LayoutModel",
          "model_module_version": "1.2.0",
          "state": {
            "_model_module": "@jupyter-widgets/base",
            "_model_module_version": "1.2.0",
            "_model_name": "LayoutModel",
            "_view_count": null,
            "_view_module": "@jupyter-widgets/base",
            "_view_module_version": "1.2.0",
            "_view_name": "LayoutView",
            "align_content": null,
            "align_items": null,
            "align_self": null,
            "border": null,
            "bottom": null,
            "display": null,
            "flex": null,
            "flex_flow": null,
            "grid_area": null,
            "grid_auto_columns": null,
            "grid_auto_flow": null,
            "grid_auto_rows": null,
            "grid_column": null,
            "grid_gap": null,
            "grid_row": null,
            "grid_template_areas": null,
            "grid_template_columns": null,
            "grid_template_rows": null,
            "height": null,
            "justify_content": null,
            "justify_items": null,
            "left": null,
            "margin": null,
            "max_height": null,
            "max_width": null,
            "min_height": null,
            "min_width": null,
            "object_fit": null,
            "object_position": null,
            "order": null,
            "overflow": null,
            "overflow_x": null,
            "overflow_y": null,
            "padding": null,
            "right": null,
            "top": null,
            "visibility": null,
            "width": null
          }
        },
        "ecb60994d2e045e2b4a25b5d58091369": {
          "model_module": "@jupyter-widgets/controls",
          "model_name": "DescriptionStyleModel",
          "model_module_version": "1.5.0",
          "state": {
            "_model_module": "@jupyter-widgets/controls",
            "_model_module_version": "1.5.0",
            "_model_name": "DescriptionStyleModel",
            "_view_count": null,
            "_view_module": "@jupyter-widgets/base",
            "_view_module_version": "1.2.0",
            "_view_name": "StyleView",
            "description_width": ""
          }
        },
        "deedce14bb3c44029d40a121d043295c": {
          "model_module": "@jupyter-widgets/controls",
          "model_name": "HBoxModel",
          "model_module_version": "1.5.0",
          "state": {
            "_dom_classes": [],
            "_model_module": "@jupyter-widgets/controls",
            "_model_module_version": "1.5.0",
            "_model_name": "HBoxModel",
            "_view_count": null,
            "_view_module": "@jupyter-widgets/controls",
            "_view_module_version": "1.5.0",
            "_view_name": "HBoxView",
            "box_style": "",
            "children": [
              "IPY_MODEL_7d3ac7a93901432cb13e27a53bc1e053",
              "IPY_MODEL_72b573a812ba496dabc9a99272a1d6b5",
              "IPY_MODEL_f88a4f664a0341fb8c79f539922da351"
            ],
            "layout": "IPY_MODEL_42a3e5cc436f4e19a63705b23a229520"
          }
        },
        "7d3ac7a93901432cb13e27a53bc1e053": {
          "model_module": "@jupyter-widgets/controls",
          "model_name": "HTMLModel",
          "model_module_version": "1.5.0",
          "state": {
            "_dom_classes": [],
            "_model_module": "@jupyter-widgets/controls",
            "_model_module_version": "1.5.0",
            "_model_name": "HTMLModel",
            "_view_count": null,
            "_view_module": "@jupyter-widgets/controls",
            "_view_module_version": "1.5.0",
            "_view_name": "HTMLView",
            "description": "",
            "description_tooltip": null,
            "layout": "IPY_MODEL_82a668d8a6234043a97958ff193dea77",
            "placeholder": "​",
            "style": "IPY_MODEL_6d16958869b341c4bbb699aca2505722",
            "value": "Downloading (…)lve/main/config.json: 100%"
          }
        },
        "72b573a812ba496dabc9a99272a1d6b5": {
          "model_module": "@jupyter-widgets/controls",
          "model_name": "FloatProgressModel",
          "model_module_version": "1.5.0",
          "state": {
            "_dom_classes": [],
            "_model_module": "@jupyter-widgets/controls",
            "_model_module_version": "1.5.0",
            "_model_name": "FloatProgressModel",
            "_view_count": null,
            "_view_module": "@jupyter-widgets/controls",
            "_view_module_version": "1.5.0",
            "_view_name": "ProgressView",
            "bar_style": "success",
            "description": "",
            "description_tooltip": null,
            "layout": "IPY_MODEL_c8a968b9d02c4fcf924099070b571d38",
            "max": 570,
            "min": 0,
            "orientation": "horizontal",
            "style": "IPY_MODEL_812c4d9a34a14d0b81245604d1b5fc8d",
            "value": 570
          }
        },
        "f88a4f664a0341fb8c79f539922da351": {
          "model_module": "@jupyter-widgets/controls",
          "model_name": "HTMLModel",
          "model_module_version": "1.5.0",
          "state": {
            "_dom_classes": [],
            "_model_module": "@jupyter-widgets/controls",
            "_model_module_version": "1.5.0",
            "_model_name": "HTMLModel",
            "_view_count": null,
            "_view_module": "@jupyter-widgets/controls",
            "_view_module_version": "1.5.0",
            "_view_name": "HTMLView",
            "description": "",
            "description_tooltip": null,
            "layout": "IPY_MODEL_b112ed0b8be14c9fb5b1162e6832805c",
            "placeholder": "​",
            "style": "IPY_MODEL_207bc1ec17d04284a8d6c56089cb1e42",
            "value": " 570/570 [00:00&lt;00:00, 18.5kB/s]"
          }
        },
        "42a3e5cc436f4e19a63705b23a229520": {
          "model_module": "@jupyter-widgets/base",
          "model_name": "LayoutModel",
          "model_module_version": "1.2.0",
          "state": {
            "_model_module": "@jupyter-widgets/base",
            "_model_module_version": "1.2.0",
            "_model_name": "LayoutModel",
            "_view_count": null,
            "_view_module": "@jupyter-widgets/base",
            "_view_module_version": "1.2.0",
            "_view_name": "LayoutView",
            "align_content": null,
            "align_items": null,
            "align_self": null,
            "border": null,
            "bottom": null,
            "display": null,
            "flex": null,
            "flex_flow": null,
            "grid_area": null,
            "grid_auto_columns": null,
            "grid_auto_flow": null,
            "grid_auto_rows": null,
            "grid_column": null,
            "grid_gap": null,
            "grid_row": null,
            "grid_template_areas": null,
            "grid_template_columns": null,
            "grid_template_rows": null,
            "height": null,
            "justify_content": null,
            "justify_items": null,
            "left": null,
            "margin": null,
            "max_height": null,
            "max_width": null,
            "min_height": null,
            "min_width": null,
            "object_fit": null,
            "object_position": null,
            "order": null,
            "overflow": null,
            "overflow_x": null,
            "overflow_y": null,
            "padding": null,
            "right": null,
            "top": null,
            "visibility": null,
            "width": null
          }
        },
        "82a668d8a6234043a97958ff193dea77": {
          "model_module": "@jupyter-widgets/base",
          "model_name": "LayoutModel",
          "model_module_version": "1.2.0",
          "state": {
            "_model_module": "@jupyter-widgets/base",
            "_model_module_version": "1.2.0",
            "_model_name": "LayoutModel",
            "_view_count": null,
            "_view_module": "@jupyter-widgets/base",
            "_view_module_version": "1.2.0",
            "_view_name": "LayoutView",
            "align_content": null,
            "align_items": null,
            "align_self": null,
            "border": null,
            "bottom": null,
            "display": null,
            "flex": null,
            "flex_flow": null,
            "grid_area": null,
            "grid_auto_columns": null,
            "grid_auto_flow": null,
            "grid_auto_rows": null,
            "grid_column": null,
            "grid_gap": null,
            "grid_row": null,
            "grid_template_areas": null,
            "grid_template_columns": null,
            "grid_template_rows": null,
            "height": null,
            "justify_content": null,
            "justify_items": null,
            "left": null,
            "margin": null,
            "max_height": null,
            "max_width": null,
            "min_height": null,
            "min_width": null,
            "object_fit": null,
            "object_position": null,
            "order": null,
            "overflow": null,
            "overflow_x": null,
            "overflow_y": null,
            "padding": null,
            "right": null,
            "top": null,
            "visibility": null,
            "width": null
          }
        },
        "6d16958869b341c4bbb699aca2505722": {
          "model_module": "@jupyter-widgets/controls",
          "model_name": "DescriptionStyleModel",
          "model_module_version": "1.5.0",
          "state": {
            "_model_module": "@jupyter-widgets/controls",
            "_model_module_version": "1.5.0",
            "_model_name": "DescriptionStyleModel",
            "_view_count": null,
            "_view_module": "@jupyter-widgets/base",
            "_view_module_version": "1.2.0",
            "_view_name": "StyleView",
            "description_width": ""
          }
        },
        "c8a968b9d02c4fcf924099070b571d38": {
          "model_module": "@jupyter-widgets/base",
          "model_name": "LayoutModel",
          "model_module_version": "1.2.0",
          "state": {
            "_model_module": "@jupyter-widgets/base",
            "_model_module_version": "1.2.0",
            "_model_name": "LayoutModel",
            "_view_count": null,
            "_view_module": "@jupyter-widgets/base",
            "_view_module_version": "1.2.0",
            "_view_name": "LayoutView",
            "align_content": null,
            "align_items": null,
            "align_self": null,
            "border": null,
            "bottom": null,
            "display": null,
            "flex": null,
            "flex_flow": null,
            "grid_area": null,
            "grid_auto_columns": null,
            "grid_auto_flow": null,
            "grid_auto_rows": null,
            "grid_column": null,
            "grid_gap": null,
            "grid_row": null,
            "grid_template_areas": null,
            "grid_template_columns": null,
            "grid_template_rows": null,
            "height": null,
            "justify_content": null,
            "justify_items": null,
            "left": null,
            "margin": null,
            "max_height": null,
            "max_width": null,
            "min_height": null,
            "min_width": null,
            "object_fit": null,
            "object_position": null,
            "order": null,
            "overflow": null,
            "overflow_x": null,
            "overflow_y": null,
            "padding": null,
            "right": null,
            "top": null,
            "visibility": null,
            "width": null
          }
        },
        "812c4d9a34a14d0b81245604d1b5fc8d": {
          "model_module": "@jupyter-widgets/controls",
          "model_name": "ProgressStyleModel",
          "model_module_version": "1.5.0",
          "state": {
            "_model_module": "@jupyter-widgets/controls",
            "_model_module_version": "1.5.0",
            "_model_name": "ProgressStyleModel",
            "_view_count": null,
            "_view_module": "@jupyter-widgets/base",
            "_view_module_version": "1.2.0",
            "_view_name": "StyleView",
            "bar_color": null,
            "description_width": ""
          }
        },
        "b112ed0b8be14c9fb5b1162e6832805c": {
          "model_module": "@jupyter-widgets/base",
          "model_name": "LayoutModel",
          "model_module_version": "1.2.0",
          "state": {
            "_model_module": "@jupyter-widgets/base",
            "_model_module_version": "1.2.0",
            "_model_name": "LayoutModel",
            "_view_count": null,
            "_view_module": "@jupyter-widgets/base",
            "_view_module_version": "1.2.0",
            "_view_name": "LayoutView",
            "align_content": null,
            "align_items": null,
            "align_self": null,
            "border": null,
            "bottom": null,
            "display": null,
            "flex": null,
            "flex_flow": null,
            "grid_area": null,
            "grid_auto_columns": null,
            "grid_auto_flow": null,
            "grid_auto_rows": null,
            "grid_column": null,
            "grid_gap": null,
            "grid_row": null,
            "grid_template_areas": null,
            "grid_template_columns": null,
            "grid_template_rows": null,
            "height": null,
            "justify_content": null,
            "justify_items": null,
            "left": null,
            "margin": null,
            "max_height": null,
            "max_width": null,
            "min_height": null,
            "min_width": null,
            "object_fit": null,
            "object_position": null,
            "order": null,
            "overflow": null,
            "overflow_x": null,
            "overflow_y": null,
            "padding": null,
            "right": null,
            "top": null,
            "visibility": null,
            "width": null
          }
        },
        "207bc1ec17d04284a8d6c56089cb1e42": {
          "model_module": "@jupyter-widgets/controls",
          "model_name": "DescriptionStyleModel",
          "model_module_version": "1.5.0",
          "state": {
            "_model_module": "@jupyter-widgets/controls",
            "_model_module_version": "1.5.0",
            "_model_name": "DescriptionStyleModel",
            "_view_count": null,
            "_view_module": "@jupyter-widgets/base",
            "_view_module_version": "1.2.0",
            "_view_name": "StyleView",
            "description_width": ""
          }
        },
        "b2f64990a63c4828ba37b992933d21bd": {
          "model_module": "@jupyter-widgets/controls",
          "model_name": "HBoxModel",
          "model_module_version": "1.5.0",
          "state": {
            "_dom_classes": [],
            "_model_module": "@jupyter-widgets/controls",
            "_model_module_version": "1.5.0",
            "_model_name": "HBoxModel",
            "_view_count": null,
            "_view_module": "@jupyter-widgets/controls",
            "_view_module_version": "1.5.0",
            "_view_name": "HBoxView",
            "box_style": "",
            "children": [
              "IPY_MODEL_5d50c5d4677943d2adf2c534c1722d08",
              "IPY_MODEL_c8acdc08abc8432ab5d68e289a9a2e67",
              "IPY_MODEL_298181193ca2449a83e6306c9bf3342c"
            ],
            "layout": "IPY_MODEL_ba1734351d444935bae59ca3134d86eb"
          }
        },
        "5d50c5d4677943d2adf2c534c1722d08": {
          "model_module": "@jupyter-widgets/controls",
          "model_name": "HTMLModel",
          "model_module_version": "1.5.0",
          "state": {
            "_dom_classes": [],
            "_model_module": "@jupyter-widgets/controls",
            "_model_module_version": "1.5.0",
            "_model_name": "HTMLModel",
            "_view_count": null,
            "_view_module": "@jupyter-widgets/controls",
            "_view_module_version": "1.5.0",
            "_view_name": "HTMLView",
            "description": "",
            "description_tooltip": null,
            "layout": "IPY_MODEL_d2bc5278aeb349ee9f52e74f3e9d28e4",
            "placeholder": "​",
            "style": "IPY_MODEL_39777b366fc34f469886adec196d5e86",
            "value": "Downloading model.safetensors: 100%"
          }
        },
        "c8acdc08abc8432ab5d68e289a9a2e67": {
          "model_module": "@jupyter-widgets/controls",
          "model_name": "FloatProgressModel",
          "model_module_version": "1.5.0",
          "state": {
            "_dom_classes": [],
            "_model_module": "@jupyter-widgets/controls",
            "_model_module_version": "1.5.0",
            "_model_name": "FloatProgressModel",
            "_view_count": null,
            "_view_module": "@jupyter-widgets/controls",
            "_view_module_version": "1.5.0",
            "_view_name": "ProgressView",
            "bar_style": "success",
            "description": "",
            "description_tooltip": null,
            "layout": "IPY_MODEL_eb72ad2ec8534b39bab632966fb5dc4d",
            "max": 440449768,
            "min": 0,
            "orientation": "horizontal",
            "style": "IPY_MODEL_14b7678ea7c74a368a48efd1151d2a8a",
            "value": 440449768
          }
        },
        "298181193ca2449a83e6306c9bf3342c": {
          "model_module": "@jupyter-widgets/controls",
          "model_name": "HTMLModel",
          "model_module_version": "1.5.0",
          "state": {
            "_dom_classes": [],
            "_model_module": "@jupyter-widgets/controls",
            "_model_module_version": "1.5.0",
            "_model_name": "HTMLModel",
            "_view_count": null,
            "_view_module": "@jupyter-widgets/controls",
            "_view_module_version": "1.5.0",
            "_view_name": "HTMLView",
            "description": "",
            "description_tooltip": null,
            "layout": "IPY_MODEL_70bc230740844198abee83808cfd77b9",
            "placeholder": "​",
            "style": "IPY_MODEL_983979207c9b4b0e9ed771243483ec47",
            "value": " 440M/440M [00:02&lt;00:00, 198MB/s]"
          }
        },
        "ba1734351d444935bae59ca3134d86eb": {
          "model_module": "@jupyter-widgets/base",
          "model_name": "LayoutModel",
          "model_module_version": "1.2.0",
          "state": {
            "_model_module": "@jupyter-widgets/base",
            "_model_module_version": "1.2.0",
            "_model_name": "LayoutModel",
            "_view_count": null,
            "_view_module": "@jupyter-widgets/base",
            "_view_module_version": "1.2.0",
            "_view_name": "LayoutView",
            "align_content": null,
            "align_items": null,
            "align_self": null,
            "border": null,
            "bottom": null,
            "display": null,
            "flex": null,
            "flex_flow": null,
            "grid_area": null,
            "grid_auto_columns": null,
            "grid_auto_flow": null,
            "grid_auto_rows": null,
            "grid_column": null,
            "grid_gap": null,
            "grid_row": null,
            "grid_template_areas": null,
            "grid_template_columns": null,
            "grid_template_rows": null,
            "height": null,
            "justify_content": null,
            "justify_items": null,
            "left": null,
            "margin": null,
            "max_height": null,
            "max_width": null,
            "min_height": null,
            "min_width": null,
            "object_fit": null,
            "object_position": null,
            "order": null,
            "overflow": null,
            "overflow_x": null,
            "overflow_y": null,
            "padding": null,
            "right": null,
            "top": null,
            "visibility": null,
            "width": null
          }
        },
        "d2bc5278aeb349ee9f52e74f3e9d28e4": {
          "model_module": "@jupyter-widgets/base",
          "model_name": "LayoutModel",
          "model_module_version": "1.2.0",
          "state": {
            "_model_module": "@jupyter-widgets/base",
            "_model_module_version": "1.2.0",
            "_model_name": "LayoutModel",
            "_view_count": null,
            "_view_module": "@jupyter-widgets/base",
            "_view_module_version": "1.2.0",
            "_view_name": "LayoutView",
            "align_content": null,
            "align_items": null,
            "align_self": null,
            "border": null,
            "bottom": null,
            "display": null,
            "flex": null,
            "flex_flow": null,
            "grid_area": null,
            "grid_auto_columns": null,
            "grid_auto_flow": null,
            "grid_auto_rows": null,
            "grid_column": null,
            "grid_gap": null,
            "grid_row": null,
            "grid_template_areas": null,
            "grid_template_columns": null,
            "grid_template_rows": null,
            "height": null,
            "justify_content": null,
            "justify_items": null,
            "left": null,
            "margin": null,
            "max_height": null,
            "max_width": null,
            "min_height": null,
            "min_width": null,
            "object_fit": null,
            "object_position": null,
            "order": null,
            "overflow": null,
            "overflow_x": null,
            "overflow_y": null,
            "padding": null,
            "right": null,
            "top": null,
            "visibility": null,
            "width": null
          }
        },
        "39777b366fc34f469886adec196d5e86": {
          "model_module": "@jupyter-widgets/controls",
          "model_name": "DescriptionStyleModel",
          "model_module_version": "1.5.0",
          "state": {
            "_model_module": "@jupyter-widgets/controls",
            "_model_module_version": "1.5.0",
            "_model_name": "DescriptionStyleModel",
            "_view_count": null,
            "_view_module": "@jupyter-widgets/base",
            "_view_module_version": "1.2.0",
            "_view_name": "StyleView",
            "description_width": ""
          }
        },
        "eb72ad2ec8534b39bab632966fb5dc4d": {
          "model_module": "@jupyter-widgets/base",
          "model_name": "LayoutModel",
          "model_module_version": "1.2.0",
          "state": {
            "_model_module": "@jupyter-widgets/base",
            "_model_module_version": "1.2.0",
            "_model_name": "LayoutModel",
            "_view_count": null,
            "_view_module": "@jupyter-widgets/base",
            "_view_module_version": "1.2.0",
            "_view_name": "LayoutView",
            "align_content": null,
            "align_items": null,
            "align_self": null,
            "border": null,
            "bottom": null,
            "display": null,
            "flex": null,
            "flex_flow": null,
            "grid_area": null,
            "grid_auto_columns": null,
            "grid_auto_flow": null,
            "grid_auto_rows": null,
            "grid_column": null,
            "grid_gap": null,
            "grid_row": null,
            "grid_template_areas": null,
            "grid_template_columns": null,
            "grid_template_rows": null,
            "height": null,
            "justify_content": null,
            "justify_items": null,
            "left": null,
            "margin": null,
            "max_height": null,
            "max_width": null,
            "min_height": null,
            "min_width": null,
            "object_fit": null,
            "object_position": null,
            "order": null,
            "overflow": null,
            "overflow_x": null,
            "overflow_y": null,
            "padding": null,
            "right": null,
            "top": null,
            "visibility": null,
            "width": null
          }
        },
        "14b7678ea7c74a368a48efd1151d2a8a": {
          "model_module": "@jupyter-widgets/controls",
          "model_name": "ProgressStyleModel",
          "model_module_version": "1.5.0",
          "state": {
            "_model_module": "@jupyter-widgets/controls",
            "_model_module_version": "1.5.0",
            "_model_name": "ProgressStyleModel",
            "_view_count": null,
            "_view_module": "@jupyter-widgets/base",
            "_view_module_version": "1.2.0",
            "_view_name": "StyleView",
            "bar_color": null,
            "description_width": ""
          }
        },
        "70bc230740844198abee83808cfd77b9": {
          "model_module": "@jupyter-widgets/base",
          "model_name": "LayoutModel",
          "model_module_version": "1.2.0",
          "state": {
            "_model_module": "@jupyter-widgets/base",
            "_model_module_version": "1.2.0",
            "_model_name": "LayoutModel",
            "_view_count": null,
            "_view_module": "@jupyter-widgets/base",
            "_view_module_version": "1.2.0",
            "_view_name": "LayoutView",
            "align_content": null,
            "align_items": null,
            "align_self": null,
            "border": null,
            "bottom": null,
            "display": null,
            "flex": null,
            "flex_flow": null,
            "grid_area": null,
            "grid_auto_columns": null,
            "grid_auto_flow": null,
            "grid_auto_rows": null,
            "grid_column": null,
            "grid_gap": null,
            "grid_row": null,
            "grid_template_areas": null,
            "grid_template_columns": null,
            "grid_template_rows": null,
            "height": null,
            "justify_content": null,
            "justify_items": null,
            "left": null,
            "margin": null,
            "max_height": null,
            "max_width": null,
            "min_height": null,
            "min_width": null,
            "object_fit": null,
            "object_position": null,
            "order": null,
            "overflow": null,
            "overflow_x": null,
            "overflow_y": null,
            "padding": null,
            "right": null,
            "top": null,
            "visibility": null,
            "width": null
          }
        },
        "983979207c9b4b0e9ed771243483ec47": {
          "model_module": "@jupyter-widgets/controls",
          "model_name": "DescriptionStyleModel",
          "model_module_version": "1.5.0",
          "state": {
            "_model_module": "@jupyter-widgets/controls",
            "_model_module_version": "1.5.0",
            "_model_name": "DescriptionStyleModel",
            "_view_count": null,
            "_view_module": "@jupyter-widgets/base",
            "_view_module_version": "1.2.0",
            "_view_name": "StyleView",
            "description_width": ""
          }
        }
      }
    }
  },
  "nbformat": 4,
  "nbformat_minor": 0
}